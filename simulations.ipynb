{
 "cells": [
  {
   "cell_type": "markdown",
   "metadata": {},
   "source": [
    "#### This simulation aims at evaluating the properties of two estimators for the population benefit of an individual treatment rule $ r $ (SYNTAX 2020)\n",
    "François Grolleau June 24, 2021\n",
    "\n",
    "$$  ARE(r)= \\mathbb{E} [ \\{ r(X) -e(X) \\} \\tau(X) ]  $$\n",
    "\n",
    "$$  \\widehat{ARE}(r)= n^{-1} \\sum_{i=1}^{n} \\{ r(X_i) - A_i \\} \\hat{\\tau}(X_i)  $$\n",
    "\n",
    "$$  ASRE(r)= \\mathbb{E} [ p(X) \\{ r(X) -e(X) \\} \\tau(X) ]  $$\n",
    "\n",
    "$$  \\widehat{ASRE}(r)= n^{-1} \\sum_{i=1}^{n} \\tilde{p}(X_i) \\{ r(X_i) - A_i \\} \\hat{\\tau}(X_i)  $$"
   ]
  },
  {
   "cell_type": "markdown",
   "metadata": {},
   "source": [
    "- In the case of implementation of $ r $ at random with probability $ \\alpha $\n",
    "$$ \\tilde{p}(X_i)=\\alpha $$\n",
    "- In the case of implementation of $ r $ with cognitive bias $ \\alpha \\in [0;1[ $\n",
    "$$ \\tilde{p}(X_i)=(1-|r (X_i) - \\hat{e} (X_i) |)^{ \\frac{1}{2}\\log{ \\frac{\\alpha + 1}{1 - \\alpha} } } $$\n",
    "\n",
    "- In the case of implementation of $ r $ only when  $ (1 - \\alpha) $ confidence interval for the predicted individualized Hazard Ratio does not cross 1\n",
    "$$ \\tilde{p}(X_i)=\\mathbb{1}   { [ \\exp\\{ \\log i_{hr}(X_i) - q_ { 1 - \\alpha /2 } se_{ \\log i_{hr(X_i)}  } \\} -1 ]  [ \\exp\\{ \\log i_{hr}(X_i) + q_ { 1 - \\alpha /2 } se_{ \\log i_{hr(X_i)} } \\} -1 ] } > 0 $$"
   ]
  },
  {
   "cell_type": "code",
   "execution_count": 626,
   "metadata": {},
   "outputs": [],
   "source": [
    "import numpy as np\n",
    "import pandas as pd\n",
    "import scipy.stats as st\n",
    "import matplotlib as mpl\n",
    "mpl.rcParams['figure.dpi'] = 100\n",
    "import matplotlib.pyplot as plt\n",
    "from tableone import TableOne, load_dataset\n",
    "import random\n",
    "from sklearn.ensemble import RandomForestClassifier, RandomForestRegressor\n",
    "import warnings\n",
    "warnings.filterwarnings(\"ignore\", category=DeprecationWarning)\n",
    "pd.options.mode.chained_assignment = None  # default='warn'"
   ]
  },
  {
   "cell_type": "markdown",
   "metadata": {},
   "source": [
    "#### Setting data generation parameters"
   ]
  },
  {
   "cell_type": "code",
   "execution_count": 834,
   "metadata": {},
   "outputs": [],
   "source": [
    "n = 200  # size of each sample\n",
    "sims = 1  # number of repeated samples\n",
    "n_boots = 1000 # number of bootstrap iterations\n",
    "np.random.seed(1015033030)"
   ]
  },
  {
   "cell_type": "markdown",
   "metadata": {},
   "source": [
    "#### Generating data"
   ]
  },
  {
   "cell_type": "code",
   "execution_count": 835,
   "metadata": {},
   "outputs": [],
   "source": [
    "ids = []  # Generating simulation IDs\n",
    "for i in range(sims):\n",
    "    ids.extend([i + 1] * n)\n",
    "\n",
    "df = pd.DataFrame()\n",
    "df['sim_id'] = ids"
   ]
  },
  {
   "cell_type": "code",
   "execution_count": 836,
   "metadata": {},
   "outputs": [],
   "source": [
    "# Creating confounders\n",
    "df['age'] = np.round(np.random.normal(65, 10, size=n * sims), 0)  \n",
    "df['crcl_log'] = np.random.normal(np.log(110), 0.18, size=n * sims) - 0.005 * df['age']\n",
    "df['crcl'] = np.exp(df['crcl_log'])\n",
    "df['diabetes'] = np.random.binomial(n=1, p=st.logistic.cdf(-6.73 + 0.03 * df['crcl_log'] + 0.02 * df['age'] +\n",
    "                                                        0.0009 * df['age'] ** 2), size=n * sims)\n",
    "df['insulin'] = np.where(df['diabetes']==1,\n",
    "                    np.random.binomial(n=1, p=st.logistic.cdf(-4.16 + 0.04 * df['crcl_log'] - 0.02 * df['age'] +\n",
    "                                                        0.0009 * df['age'] ** 2), size=n * sims),\n",
    "                         0)\n",
    "df['lvef'] = np.random.beta(11, 7, size=n * sims)*100 - 0.06 * df['age']\n",
    "df['smoking'] = np.random.binomial(n=1, p=.21, size=n * sims)\n",
    "df['pvd'] = np.random.binomial(n=1, p=st.logistic.cdf(-5.62 + 0.03 * df['smoking'] - 0.02 * df['age'] +\n",
    "                                                        0.0009 * df['age'] ** 2), size=n * sims)\n",
    "df['copd'] = np.random.binomial(n=1, p=st.logistic.cdf(-2.71 + 0.03 * df['smoking'] + 0.01 * df['pvd']), size=n * sims)\n",
    "                                \n",
    "df['tvd_lmcad'] = st.betabinom.rvs(2, .4, .7, loc=0, size=n * sims, random_state=None) #nb 0=3vd only, 1=lmcad only, 2=both\n",
    "\n",
    "# One-hot encoding\n",
    "df['tvd'] = np.where(df['tvd_lmcad']==0, 1, 0)\n",
    "df['lmcad'] = np.where(df['tvd_lmcad']==1, 1, 0)\n",
    "df['both'] = np.where(df['tvd_lmcad']==2, 1, 0)"
   ]
  },
  {
   "cell_type": "markdown",
   "metadata": {},
   "source": [
    "#### Define and run a function that generates anatomical SYNTAX scores"
   ]
  },
  {
   "cell_type": "code",
   "execution_count": 837,
   "metadata": {},
   "outputs": [],
   "source": [
    "def sim_anat_syntax(tvd_lmcad):\n",
    "    \"\"\"simulate anatomic syntax scores from coronary disease type.\"\"\"\n",
    "    from zepid.sensitivity_analysis import trapezoidal\n",
    "    \n",
    "    dummy_mat=np.stack([tvd_lmcad==0, tvd_lmcad==1, tvd_lmcad==2], axis=1)\n",
    "    \n",
    "    tvd=trapezoidal(3,10,10,50, len(tvd_lmcad))\n",
    "    lmcad=trapezoidal(4,20,20,50, len(tvd_lmcad))\n",
    "    both=trapezoidal(7,10,30,60, len(tvd_lmcad))\n",
    "    \n",
    "    return(dummy_mat[:,0]*tvd + dummy_mat[:,1]*lmcad + dummy_mat[:,2]*both)\n",
    "\n",
    "df['syntax']= np.round(sim_anat_syntax(df['tvd_lmcad']))"
   ]
  },
  {
   "cell_type": "markdown",
   "metadata": {},
   "source": [
    "#### Plot the generated anatomical SYNTAX scores"
   ]
  },
  {
   "cell_type": "code",
   "execution_count": 838,
   "metadata": {},
   "outputs": [
    {
     "data": {
      "image/png": "[encoded data removed]",
      "text/plain": [
       "<Figure size 1000x1000 with 1 Axes>"
      ]
     },
     "metadata": {
      "needs_background": "light"
     },
     "output_type": "display_data"
    }
   ],
   "source": [
    "ind_tvd=df['tvd_lmcad']==0\n",
    "ind_lmcad=df['tvd_lmcad']==1\n",
    "ind_both=df['tvd_lmcad']==2\n",
    "\n",
    "plt.figure(figsize=(10,10))\n",
    "plt.hist(df['syntax'], histtype=\"step\", bins=np.linspace(2.5,60.5, 59), label=\"full sample\");\n",
    "plt.hist(df['syntax'][ind_tvd], histtype=\"step\", bins=np.linspace(2.5,60.5, 59), label=\"tvd\");\n",
    "plt.hist(df['syntax'][ind_lmcad], histtype=\"step\", bins=np.linspace(2.5,60.5, 59), label=\"lmcas\");\n",
    "plt.hist(df['syntax'][ind_both], histtype=\"step\", bins=np.linspace(2.5,60.5, 59), label=\"both\");\n",
    "plt.legend();"
   ]
  },
  {
   "cell_type": "markdown",
   "metadata": {},
   "source": [
    "#### Plot LVEFs"
   ]
  },
  {
   "cell_type": "code",
   "execution_count": 839,
   "metadata": {},
   "outputs": [
    {
     "data": {
      "image/png": "[encoded data removed]",
      "text/plain": [
       "<Figure size 600x400 with 1 Axes>"
      ]
     },
     "metadata": {
      "needs_background": "light"
     },
     "output_type": "display_data"
    }
   ],
   "source": [
    "plt.hist(df.lvef, density=True, bins=np.linspace(-.5, 100.5, 102));"
   ]
  },
  {
   "cell_type": "code",
   "execution_count": 840,
   "metadata": {},
   "outputs": [],
   "source": [
    "categorical = ['diabetes','insulin','smoking','pvd','copd','tvd_lmcad']\n",
    "columns = ['age', 'crcl_log', 'diabetes', 'insulin', 'lvef', 'smoking', 'pvd','copd', 'tvd_lmcad']\n",
    "#mytable = TableOne(df.iloc[0:n,:], columns = columns, categorical=categorical)\n",
    "#print(mytable.tabulate(tablefmt=\"github\"))"
   ]
  },
  {
   "cell_type": "markdown",
   "metadata": {},
   "source": [
    "#### Treatment allocation mechanism (True Propensity Score)"
   ]
  },
  {
   "cell_type": "code",
   "execution_count": 841,
   "metadata": {},
   "outputs": [],
   "source": [
    "df['cabg_pr'] = st.logistic.cdf(-2.971\n",
    "                               + 0.049 * (df['age'] - 30)\n",
    "                               - 0.001 * (df['age'] - 30)**2\n",
    "                               + 0.212 * df['crcl_log']\n",
    "                               + 0.973 * np.where(df['crcl_log'] > np.log(100), 1, 0)\n",
    "                               - 0.386 * df['copd']\n",
    "                               # Treatment-assignment based on disease type\n",
    "                               + 1.973 * df['lmcad']\n",
    "                               + 2.973 * df['both']\n",
    "                               )\n",
    "df['cabg'] = np.random.binomial(n=1, p=df['cabg_pr'], size=n*sims)"
   ]
  },
  {
   "cell_type": "markdown",
   "metadata": {},
   "source": [
    "#### Potential outcomes"
   ]
  },
  {
   "cell_type": "markdown",
   "metadata": {},
   "source": [
    "#### Define Syntax 2020 Model for predicting risk of all-cause death at 10 years\n",
    " as defined in Takahashi et al. Lancet 2020. Table 2"
   ]
  },
  {
   "cell_type": "code",
   "execution_count": 842,
   "metadata": {},
   "outputs": [],
   "source": [
    "def syntax2020(age, crcl, lvef, copd, pvd, diabetes, insulin, smoking, tvd, lmcad, syntax, cabg):\n",
    "    return 1-np.exp(-0.243 *np.exp(0.99 * (0.72*age/10 - 0.07 * np.where(crcl<90, crcl ,90)/10 -0.31 * np.where(lvef<50, lvef, 50)/10 + 0.48 * copd + 0.73 * pvd + 0.20 * diabetes \n",
    "                    + 0.46 * insulin + 0.66 * smoking)\n",
    "                    - 0.4 * cabg * tvd - 0.08 * cabg * lmcad - 0.1 * (1 - cabg) * lmcad + .16 * (1-cabg) * (syntax - 29)/10 -2.80))"
   ]
  },
  {
   "cell_type": "markdown",
   "metadata": {},
   "source": [
    "Reproduce first example from Takahashi et al. Lancet 2020\n",
    "- Figure 1, Case 1, PCI scenario"
   ]
  },
  {
   "cell_type": "code",
   "execution_count": 843,
   "metadata": {},
   "outputs": [
    {
     "data": {
      "text/plain": [
       "0.5699878103841629"
      ]
     },
     "execution_count": 843,
     "metadata": {},
     "output_type": "execute_result"
    }
   ],
   "source": [
    "syntax2020(age=74, crcl=38.6, lvef=40, copd=0, pvd=0, diabetes=0, insulin=0, smoking=1, tvd=0, lmcad=1, syntax=11, cabg=0)"
   ]
  },
  {
   "cell_type": "markdown",
   "metadata": {},
   "source": [
    "- Figure 1, Case 1, CABG scenario"
   ]
  },
  {
   "cell_type": "code",
   "execution_count": 844,
   "metadata": {},
   "outputs": [
    {
     "data": {
      "text/plain": [
       "0.6828410898159403"
      ]
     },
     "execution_count": 844,
     "metadata": {},
     "output_type": "execute_result"
    }
   ],
   "source": [
    "syntax2020(age=74, crcl=38.6, lvef=40, copd=0, pvd=0, diabetes=0, insulin=0, smoking=1, tvd=0, lmcad=1, syntax=11, cabg=1)"
   ]
  },
  {
   "cell_type": "code",
   "execution_count": 845,
   "metadata": {},
   "outputs": [
    {
     "data": {
      "text/html": [
       "<div>\n",
       "<style scoped>\n",
       "    .dataframe tbody tr th:only-of-type {\n",
       "        vertical-align: middle;\n",
       "    }\n",
       "\n",
       "    .dataframe tbody tr th {\n",
       "        vertical-align: top;\n",
       "    }\n",
       "\n",
       "    .dataframe thead th {\n",
       "        text-align: right;\n",
       "    }\n",
       "</style>\n",
       "<table border=\"1\" class=\"dataframe\">\n",
       "  <thead>\n",
       "    <tr style=\"text-align: right;\">\n",
       "      <th></th>\n",
       "      <th>sim_id</th>\n",
       "      <th>age</th>\n",
       "      <th>crcl_log</th>\n",
       "      <th>crcl</th>\n",
       "      <th>diabetes</th>\n",
       "      <th>insulin</th>\n",
       "      <th>lvef</th>\n",
       "      <th>smoking</th>\n",
       "      <th>pvd</th>\n",
       "      <th>copd</th>\n",
       "      <th>...</th>\n",
       "      <th>syntax</th>\n",
       "      <th>cabg_pr</th>\n",
       "      <th>cabg</th>\n",
       "      <th>prY1</th>\n",
       "      <th>Y1</th>\n",
       "      <th>prY0</th>\n",
       "      <th>Y0</th>\n",
       "      <th>Y</th>\n",
       "      <th>true_cate</th>\n",
       "      <th>pred_cate</th>\n",
       "    </tr>\n",
       "  </thead>\n",
       "  <tbody>\n",
       "    <tr>\n",
       "      <th>0</th>\n",
       "      <td>1</td>\n",
       "      <td>59.0</td>\n",
       "      <td>4.444117</td>\n",
       "      <td>85.124671</td>\n",
       "      <td>0</td>\n",
       "      <td>0</td>\n",
       "      <td>52.654171</td>\n",
       "      <td>0</td>\n",
       "      <td>0</td>\n",
       "      <td>1</td>\n",
       "      <td>...</td>\n",
       "      <td>33.0</td>\n",
       "      <td>0.757340</td>\n",
       "      <td>1</td>\n",
       "      <td>0.173409</td>\n",
       "      <td>0</td>\n",
       "      <td>0.183749</td>\n",
       "      <td>0</td>\n",
       "      <td>0</td>\n",
       "      <td>-0.010339</td>\n",
       "      <td>-0.010339</td>\n",
       "    </tr>\n",
       "    <tr>\n",
       "      <th>1</th>\n",
       "      <td>1</td>\n",
       "      <td>54.0</td>\n",
       "      <td>4.663699</td>\n",
       "      <td>106.027512</td>\n",
       "      <td>0</td>\n",
       "      <td>0</td>\n",
       "      <td>68.712275</td>\n",
       "      <td>0</td>\n",
       "      <td>0</td>\n",
       "      <td>0</td>\n",
       "      <td>...</td>\n",
       "      <td>9.0</td>\n",
       "      <td>0.399081</td>\n",
       "      <td>1</td>\n",
       "      <td>0.052313</td>\n",
       "      <td>0</td>\n",
       "      <td>0.056544</td>\n",
       "      <td>0</td>\n",
       "      <td>0</td>\n",
       "      <td>-0.004231</td>\n",
       "      <td>-0.004231</td>\n",
       "    </tr>\n",
       "    <tr>\n",
       "      <th>2</th>\n",
       "      <td>1</td>\n",
       "      <td>58.0</td>\n",
       "      <td>4.342253</td>\n",
       "      <td>76.880591</td>\n",
       "      <td>0</td>\n",
       "      <td>0</td>\n",
       "      <td>67.785507</td>\n",
       "      <td>1</td>\n",
       "      <td>0</td>\n",
       "      <td>0</td>\n",
       "      <td>...</td>\n",
       "      <td>10.0</td>\n",
       "      <td>0.819144</td>\n",
       "      <td>1</td>\n",
       "      <td>0.201003</td>\n",
       "      <td>0</td>\n",
       "      <td>0.152593</td>\n",
       "      <td>0</td>\n",
       "      <td>0</td>\n",
       "      <td>0.048410</td>\n",
       "      <td>0.048410</td>\n",
       "    </tr>\n",
       "    <tr>\n",
       "      <th>3</th>\n",
       "      <td>1</td>\n",
       "      <td>60.0</td>\n",
       "      <td>4.222431</td>\n",
       "      <td>68.199096</td>\n",
       "      <td>0</td>\n",
       "      <td>0</td>\n",
       "      <td>62.544451</td>\n",
       "      <td>0</td>\n",
       "      <td>0</td>\n",
       "      <td>0</td>\n",
       "      <td>...</td>\n",
       "      <td>22.0</td>\n",
       "      <td>0.181555</td>\n",
       "      <td>0</td>\n",
       "      <td>0.091396</td>\n",
       "      <td>0</td>\n",
       "      <td>0.120002</td>\n",
       "      <td>0</td>\n",
       "      <td>0</td>\n",
       "      <td>-0.028606</td>\n",
       "      <td>-0.028606</td>\n",
       "    </tr>\n",
       "    <tr>\n",
       "      <th>4</th>\n",
       "      <td>1</td>\n",
       "      <td>56.0</td>\n",
       "      <td>4.260723</td>\n",
       "      <td>70.861187</td>\n",
       "      <td>0</td>\n",
       "      <td>0</td>\n",
       "      <td>59.322031</td>\n",
       "      <td>0</td>\n",
       "      <td>1</td>\n",
       "      <td>0</td>\n",
       "      <td>...</td>\n",
       "      <td>16.0</td>\n",
       "      <td>0.623228</td>\n",
       "      <td>1</td>\n",
       "      <td>0.181852</td>\n",
       "      <td>0</td>\n",
       "      <td>0.147679</td>\n",
       "      <td>1</td>\n",
       "      <td>0</td>\n",
       "      <td>0.034173</td>\n",
       "      <td>0.034173</td>\n",
       "    </tr>\n",
       "  </tbody>\n",
       "</table>\n",
       "<p>5 rows × 24 columns</p>\n",
       "</div>"
      ],
      "text/plain": [
       "   sim_id   age  crcl_log        crcl  diabetes  insulin       lvef  smoking  \\\n",
       "0       1  59.0  4.444117   85.124671         0        0  52.654171        0   \n",
       "1       1  54.0  4.663699  106.027512         0        0  68.712275        0   \n",
       "2       1  58.0  4.342253   76.880591         0        0  67.785507        1   \n",
       "3       1  60.0  4.222431   68.199096         0        0  62.544451        0   \n",
       "4       1  56.0  4.260723   70.861187         0        0  59.322031        0   \n",
       "\n",
       "   pvd  copd  ...  syntax   cabg_pr  cabg      prY1  Y1      prY0  Y0  Y  \\\n",
       "0    0     1  ...    33.0  0.757340     1  0.173409   0  0.183749   0  0   \n",
       "1    0     0  ...     9.0  0.399081     1  0.052313   0  0.056544   0  0   \n",
       "2    0     0  ...    10.0  0.819144     1  0.201003   0  0.152593   0  0   \n",
       "3    0     0  ...    22.0  0.181555     0  0.091396   0  0.120002   0  0   \n",
       "4    1     0  ...    16.0  0.623228     1  0.181852   0  0.147679   1  0   \n",
       "\n",
       "   true_cate  pred_cate  \n",
       "0  -0.010339  -0.010339  \n",
       "1  -0.004231  -0.004231  \n",
       "2   0.048410   0.048410  \n",
       "3  -0.028606  -0.028606  \n",
       "4   0.034173   0.034173  \n",
       "\n",
       "[5 rows x 24 columns]"
      ]
     },
     "execution_count": 845,
     "metadata": {},
     "output_type": "execute_result"
    }
   ],
   "source": [
    "df['prY1'] = df.apply(lambda row : syntax2020(age=row['age'], crcl=np.exp(row['crcl_log']), lvef=row['lvef'],\n",
    "                                copd=row['copd'], pvd=row['pvd'], diabetes=row['diabetes'],\n",
    "                                 insulin=row['insulin'], smoking=row['smoking'], tvd=row['tvd_lmcad']==0,\n",
    "                                 lmcad=row['tvd_lmcad']==1, syntax=row['syntax'],\n",
    "                                 cabg=1), axis = 1)\n",
    "\n",
    "df['Y1'] = np.random.binomial(n=1, p=df['prY1'], size=n*sims)\n",
    "\n",
    "df['prY0'] = df.apply(lambda row : syntax2020(age=row['age'], crcl=np.exp(row['crcl_log']), lvef=row['lvef'],\n",
    "                                copd=row['copd'], pvd=row['pvd'], diabetes=row['diabetes'],\n",
    "                                 insulin=row['insulin'], smoking=row['smoking'], tvd=row['tvd_lmcad']==0,\n",
    "                                 lmcad=row['tvd_lmcad']==1, syntax=row['syntax'],\n",
    "                                 cabg=0), axis = 1)\n",
    "\n",
    "df['Y0'] = np.random.binomial(n=1, p=df['prY0'], size=n*sims)\n",
    "\n",
    "df['Y'] = np.where(df['cabg'] == 1, df['Y1'], df['Y0'])  # causal consistency\n",
    "\n",
    "df['true_cate'] = df['prY1'] - df['prY0']\n",
    "\n",
    "df['pred_cate'] = df['true_cate'] # as in this simulation the true CATEs are those predicted by the SYNTAX 2020 model.\n",
    "df.head()"
   ]
  },
  {
   "cell_type": "code",
   "execution_count": 846,
   "metadata": {},
   "outputs": [
    {
     "name": "stdout",
     "output_type": "stream",
     "text": [
      "|                     |    | Missing   | Overall     | 0           | 1           |\n",
      "|---------------------|----|-----------|-------------|-------------|-------------|\n",
      "| n                   |    |           | 200         | 109         | 91          |\n",
      "| Y, n (%)            | 0  | 0         | 133 (66.5)  | 74 (67.9)   | 59 (64.8)   |\n",
      "|                     | 1  |           | 67 (33.5)   | 35 (32.1)   | 32 (35.2)   |\n",
      "| age, mean (SD)      |    | 0         | 65.3 (11.1) | 66.2 (11.6) | 64.2 (10.4) |\n",
      "| crcl_log, mean (SD) |    | 0         | 4.4 (0.2)   | 4.4 (0.2)   | 4.4 (0.2)   |\n",
      "| diabetes, n (%)     | 0  | 0         | 150 (75.0)  | 82 (75.2)   | 68 (74.7)   |\n",
      "|                     | 1  |           | 50 (25.0)   | 27 (24.8)   | 23 (25.3)   |\n",
      "| insulin, n (%)      | 0  | 0         | 176 (88.0)  | 95 (87.2)   | 81 (89.0)   |\n",
      "|                     | 1  |           | 24 (12.0)   | 14 (12.8)   | 10 (11.0)   |\n",
      "| lvef, mean (SD)     |    | 0         | 57.5 (11.9) | 57.7 (12.1) | 57.4 (11.8) |\n",
      "| smoking, n (%)      | 0  | 0         | 156 (78.0)  | 88 (80.7)   | 68 (74.7)   |\n",
      "|                     | 1  |           | 44 (22.0)   | 21 (19.3)   | 23 (25.3)   |\n",
      "| pvd, n (%)          | 0  | 0         | 176 (88.0)  | 96 (88.1)   | 80 (87.9)   |\n",
      "|                     | 1  |           | 24 (12.0)   | 13 (11.9)   | 11 (12.1)   |\n",
      "| copd, n (%)         | 0  | 0         | 191 (95.5)  | 103 (94.5)  | 88 (96.7)   |\n",
      "|                     | 1  |           | 9 (4.5)     | 6 (5.5)     | 3 (3.3)     |\n",
      "| tvd_lmcad, n (%)    | 0  | 0         | 95 (47.5)   | 79 (72.5)   | 16 (17.6)   |\n",
      "|                     | 1  |           | 51 (25.5)   | 23 (21.1)   | 28 (30.8)   |\n",
      "|                     | 2  |           | 54 (27.0)   | 7 (6.4)     | 47 (51.6)   |\n",
      "| syntax, mean (SD)   |    | 0         | 23.7 (11.7) | 21.8 (11.2) | 26.0 (12.0) |\n"
     ]
    }
   ],
   "source": [
    "categorical = ['Y','diabetes','insulin','smoking','pvd','copd','tvd_lmcad']\n",
    "columns = ['Y', 'age', 'crcl_log', 'diabetes', 'insulin', 'lvef', 'smoking', 'pvd','copd', 'tvd_lmcad', 'syntax']\n",
    "mytable = TableOne(df.iloc[0:n,:], columns = columns, categorical = categorical, groupby = \"cabg\")\n",
    "print(mytable.tabulate(tablefmt=\"github\"))"
   ]
  },
  {
   "cell_type": "markdown",
   "metadata": {},
   "source": [
    "#### Predict individualized HRs with 95% CI for our simulated patients"
   ]
  },
  {
   "cell_type": "code",
   "execution_count": 847,
   "metadata": {},
   "outputs": [],
   "source": [
    "def syntax_iHR_ci(df, alpha=.05):\n",
    "    \"\"\"Get individualized HR and 1-alpha CI from SYNTAX 2020,\n",
    "    Uses table 2 predictive model coefficients and corresponding variance covariance matrix for the coefficients\"\"\"\n",
    "    \n",
    "    coef_mod2=np.array([0.99, -0.40, -0.08, -0.10, 0.16])\n",
    "    VCOV=np.array(  [[3.17E-03, -1.58E-04, -2.68E-04,2.56E-04,-3.78E-04],\n",
    "                     [-1.58E-04,1.53E-02,6.56E-03,6.48E-03,1.45E-04],\n",
    "                     [-2.68E-04,6.56E-03,1.68E-02,6.47E-03,1.62E-04],\n",
    "                     [2.56E-04,6.48E-03,6.47E-03,1.75E-02,-1.08E-03],\n",
    "                     [-3.78E-04,1.45E-04,1.62E-04,-1.08E-03,2.84E-03]])\n",
    "    \n",
    "    X_cabg=np.stack([np.repeat(99,len(df)), 1* (df.tvd_lmcad==0), 1* (df.tvd_lmcad==1), 0 * np.array(df.tvd_lmcad==1), 0 * (df.syntax-29) / 10]).T # NB PIs don't contribute as it cancel out\n",
    "    X_pci=np.stack([np.repeat(99,len(df)), 0* (df.tvd_lmcad==0), 0* (df.tvd_lmcad==1), 1 * np.array(df.tvd_lmcad==1), 1 * (df.syntax-29) / 10]).T # in the substraction (here set at 99)\n",
    "    X_diff=X_cabg-X_pci\n",
    "    log_iHR = X_diff.dot(coef_mod2)\n",
    "    \n",
    "    df_temp = df.copy()\n",
    "    df_temp['pred_hr'] = np.exp(log_iHR)\n",
    "    \n",
    "    log_iHR_se=X_diff.dot(VCOV).dot(X_diff.T).diagonal() # X * VCOV * Xtranspose\n",
    "    \n",
    "    temp = np.stack( [log_iHR, log_iHR-st.norm.ppf(1-alpha/2)*log_iHR_se, log_iHR+st.norm.ppf(1-alpha/2)*log_iHR_se])\n",
    "    iHR_CI = np.exp(temp.T)\n",
    "    df_temp['iHR']= iHR_CI[:,0]\n",
    "    df_temp['iHR_lb']= iHR_CI[:,1]\n",
    "    df_temp['iHR_ub']= iHR_CI[:,2]\n",
    "    \n",
    "    significant = ((df_temp['iHR_lb']<1) == (df_temp['iHR_ub']<1))\n",
    "    \n",
    "    df_temp['significance'] = significant\n",
    "    \n",
    "    return df_temp"
   ]
  },
  {
   "cell_type": "code",
   "execution_count": 848,
   "metadata": {},
   "outputs": [
    {
     "data": {
      "image/png": "[encoded data removed]",
      "text/plain": [
       "<Figure size 500x500 with 1 Axes>"
      ]
     },
     "metadata": {
      "needs_background": "light"
     },
     "output_type": "display_data"
    }
   ],
   "source": [
    "df_1 = df[df.sim_id==1]\n",
    "df_1 = syntax_iHR_ci(df_1)\n",
    "\n",
    "plt.figure(figsize=(5,5))\n",
    "plt.plot([.5,1.4], [0,0], \"b-\", linewidth=1);\n",
    "plt.plot([1,1], [-.25,.15], \"b-\", linewidth=1);\n",
    "plt.plot(df_1['iHR'][df_1['significance']], df_1['true_cate'][df_1['significance']], 'o', markersize=2.5, alpha=.4, label=\"P < .05\");\n",
    "plt.plot(df_1['iHR'][~df_1['significance']], df_1['true_cate'][~df_1['significance']],'ko', markersize=2.5, alpha=.4, label=\"P > .05\");\n",
    "plt.title(\"NB Predicted SYNTAX CATE = True CATE in this simulation\")\n",
    "plt.xlabel(\"Predicted SYNTAX 2020 iHR\")\n",
    "plt.ylabel(\"Predicted SYNTAX 2020 CATE\");\n",
    "plt.legend();"
   ]
  },
  {
   "cell_type": "markdown",
   "metadata": {},
   "source": [
    "#### A-learning\n",
    "\n",
    "Matrix format implementation based on Tsiatis et al., Dynamic treatment regime. Statistical methods for precision medicine, eq (3.70) p. 76."
   ]
  },
  {
   "cell_type": "code",
   "execution_count": 849,
   "metadata": {},
   "outputs": [],
   "source": [
    "def A_learning(df, ctst_vrb, ps, nu, ttt, y):\n",
    "    \n",
    "    \"\"\"A-learning algorithm\n",
    "    Takes as input \n",
    "        df: pandas dataframe\n",
    "        ctst_vrb: list of column names for contrast model fit\n",
    "        ps: single column name of the predicted propensity scores\n",
    "        nu: single column name of the predicted prognosis under treatment option 0\n",
    "        ttt: single column name of the treatment option=1 (binary coding required 0/1)\n",
    "        y: single column name of the outcome\n",
    "        \n",
    "    Contrast function is linear in the coefficients. Solution has linear algebra implementation.\n",
    "    Output is a tuple of the contrast function coefficients and the in-sample CATE prediction\"\"\"\n",
    "    \n",
    "    H = df[ctst_vrb]\n",
    "    H.insert(0, 'H_0', np.repeat(1, len(H)) )\n",
    "    \n",
    "    A = np.empty((len(ctst_vrb)+1, len(ctst_vrb)+1))\n",
    "    for i in range(len(A)):\n",
    "        for j in range(len(A)):\n",
    "            A[i,j] =  np.sum(H.iloc[:,j] * H.iloc[:,i] * (df[ttt] - df[ps]) * df[ttt] )\n",
    "    try:\n",
    "        A_inverse = np.linalg.inv(A)\n",
    "    except np.linalg.LinAlgError:\n",
    "        A_inverse = float(\"nan\")\n",
    "        print('Singular matrix, Nan output.')\n",
    "    C = np.empty((len(ctst_vrb)+1,1))\n",
    "    \n",
    "    for i in range(len(C)):\n",
    "        C[i] = np.sum(H.iloc[:,i] * (df[ttt] - df[ps]) * (df[y] - df[nu])) \n",
    "        \n",
    "    psi_hat = np.dot(A_inverse, C)\n",
    "    cate_hat = np.dot(H, psi_hat)\n",
    "    return psi_hat, cate_hat"
   ]
  },
  {
   "cell_type": "markdown",
   "metadata": {},
   "source": [
    "The following steps aims at obtaining the asymptotic variance of $ ARE $  from M-estimation theory (A-learning for $\\hat{\\tau} $ , PS & prognostic models trained through logistic regression) "
   ]
  },
  {
   "cell_type": "markdown",
   "metadata": {},
   "source": [
    "define the sigmoid i.e., expit function along its derivative"
   ]
  },
  {
   "cell_type": "code",
   "execution_count": 850,
   "metadata": {},
   "outputs": [],
   "source": [
    "def sigmoid(x):\n",
    "    return 1/(1+np.exp(-x))\n",
    "\n",
    "def sigmoid_deriv(x):\n",
    "    return sigmoid(x)*(1-sigmoid(x))"
   ]
  },
  {
   "cell_type": "markdown",
   "metadata": {},
   "source": [
    "Define a program that compute the central element of the sandwitch forumla"
   ]
  },
  {
   "cell_type": "code",
   "execution_count": 851,
   "metadata": {},
   "outputs": [],
   "source": [
    "def M_M_t(r_x, ttt, y, X_ctst, X_pr, X_ps, delta, ctst_icpt, ctst_coef, pr_icpt, pr_coef, ps_icpt, ps_coef, p_x):\n",
    "    \"\"\"Produces a (p1+p2+p3+4) * (p1+p2+p3+4) matrix M dot M transpose (central element of the sanwitch formula) \"\"\"\n",
    "    M = []\n",
    "    for i in range(len(r_x)):\n",
    "        M.append( np.empty((X_ctst.shape[1] + X_pr.shape[1] + X_ps.shape[1] + 4, 1) ) )\n",
    "    \n",
    "    # Delta (=ARE) estimating equation\n",
    "        M[i][0] = p_x[i] * ( r_x[i] - ttt[i] ) * (ctst_icpt + np.dot(ctst_coef, X_ctst.iloc[i])) - delta\n",
    "    \n",
    "    # Contrast function estimating equations   \n",
    "        M[i][1] = ( ttt[i] - sigmoid(ps_icpt + np.dot(ps_coef, X_ps.iloc[i])) ) * (y[i] - ttt[i] * (ctst_icpt + np.dot(ctst_coef, X_ctst.iloc[i]) ) - sigmoid(pr_icpt + np.dot(pr_coef, X_pr.iloc[i])) )\n",
    "        \n",
    "        for j in range(X_ctst.shape[1]):\n",
    "            M[i][2+j] = X_ctst.iloc[i,j] * M[i][1]\n",
    "    \n",
    "    # Prognostic model estimating equations\n",
    "        M[i][X_ctst.shape[1]+2] = y[i] - sigmoid(pr_icpt + np.dot(pr_coef, X_pr.iloc[i]) )\n",
    "        \n",
    "        for j in range(X_pr.shape[1]):\n",
    "            M[i][X_ctst.shape[1]+3+j] = X_pr.iloc[i,j] * M[i][X_ctst.shape[1]+2]\n",
    "            \n",
    "    # PS model estimating equations\n",
    "        M[i][X_ctst.shape[1]+X_pr.shape[1]+3] = ttt[i] - sigmoid(ps_icpt + np.dot(ps_coef, X_ps.iloc[i]) )\n",
    "        \n",
    "        for j in range(X_ps.shape[1]):\n",
    "            M[i][X_ctst.shape[1]+X_pr.shape[1]+4+j] = X_ps.iloc[i,j] * M[i][X_ctst.shape[1]+X_pr.shape[1]+3]\n",
    "    \n",
    "    # Get list of M.dot(M.T)\n",
    "    M_M_Ts = np.array([np.outer(element, element) for element in M])\n",
    "    \n",
    "    # Get element-wise mean of M_M_Ts\n",
    "    M_M_T = np.mean(M_M_Ts, axis=0)\n",
    "    \n",
    "    return M_M_T"
   ]
  },
  {
   "cell_type": "markdown",
   "metadata": {},
   "source": [
    "Define a program that compute the left-hand side element of the sandwitch forumla i.e., the inverse of the unbiaised estimating function M Jacobian Matrix's"
   ]
  },
  {
   "cell_type": "code",
   "execution_count": 852,
   "metadata": {},
   "outputs": [],
   "source": [
    "def M_jacob_inv(r_x, ttt, y, X_ctst, X_pr, X_ps, delta, ctst_icpt, ctst_coef, pr_icpt, pr_coef, ps_icpt, ps_coef, p_x):\n",
    "    \"\"\"Produces the (p1+p2+p3+4) * (p1+p2+p3+4) inverse of the jacobian matrix of the M unbiaised estimating equations:\n",
    "    estimator for the left end part of the sanwitch formula \"\"\"\n",
    "    \n",
    "    dim = X_ctst.shape[1] + X_pr.shape[1] + X_ps.shape[1] + 4\n",
    "    Jacob = [np.ones((dim,dim)) for _ in range(len(r_x))]\n",
    "    \n",
    "    for patient in range(len(X_pr)):\n",
    "    \n",
    "        ### ARE row \n",
    "        ## derivation wrt delta\n",
    "        Jacob[patient][0,0] = -1\n",
    "\n",
    "        ## derivation wrt psi0\n",
    "        Jacob[patient][0,1] = p_x[patient] * (r_x[patient] - ttt[patient] )\n",
    "\n",
    "        ## derivation wrt psi_s\n",
    "        for ctst_var in range(len(X_ctst.columns)):\n",
    "            Jacob[patient][0, 2 + ctst_var] = X_ctst.iloc[patient,ctst_var] * Jacob[patient][0,1]\n",
    "\n",
    "        ## derivation wrt phi_s\n",
    "        for pr_var in range(1 + len(X_pr.columns)):\n",
    "            Jacob[patient][0, 2 + len(X_ctst.columns) + pr_var] = 0\n",
    "\n",
    "        ## derivation wrt gamma0\n",
    "        Jacob[patient][0, 2 + len(X_ctst.columns) + len(X_pr.columns) + 1] = 0\n",
    "\n",
    "        ## derivation wrt gamma_s\n",
    "        for ps_var in range(len(X_ps.columns)):\n",
    "            Jacob[patient][0, 2 + len(X_ctst.columns) + len(X_pr.columns) + 1 + 1 + ps_var] = 0\n",
    "\n",
    "\n",
    "        ### A-learning row 1\n",
    "        ## derivation wrt delta\n",
    "        Jacob[patient][1,0] = 0\n",
    "\n",
    "        ## derivation wrt psi0\n",
    "        Jacob[patient][1,1] =  ( sigmoid( ps_icpt + np.dot(ps_coef, X_ps.iloc[patient]) ) - ttt[patient] ) * ttt[patient]\n",
    "\n",
    "        ## derivation wrt psi_s\n",
    "        for ctst_var in range(len(X_ctst.columns)):\n",
    "            Jacob[patient][1, 2 + ctst_var] =  X_ctst.iloc[patient, ctst_var] * Jacob[patient][1,1]\n",
    "\n",
    "        ## derivation wrt phi0\n",
    "        Jacob[patient][1, 2 + len(X_ctst.columns)] =  ( sigmoid( ps_icpt + np.dot(ps_coef, X_ps.iloc[patient]) ) - ttt[patient] ) * sigmoid_deriv( pr_icpt + np.dot(pr_coef, X_pr.iloc[patient]) )\n",
    "\n",
    "        ## derivation wrt phi_s\n",
    "        for pr_var in range(len(X_pr.columns)):\n",
    "            Jacob[patient][1, 2 + len(X_ctst.columns) + 1 + pr_var] = X_pr.iloc[patient, pr_var] * Jacob[patient][1, 2 + len(X_ctst.columns)]\n",
    "\n",
    "        ## derivation wrt gamma0\n",
    "        Jacob[patient][1, 2 + len(X_ctst.columns) + 1 + len(X_pr.columns)] = - sigmoid_deriv( ps_icpt + np.dot(ps_coef, X_ps.iloc[patient]) ) * (y[patient] - ttt[patient] * ( ctst_icpt + np.dot(ctst_coef, X_ctst.iloc[patient]) ) - sigmoid( pr_icpt + np.dot(pr_coef, X_pr.iloc[patient] ) ) )\n",
    "\n",
    "        ## derivation wrt gamma_s\n",
    "        for ps_var in range(len(X_ps.columns)):\n",
    "            Jacob[patient][1, 2 + len(X_ctst.columns) + 1 + len(X_pr.columns) + 1 + ps_var] = X_ps.iloc[patient, ps_var] * Jacob[patient][1, 2 + len(X_ctst.columns) + 1 + len(X_pr.columns)]\n",
    "\n",
    "        ### A-learning next rows\n",
    "        for row in range(len(X_ctst.columns)):\n",
    "            ## derivation wrt delta\n",
    "            Jacob[patient][2 + row,0] = 0\n",
    "\n",
    "            ## derivation wrt psi0\n",
    "            Jacob[patient][2 + row, 1] =  X_ctst.iloc[patient, row] * Jacob[patient][1,1]\n",
    "\n",
    "            ## derivation wrt psi_s\n",
    "            for ctst_var in range(len(X_ctst.columns)):\n",
    "                Jacob[patient][2 + row, 2 + ctst_var] =  X_ctst.iloc[patient, ctst_var] * Jacob[patient][2 + row, 1]\n",
    "\n",
    "            ## derivation wrt phi0\n",
    "            Jacob[patient][2 + row, 2 + len(X_ctst.columns)] =  X_ctst.iloc[patient, row] * Jacob[patient][1, 2 + len(X_ctst.columns)]\n",
    "\n",
    "            ## derivation wrt phi_s\n",
    "            for pr_var in range(len(X_pr.columns)):\n",
    "                Jacob[patient][2 + row, 2 + len(X_ctst.columns) + 1 + pr_var] = X_pr.iloc[patient, pr_var] * Jacob[patient][2 + row, 2 + len(X_ctst.columns)]\n",
    "\n",
    "            ## derivation wrt gamma0\n",
    "            Jacob[patient][2 + row, 2 + len(X_ctst.columns) + 1 + len(X_pr.columns)] = X_ctst.iloc[patient, row] * Jacob[patient][1, 2 + len(X_ctst.columns) + 1 + len(X_pr.columns)]\n",
    "\n",
    "            ## derivation wrt gamma_s\n",
    "            for ps_var in range(len(X_ps.columns)):\n",
    "                Jacob[patient][2 + row, 2 + len(X_ctst.columns) + 1 + len(X_pr.columns) + 1 + ps_var] = X_ps.iloc[patient, ps_var] * Jacob[patient][2 + row, 2 + len(X_ctst.columns) + 1 + len(X_pr.columns)]\n",
    "\n",
    "        ### Prognosis row 1\n",
    "        ## derivation wrt delta\n",
    "        Jacob[patient][2 + len(X_ctst.columns), 0] = 0\n",
    "\n",
    "        ## derivation wrt psi0\n",
    "        Jacob[patient][2 + len(X_ctst.columns),1] = 0 \n",
    "\n",
    "        ## derivation wrt psi_s\n",
    "        for ctst_var in range(len(X_ctst.columns)):\n",
    "            Jacob[patient][2 + len(X_ctst.columns), 2 + ctst_var] =  0\n",
    "\n",
    "        ## derivation wrt phi0\n",
    "        Jacob[patient][2 + len(X_ctst.columns), 2 + len(X_ctst.columns)] =  - sigmoid_deriv( pr_icpt + np.dot(pr_coef, X_pr.iloc[patient]) )\n",
    "\n",
    "        ## derivation wrt phi_s\n",
    "        for pr_var in range(len(X_pr.columns)):\n",
    "            Jacob[patient][2 + len(X_ctst.columns), 2 + len(X_ctst.columns) + 1 + pr_var] =  X_pr.iloc[patient, pr_var] * Jacob[patient][2 + len(X_ctst.columns), 2 + len(X_ctst.columns)]\n",
    "\n",
    "        ## derivation wrt gamma0\n",
    "        Jacob[patient][2 + len(X_ctst.columns), 2 + len(X_ctst.columns) + 1 + len(X_pr.columns)] = 0\n",
    "\n",
    "        ## derivation wrt gamma_s\n",
    "        for ps_var in range(len(X_ps.columns)):\n",
    "            Jacob[patient][2 + len(X_ctst.columns), 2 + len(X_ctst.columns) + 1 + len(X_pr.columns) + 1 + ps_var] = 0\n",
    "\n",
    "\n",
    "        ### Prognosis next rows\n",
    "        for row in range(len(X_pr.columns)):\n",
    "\n",
    "            ## derivation wrt delta\n",
    "            Jacob[patient][2 + len(X_ctst.columns) + 1 + row, 0] = 0\n",
    "\n",
    "            ## derivation wrt psi0\n",
    "            Jacob[patient][2 + len(X_ctst.columns) + 1 + row, 1] = 0 \n",
    "\n",
    "            ## derivation wrt psi_s\n",
    "            for ctst_var in range(len(X_ctst.columns)):\n",
    "                Jacob[patient][2 + len(X_ctst.columns) + 1 + row, 2 + ctst_var] =  0\n",
    "\n",
    "            ## derivation wrt phi0\n",
    "            Jacob[patient][2 + len(X_ctst.columns) + 1 + row, 2 + len(X_ctst.columns)] =  X_pr.iloc[patient, row] * Jacob[patient][2 + len(X_ctst.columns), 2 + len(X_ctst.columns)]\n",
    "\n",
    "            ## derivation wrt phi_s\n",
    "            for pr_var in range(len(X_pr.columns)):\n",
    "                Jacob[patient][2 + len(X_ctst.columns) + 1 + row, 2 + len(X_ctst.columns) + 1 + pr_var] =  X_pr.iloc[patient, pr_var] * Jacob[patient][2 + len(X_ctst.columns) + 1 + row, 2 + len(X_ctst.columns)]\n",
    "\n",
    "            ## derivation wrt gamma0\n",
    "            Jacob[patient][2 + len(X_ctst.columns) + 1 + row, 2 + len(X_ctst.columns) + 1 + len(X_pr.columns)] = 0\n",
    "\n",
    "            ## derivation wrt gamma_s\n",
    "            for ps_var in range(len(X_ps.columns)):\n",
    "                Jacob[patient][2 + len(X_ctst.columns) + 1 + row, 2 + len(X_ctst.columns) + 1 + len(X_pr.columns) + 1 + ps_var] = 0\n",
    "\n",
    "        ### PS row 1\n",
    "        ## derivation wrt delta\n",
    "        Jacob[patient][2 + len(X_ctst.columns) + 1 + len(X_pr.columns), 0] = 0\n",
    "\n",
    "        ## derivation wrt psi0\n",
    "        Jacob[patient][2 + len(X_ctst.columns) + 1 + len(X_pr.columns), 1] = 0 \n",
    "\n",
    "        ## derivation wrt psi_s\n",
    "        for ctst_var in range(len(X_ctst.columns)):\n",
    "            Jacob[patient][2 + len(X_ctst.columns) + 1 + len(X_pr.columns), 2 + ctst_var] =  0\n",
    "\n",
    "        ## derivation wrt phi0\n",
    "        Jacob[patient][2 + len(X_ctst.columns) + 1 + len(X_pr.columns), 2 + len(X_ctst.columns)] =  0\n",
    "\n",
    "        ## derivation wrt phi_s\n",
    "        for pr_var in range(len(X_pr.columns)):\n",
    "            Jacob[patient][2 + len(X_ctst.columns) + 1 + len(X_pr.columns), 2 + len(X_ctst.columns) + 1 + pr_var] =  0\n",
    "\n",
    "        ## derivation wrt gamma0\n",
    "        Jacob[patient][2 + len(X_ctst.columns) + 1 + len(X_pr.columns), 2 + len(X_ctst.columns) + 1 + len(X_pr.columns)] = - sigmoid_deriv( ps_icpt + np.dot(ps_coef, X_ps.iloc[patient]) )\n",
    "\n",
    "        ## derivation wrt gamma_s\n",
    "        for ps_var in range(len(X_ps.columns)):\n",
    "            Jacob[patient][2 + len(X_ctst.columns) + 1 + len(X_pr.columns), 2 + len(X_ctst.columns) + 1 + len(X_pr.columns) + 1 + ps_var] = X_ps.iloc[patient, ps_var] * Jacob[patient][2 + len(X_ctst.columns) + 1 + len(X_ctst.columns), 2 + len(X_ctst.columns) + 1 + len(X_pr.columns)]\n",
    "\n",
    "        ### PS next rows\n",
    "        for row in range(len(X_ps.columns)):\n",
    "\n",
    "            ## derivation wrt delta\n",
    "            Jacob[patient][2 + len(X_ctst.columns) + 1 + len(X_pr.columns) + 1 + row, 0] = 0\n",
    "\n",
    "            ## derivation wrt psi0\n",
    "            Jacob[patient][2 + len(X_ctst.columns) + 1 + len(X_pr.columns) + 1 + row, 1] = 0 \n",
    "\n",
    "            ## derivation wrt psi_s\n",
    "            for ctst_var in range(len(X_ctst.columns)):\n",
    "                Jacob[patient][2 + len(X_ctst.columns) + 1 + len(X_pr.columns) + 1 + row, 2 + ctst_var] =  0\n",
    "\n",
    "            ## derivation wrt phi0\n",
    "            Jacob[patient][2 + len(X_ctst.columns) + 1 + len(X_pr.columns) + 1 + row, 2 + len(X_ctst.columns)] =  0\n",
    "\n",
    "            ## derivation wrt phi_s\n",
    "            for pr_var in range(len(X_pr.columns)):\n",
    "                Jacob[patient][2 + len(X_ctst.columns) + 1 + len(X_pr.columns) + 1 + row, 2 + len(X_ctst.columns) + 1 + pr_var] =  0\n",
    "\n",
    "            ## derivation wrt gamma0\n",
    "            Jacob[patient][2 + len(X_ctst.columns) + 1 + len(X_pr.columns) + 1 + row, 2 + len(X_ctst.columns) + 1 + len(X_pr.columns)] = X_ps.iloc[patient, row] * Jacob[patient][2 + len(X_ctst.columns) + 1 + len(X_pr.columns), 2 + len(X_ctst.columns) + 1 + len(X_pr.columns)]\n",
    "\n",
    "            ## derivation wrt gamma_s\n",
    "            for ps_var in range(len(X_ps.columns)):\n",
    "                Jacob[patient][2 + len(X_ctst.columns) + 1 + len(X_pr.columns) + 1 + row, 2 + len(X_ctst.columns) + 1 + len(X_pr.columns) + 1 + ps_var] = X_ps.iloc[patient, ps_var] * Jacob[patient][2 + len(X_ctst.columns) + 1 + len(X_pr.columns) + 1 + row, 2 + len(X_ctst.columns) + 1 + len(X_pr.columns)]\n",
    "    \n",
    "    # Get element-wise mean of the jacobian matrices\n",
    "    Mean_Jacob = np.mean(Jacob, axis=0)\n",
    "    \n",
    "    # Return the inverse of this mean jacobian matrix\n",
    "    return np.linalg.pinv(Mean_Jacob)"
   ]
  },
  {
   "cell_type": "markdown",
   "metadata": {},
   "source": [
    "Define a program that performs all the steps from raw input and returns all parameters along the variance covariance matrix"
   ]
  },
  {
   "cell_type": "code",
   "execution_count": 922,
   "metadata": {},
   "outputs": [
    {
     "data": {
      "text/plain": [
       "True"
      ]
     },
     "execution_count": 922,
     "metadata": {},
     "output_type": "execute_result"
    }
   ],
   "source": [
    "np.isin(df['rule'].dropna().unique(), [0,1]).all()"
   ]
  },
  {
   "cell_type": "code",
   "execution_count": 959,
   "metadata": {},
   "outputs": [],
   "source": [
    "def V_cov_mat(df, rule, ttt, y, ps_predictors, pronostic_predictors, ctst_vrb, p_x):\n",
    "    \n",
    "    \"\"\"This program performs ARE through A-learning/Logistic regression and \n",
    "    returns all parameters along their variance covariance matrix from M-estimation theory\n",
    "    ARE is the first parameter, its variance corresponds to the top left element in the VCV matrix\"\"\"\n",
    "    \n",
    "    df_temp = df.copy()\n",
    "\n",
    "    ## A-learning step\n",
    "    \n",
    "    # Fit PS model\n",
    "    from sklearn.linear_model import LogisticRegression\n",
    "    ps_mod = LogisticRegression(max_iter=2000)\n",
    "    ps_mod = ps_mod.fit(df[ps_predictors], df[ttt])\n",
    "    df_temp[\"e_hat\"] = ps_mod.predict_proba(df[ps_predictors])[:,1]      \n",
    "\n",
    "    # Fit prognositic model\n",
    "    # If outcome is binary use logistic regression\n",
    "    if np.isin(df[y].dropna().unique(), [0,1]).all() == True:\n",
    "    \n",
    "        pr_mod = LogisticRegression(max_iter=2000)\n",
    "        pronostic_predictors_A = pronostic_predictors.copy()\n",
    "        pronostic_predictors_A.append(ttt)\n",
    "        pr_mod1 = pr_mod.fit(df.loc[:,pronostic_predictors_A], df.loc[:,y])\n",
    "\n",
    "        X = df.loc[:,pronostic_predictors]\n",
    "        X[ttt] = np.repeat(0, len(X))        \n",
    "        df_temp[\"y0_hat\"] = pr_mod1.predict_proba(X)[:,1]\n",
    "    \n",
    "    # Else if outcome is continuous use linear regression\n",
    "    else:\n",
    "        from sklearn.linear_model import LinearRegression\n",
    "        pr_mod = LinearRegression()\n",
    "        pronostic_predictors_A = pronostic_predictors.copy()\n",
    "        pronostic_predictors_A.append(ttt)\n",
    "        pr_mod1 = pr_mod.fit(df.loc[:,pronostic_predictors_A], df.loc[:,y])\n",
    "\n",
    "        X = df.loc[:,pronostic_predictors]\n",
    "        X[ttt] = np.repeat(0, len(X))        \n",
    "        df_temp[\"y0_hat\"] = pr_mod1.predict(X)\n",
    "\n",
    "    # Apply A-learning perse and get contrast ( coefficients, predictions )\n",
    "    psi_hat, df_temp[\"cate_hat\"] = A_learning(df = df_temp, ctst_vrb = ctst_vrb, ps = \"e_hat\", nu = \"y0_hat\", ttt = ttt, y = y)            \n",
    "    \n",
    "    # Compute ARE and organize all other parameters\n",
    "    are_hat = np.array( np.mean( (df_temp[rule] - df_temp[ttt]) * df_temp.cate_hat) ).squeeze()\n",
    "    \n",
    "    psi_hat_icpt = psi_hat[0].squeeze()\n",
    "    psi_hat_coef = psi_hat[1:].squeeze()\n",
    "    \n",
    "    phi_hat_icpt = pr_mod.intercept_.squeeze()\n",
    "    \n",
    "    if np.isin(df[y].dropna().unique(), [0,1]).all() == True: # .coef_ is 2 dimentional when fit with logistic regression\n",
    "        phi_hat_coef = pr_mod.coef_[0,:-1].squeeze() # coef for treatment variable is excluded, was only present so that the model could be fit on all patients and not only those who did not receive ttt\n",
    "    else:                                                     # .coef_ is 1 dimentional when fit with linear regression\n",
    "        phi_hat_coef = pr_mod.coef_[:-1].squeeze()\n",
    "        \n",
    "    gamma_hat_icpt = ps_mod.intercept_.squeeze()\n",
    "    gamma_hat_coef = ps_mod.coef_.squeeze()\n",
    "    \n",
    "    # Store parameters\n",
    "    parameters = np.hstack([are_hat, psi_hat_icpt, psi_hat_coef, phi_hat_icpt, phi_hat_coef, gamma_hat_icpt, gamma_hat_coef ])\n",
    "\n",
    "    # Compute Lateral estimator from the sandwitch formula\n",
    "    Lat = M_jacob_inv(r_x = df_temp[rule],\n",
    "      ttt = df_temp[ttt], \n",
    "      y = df_temp[y],\n",
    "      X_ctst = df_temp.loc[:, ctst_vrb],\n",
    "      X_pr = df_temp.loc[:, pronostic_predictors],\n",
    "      X_ps = df_temp.loc[:, ps_predictors],\n",
    "      delta = are_hat,\n",
    "      ctst_icpt = psi_hat_icpt,\n",
    "      ctst_coef = psi_hat_coef,\n",
    "      pr_icpt = phi_hat_icpt,\n",
    "      pr_coef = phi_hat_coef,\n",
    "      ps_icpt = gamma_hat_icpt,\n",
    "      ps_coef = gamma_hat_coef,\n",
    "      p_x = p_x)\n",
    "    \n",
    "    # Compute Central estimator from the sandwitch formula\n",
    "    Central = M_M_t(r_x = df_temp[rule],\n",
    "      ttt = df_temp[ttt], \n",
    "      y = df_temp[y],\n",
    "      X_ctst = df_temp.loc[:, ctst_vrb],\n",
    "      X_pr = df_temp.loc[:, pronostic_predictors],\n",
    "      X_ps = df_temp.loc[:, ps_predictors],\n",
    "      delta = are_hat,\n",
    "      ctst_icpt = psi_hat_icpt,\n",
    "      ctst_coef = psi_hat_coef,\n",
    "      pr_icpt = phi_hat_icpt,\n",
    "      pr_coef = phi_hat_coef,\n",
    "      ps_icpt = gamma_hat_icpt,\n",
    "      ps_coef = gamma_hat_coef,\n",
    "      p_x = p_x)\n",
    "    \n",
    "    # Compute the sandwitch formula for sigma\n",
    "    Sigma = Lat.dot(Central).dot(Lat.T)\n",
    "    \n",
    "    # Get the variance covariance matrix\n",
    "    VCV = Sigma / len(df_temp) \n",
    "    \n",
    "    return parameters, VCV, are_hat, psi_hat_icpt, psi_hat_coef, phi_hat_icpt, phi_hat_coef, gamma_hat_icpt, gamma_hat_coef, df_temp[\"cate_hat\"]"
   ]
  },
  {
   "cell_type": "code",
   "execution_count": 960,
   "metadata": {},
   "outputs": [],
   "source": [
    "def V_cov_mat_fast(df_temp, rule, ttt, y, ps_predictors, pronostic_predictors, ctst_vrb, p_x, are_hat, psi_hat_icpt, psi_hat_coef, phi_hat_icpt, phi_hat_coef, gamma_hat_icpt, gamma_hat_coef):\n",
    "    \n",
    "    \"\"\"Fast computation of all parameters VCV when parameters have been comptued elswhere and are passed to this program\"\"\"\n",
    "    \n",
    "    # Compute Lateral estimator from the sandwitch formula\n",
    "    Lat = M_jacob_inv(r_x = df_temp[rule],\n",
    "      ttt = df_temp[ttt], \n",
    "      y = df_temp[y],\n",
    "      X_ctst = df_temp.loc[:, ctst_vrb],\n",
    "      X_pr = df_temp.loc[:, pronostic_predictors],\n",
    "      X_ps = df_temp.loc[:, ps_predictors],\n",
    "      delta = are_hat,\n",
    "      ctst_icpt = psi_hat_icpt,\n",
    "      ctst_coef = psi_hat_coef,\n",
    "      pr_icpt = phi_hat_icpt,\n",
    "      pr_coef = phi_hat_coef,\n",
    "      ps_icpt = gamma_hat_icpt,\n",
    "      ps_coef = gamma_hat_coef,\n",
    "      p_x = p_x)\n",
    "    \n",
    "    # Compute Central estimator from the sandwitch formula\n",
    "    Central = M_M_t(r_x = df_temp[rule],\n",
    "      ttt = df_temp[ttt], \n",
    "      y = df_temp[y],\n",
    "      X_ctst = df_temp.loc[:, ctst_vrb],\n",
    "      X_pr = df_temp.loc[:, pronostic_predictors],\n",
    "      X_ps = df_temp.loc[:, ps_predictors],\n",
    "      delta = are_hat,\n",
    "      ctst_icpt = psi_hat_icpt,\n",
    "      ctst_coef = psi_hat_coef,\n",
    "      pr_icpt = phi_hat_icpt,\n",
    "      pr_coef = phi_hat_coef,\n",
    "      ps_icpt = gamma_hat_icpt,\n",
    "      ps_coef = gamma_hat_coef,\n",
    "      p_x = p_x)\n",
    "    \n",
    "    # Compute the sandwitch formula for sigma\n",
    "    Sigma = Lat.dot(Central).dot(Lat.T)\n",
    "    \n",
    "    # Get the variance covariance matrix\n",
    "    VCV = Sigma / len(df_temp) \n",
    "    \n",
    "    return VCV"
   ]
  },
  {
   "cell_type": "code",
   "execution_count": 961,
   "metadata": {},
   "outputs": [],
   "source": [
    "def asre_package(df, rule, ttt, y, ps_predictors, pronostic_predictors, ctst_vrb, est='ARE', alpha = .5, n_alphas=5, precision=3):\n",
    "    \n",
    "    \"\"\"From a pandas dataframe, this program computes through A-learning the ARE or cognitive biais ASRE along their 95% confidence intervals.\"\"\"\n",
    "    \n",
    "    df_temp = df.copy()\n",
    "\n",
    "    p_x = np.repeat(1, len(df))\n",
    "    \n",
    "    parameters, VCV, are_hat, psi_hat_icpt, psi_hat_coef, phi_hat_icpt, phi_hat_coef, gamma_hat_icpt, gamma_hat_coef, df_temp[\"cate_hat\"] = V_cov_mat(df_temp, rule, ttt, y, ps_predictors, pronostic_predictors, ctst_vrb, p_x)\n",
    "    \n",
    "    are_hat = parameters[0]\n",
    "    se_are = np.sqrt(VCV[0,0])\n",
    "    print('ARE = ' + str(np.round(are_hat, precision)) + '  95% CI (' + \n",
    "          str(np.round(parameters[0] - st.norm.ppf(.975) * se_are, precision)) + ' to ' + \n",
    "          str(np.round(parameters[0] + st.norm.ppf(.975) * se_are, precision)) + ')' )\n",
    "    \n",
    "    estimator = 'ARE'\n",
    "    \n",
    "    if est == 'ASRE_cb':\n",
    "        estimator = 'ASRE_cb_' + str(alpha)\n",
    "\n",
    "        def sigmoid(x):\n",
    "            return 1/(1+np.exp(-x))\n",
    "        \n",
    "        ps_pred = sigmoid( gamma_hat_icpt + df_temp[ps_predictors].dot(gamma_hat_coef) )\n",
    "        \n",
    "        def legit(x):\n",
    "            return .5 * np.log((x+1)/(1-x))\n",
    "        \n",
    "        p_x = ( 1 - np.abs( df_temp[rule] - ps_pred ) ) ** legit(alpha)\n",
    "               \n",
    "        VCV = V_cov_mat_fast(df_temp, rule, ttt, y, ps_predictors, pronostic_predictors, ctst_vrb, p_x, are_hat, psi_hat_icpt, psi_hat_coef, phi_hat_icpt, phi_hat_coef, gamma_hat_icpt, gamma_hat_coef)\n",
    "        \n",
    "        asre_hat = np.array( np.mean( p_x * (df_temp[rule] - df_temp[ttt]) * df_temp[\"cate_hat\"]) ).squeeze()\n",
    "        \n",
    "        se_asre = np.sqrt(VCV[0,0])\n",
    "        print('ASRE (cognitive biais ' + str(alpha) + ')' + ' = ' + str(np.round(asre_hat, precision)) + '  95% CI (' + \n",
    "        str(np.round(parameters[0] - st.norm.ppf(.975) * se_asre, precision)) + ' to ' + \n",
    "        str(np.round(parameters[0] + st.norm.ppf(.975) * se_asre, precision)) + ')' )\n",
    "        \n",
    "        alphas = np.linspace(0,1,n_alphas+1)[:-1]\n",
    "        asre_hats = []\n",
    "        asre_ses = []\n",
    "        cb_mean_px_alphas = []\n",
    "        \n",
    "        for alpha in alphas:\n",
    "            p_x_temp = ( 1 - np.abs( df_temp[rule] - ps_pred ) ) ** legit(alpha)\n",
    "            VCV_temp = V_cov_mat_fast(df_temp, rule, ttt, y, ps_predictors, pronostic_predictors, ctst_vrb, p_x_temp, are_hat, psi_hat_icpt, psi_hat_coef, phi_hat_icpt, phi_hat_coef, gamma_hat_icpt, gamma_hat_coef)\n",
    "            asre_hats.append( np.mean( p_x_temp * (df_temp[rule] - df_temp[ttt]) * df_temp[\"cate_hat\"]) )\n",
    "            asre_ses.append(np.sqrt(VCV_temp[0,0]))\n",
    "            cb_mean_px_alphas.append( np.mean(p_x_temp) )\n",
    "            \n",
    "        asre_hats_lci = np.array(asre_hats) - st.norm.ppf(.975) * np.array(asre_ses)\n",
    "        asre_hats_lci = np.append(asre_hats_lci, 0)\n",
    "        \n",
    "        asre_hats_uci = np.array(asre_hats) + st.norm.ppf(.975) * np.array(asre_ses)\n",
    "        asre_hats_uci = np.append(asre_hats_uci, 0)\n",
    "        \n",
    "        alphas = np.append(alphas, 1)\n",
    "        asre_hats = np.append(asre_hats, 0)\n",
    "        cb_mean_px_alphas = np.append( np.array(cb_mean_px_alphas), 0 )\n",
    "            \n",
    "        fig, axs = plt.subplots(1, 2, figsize=(10,5))\n",
    "\n",
    "        fig.suptitle(\"Impact of rule's stochastic implementation on the observational population provided\", fontsize=11)\n",
    "        axs[0].plot([0,1],[0, 0], color= \"black\", alpha=1, linewidth=.5, linestyle='solid')\n",
    "        axs[0].plot([0,1],[are_hat, are_hat], color= \"black\", alpha=.9, linewidth=1, linestyle='dashed', label=r'$\\widehat{ARE}$')\n",
    "        axs[0].plot(alphas, asre_hats, 'o', color= \"tab:orange\", label=\"Cognitive biais implementation\")\n",
    "        axs[0].fill_between(alphas, asre_hats_lci, asre_hats_uci, color=\"tab:orange\", alpha=.1, label=\"95% Confidence Interval\")\n",
    "\n",
    "        axs[0].set_xlabel('Cognitive Biais', fontsize=10)\n",
    "        axs[0].set_ylabel(r'$\\widehat{ASRE}$', fontsize=20)\n",
    "\n",
    "        axs[0].set_xlim([-.01,1])\n",
    "        axs[1].set_xlim([-.01,1])\n",
    "        \n",
    "        if are_hat < 0:\n",
    "            axs[0].set_ylim([ asre_hats_lci[0] + are_hat/10, np.max([asre_hats_uci[0], 0]) - are_hat/10 ])\n",
    "            axs[1].set_ylim([ asre_hats_lci[0] + are_hat/10, np.max([asre_hats_uci[0], 0]) - are_hat/10 ])\n",
    "            \n",
    "        else:\n",
    "            axs[0].set_ylim([ np.min([asre_hats_lci[0], 0]) - are_hat/10, asre_hats_uci[0] + are_hat/10 ])\n",
    "            axs[0].set_ylim([ np.min([asre_hats_lci[0], 0]) - are_hat/10, asre_hats_uci[0] + are_hat/10 ])\n",
    "\n",
    "        axs[1].plot([0,1],[0, 0], color= \"black\", alpha=1, linewidth=.5, linestyle='solid')\n",
    "        axs[1].plot([0,1],[are_hat, are_hat], color= \"black\", alpha=.9, linewidth=1, linestyle='dashed', label=r'$\\widehat{ARE}$')\n",
    "        axs[1].plot(cb_mean_px_alphas, asre_hats, 'o', color= \"tab:orange\", label=\"Cognitive biais implementation\")\n",
    "        axs[1].fill_between(cb_mean_px_alphas, asre_hats_lci, asre_hats_uci, color=\"tab:orange\", alpha=.1, label=\"95% Confidence Interval\")\n",
    "        axs[1].set_xlabel('Fraction of the population implementing the rule', fontsize=10)\n",
    "        \n",
    "        axs[1].legend();\n",
    "        \n",
    "        print('\\nIn a tuple, this program returs the ASRE plot as well as all parameters along their corresponding variance-covariance matrix.')\n",
    "        print('Parameters are provided in the following order.')\n",
    "        print(estimator + ', Contrast intercept, Contrast coefficients, Prognostic intercept, Prognostic coefficients, Propensity score intercept, Propensity score coefficients.')\n",
    "        return fig, parameters, VCV\n",
    "    \n",
    "    else :\n",
    "        print('\\nIn a tuple, this program returs all parameters along their corresponding variance-covariance matrix.')\n",
    "        print('Parameters are provided in the following order.')\n",
    "        print(estimator + ', Contrast intercept, Contrast coefficients, Prognostic intercept, Prognostic coefficients, Propensity score intercept, Propensity score coefficients.')\n",
    "        return parameters, VCV"
   ]
  },
  {
   "cell_type": "code",
   "execution_count": 962,
   "metadata": {},
   "outputs": [
    {
     "data": {
      "text/plain": [
       "pandas.core.series.Series"
      ]
     },
     "execution_count": 962,
     "metadata": {},
     "output_type": "execute_result"
    }
   ],
   "source": [
    "type(df['Y'])"
   ]
  },
  {
   "cell_type": "markdown",
   "metadata": {},
   "source": [
    "Demonstrate how this works"
   ]
  },
  {
   "cell_type": "code",
   "execution_count": 963,
   "metadata": {},
   "outputs": [
    {
     "name": "stdout",
     "output_type": "stream",
     "text": [
      "ARE = 0.026  95% CI (-0.051 to 0.102)\n",
      "ASRE (cognitive biais 0.5) = 0.008  95% CI (-0.004 to 0.056)\n",
      "\n",
      "In a tuple, this program returs the ASRE plot as well as all parameters along their corresponding variance-covariance matrix.\n",
      "Parameters are provided in the following order.\n",
      "ASRE_cb_0.5, Contrast intercept, Contrast coefficients, Prognostic intercept, Prognostic coefficients, Propensity score intercept, Propensity score coefficients.\n"
     ]
    },
    {
     "data": {
      "text/plain": [
       "(<Figure size 1000x500 with 2 Axes>,\n",
       " array([ 2.55221381e-02,  1.92631496e-01, -5.33005920e-03,  3.56405527e-02,\n",
       "        -9.92635212e-03, -8.71559630e+00, -8.15887541e-02,  1.71075479e-01,\n",
       "        -9.27267011e-02,  5.78107726e-03,  1.23308006e-01, -1.45022418e-02,\n",
       "         4.93168692e-03,  4.40202603e-01,  1.88205214e-03,  1.22725954e+00,\n",
       "         1.58898456e+00,  2.93171423e-01, -1.07570105e+00, -2.23872596e-02,\n",
       "         6.04264762e-01, -2.54498485e-01, -1.60251311e+00,  2.70509465e-02,\n",
       "         1.58358675e+00]),\n",
       " array([[ 2.34565183e-04, -7.16137354e-04,  1.25709587e-05,\n",
       "          1.65975891e-03,  1.03095496e-04, -2.22993223e-03,\n",
       "         -8.21109198e-04, -4.95834503e-04, -9.12988526e-04,\n",
       "          6.43191893e-06,  3.89774414e-05, -2.25513070e-06,\n",
       "         -4.72898301e-04, -1.61517317e-04,  3.97164312e-06,\n",
       "          1.95939513e-04,  4.10231648e-05,  4.38103962e-04,\n",
       "          5.40904352e-05,  2.70616018e-05, -1.22098526e-03,\n",
       "         -1.72422528e-04,  3.53957105e-03,  3.57846632e-03,\n",
       "          4.01102950e-03],\n",
       "        [-7.16137354e-04,  2.88032794e-02, -5.93383104e-04,\n",
       "         -1.41706936e-02, -1.47811004e-02,  1.91795189e-02,\n",
       "          2.68305408e-03,  2.71451519e-03,  1.37819496e-02,\n",
       "         -1.06764992e-04, -7.21543010e-05, -6.19191471e-05,\n",
       "          2.54480151e-03,  1.12952805e-02, -1.48844146e-04,\n",
       "         -2.35878947e-03, -5.57083152e-03, -1.53245348e-02,\n",
       "         -6.52019828e-03, -7.94234807e-05, -1.82337427e-02,\n",
       "          6.97171095e-03,  8.74759290e-02,  9.06306551e-02,\n",
       "          7.22795989e-02],\n",
       "        [ 1.25709587e-05, -5.93383104e-04,  2.45462744e-05,\n",
       "          9.93527164e-06,  7.64599497e-06, -1.97849709e-04,\n",
       "         -9.50062648e-05, -9.95880641e-05, -3.25537992e-06,\n",
       "         -1.80190136e-06,  5.09966157e-06, -1.71711320e-06,\n",
       "         -1.63766171e-04,  1.68899364e-05,  1.15086810e-06,\n",
       "          2.36269250e-06,  2.39678151e-04,  2.46974689e-04,\n",
       "          2.31956683e-04,  6.79037806e-06,  5.50735536e-04,\n",
       "         -2.68435030e-04, -2.91417786e-03, -3.05413158e-03,\n",
       "         -2.42081044e-03],\n",
       "        [ 1.65975891e-03, -1.41706936e-02,  9.93527164e-06,\n",
       "          2.16813466e-02,  1.43081055e-02, -1.08119523e-02,\n",
       "         -1.38745436e-03,  2.09579517e-03, -1.15202931e-02,\n",
       "          1.29631981e-04,  1.94060057e-05,  4.01742860e-05,\n",
       "         -4.70030790e-04, -1.14834938e-02,  7.35099260e-05,\n",
       "          2.46367436e-03, -1.91922717e-03,  1.39986188e-02,\n",
       "          1.52683955e-03,  1.02986194e-04, -6.02491807e-03,\n",
       "          5.20312789e-04,  1.91622903e-02,  1.94478012e-02,\n",
       "          2.23550405e-02],\n",
       "        [ 1.03095496e-04, -1.47811004e-02,  7.64599497e-06,\n",
       "          1.43081055e-02,  2.27734962e-02,  1.61935420e-02,\n",
       "          8.61746749e-03,  1.20576628e-02, -4.48158838e-03,\n",
       "          7.30009486e-05, -5.41895000e-04,  4.19561169e-05,\n",
       "          4.30262473e-03, -1.33554592e-02,  1.58274825e-04,\n",
       "         -1.81890603e-03, -5.83563234e-03,  2.36207365e-02,\n",
       "          8.21125916e-04, -4.75542759e-05,  3.32786155e-04,\n",
       "          5.48646040e-03,  7.27683741e-04,  8.40955092e-04,\n",
       "          3.56455370e-03],\n",
       "        [-2.22993223e-03,  1.91795189e-02, -1.97849709e-04,\n",
       "         -1.08119523e-02,  1.61935420e-02,  3.75309585e+00,\n",
       "          1.09859046e+00,  1.26969198e+00,  1.38481341e+00,\n",
       "         -9.67535031e-03, -4.40270200e-02, -9.71161859e-03,\n",
       "          1.47282698e-01,  1.92421256e-01, -1.63175485e-02,\n",
       "         -5.47488358e-02,  5.69142445e-02, -2.82448730e-01,\n",
       "          2.42150042e-02, -1.66190683e-03, -1.37703470e-01,\n",
       "         -3.80413669e-02,  6.88537052e-01,  7.20134931e-01,\n",
       "          7.68422201e-01],\n",
       "        [-8.21109198e-04,  2.68305408e-03, -9.50062648e-05,\n",
       "         -1.38745436e-03,  8.61746749e-03,  1.09859046e+00,\n",
       "          3.86633756e-01,  3.40567854e-01,  3.71388845e-01,\n",
       "         -2.30100203e-03, -1.36418798e-02, -2.67166088e-03,\n",
       "          3.81238491e-02,  3.88099012e-02, -4.52086948e-03,\n",
       "         -1.86276719e-02,  2.51899273e-02, -1.27025143e-01,\n",
       "          8.12893080e-03, -2.49560974e-04, -5.99958657e-02,\n",
       "         -2.48532496e-02,  2.77509375e-01,  2.80938001e-01,\n",
       "          2.93443130e-01],\n",
       "        [-4.95834503e-04,  2.71451519e-03, -9.95880641e-05,\n",
       "          2.09579517e-03,  1.20576628e-02,  1.26969198e+00,\n",
       "          3.40567854e-01,  5.21324110e-01,  4.07800016e-01,\n",
       "         -2.73287958e-03, -1.56198603e-02, -2.47375919e-03,\n",
       "          8.91669188e-02,  2.85677369e-02, -6.02575886e-03,\n",
       "         -2.56394736e-02,  4.83983499e-03, -8.18776566e-03,\n",
       "          9.05808679e-03, -6.31957847e-04, -3.39220391e-02,\n",
       "          2.03646948e-02,  1.77396330e-01,  1.94995091e-01,\n",
       "          2.05389714e-01],\n",
       "        [-9.12988526e-04,  1.37819496e-02, -3.25537992e-06,\n",
       "         -1.15202931e-02, -4.48158838e-03,  1.38481341e+00,\n",
       "          3.71388845e-01,  4.07800016e-01,  6.05624551e-01,\n",
       "         -4.64146871e-03, -1.47652799e-02, -4.56619852e-03,\n",
       "          1.99919302e-02,  1.25043618e-01, -5.77092019e-03,\n",
       "         -1.04816903e-02,  2.68844822e-02, -1.47235820e-01,\n",
       "          7.02798656e-03, -7.80388005e-04, -4.37855650e-02,\n",
       "         -3.35528120e-02,  2.33631347e-01,  2.44201838e-01,\n",
       "          2.69589357e-01],\n",
       "        [ 6.43191893e-06, -1.06764992e-04, -1.80190136e-06,\n",
       "          1.29631981e-04,  7.30009486e-05, -9.67535031e-03,\n",
       "         -2.30100203e-03, -2.73287958e-03, -4.64146871e-03,\n",
       "          2.36570079e-04,  1.12566954e-04,  7.56243183e-06,\n",
       "          2.10708275e-04, -2.95227559e-03, -2.77123205e-05,\n",
       "          7.73191408e-06,  7.76704445e-04,  4.28492788e-03,\n",
       "         -9.82827128e-05,  7.65358845e-06, -9.60650276e-04,\n",
       "          1.41502607e-03,  4.07349209e-03,  3.91029182e-03,\n",
       "          2.56369342e-03],\n",
       "        [ 3.89774414e-05, -7.21543010e-05,  5.09966157e-06,\n",
       "          1.94060057e-05, -5.41895000e-04, -4.40270200e-02,\n",
       "         -1.36418798e-02, -1.56198603e-02, -1.47652799e-02,\n",
       "          1.12566954e-04,  8.26535035e-04, -4.61400693e-05,\n",
       "         -2.62417720e-03, -4.41680998e-03,  5.47658971e-05,\n",
       "          1.77088443e-03, -2.56364751e-03,  4.83826725e-03,\n",
       "         -1.08854868e-05,  4.18721376e-05,  7.26381511e-04,\n",
       "         -4.09353040e-04, -5.33446279e-03, -6.36566385e-03,\n",
       "         -6.19131987e-03],\n",
       "        [-2.25513070e-06, -6.19191471e-05, -1.71711320e-06,\n",
       "          4.01742860e-05,  4.19561169e-05, -9.71161859e-03,\n",
       "         -2.67166088e-03, -2.47375919e-03, -4.56619852e-03,\n",
       "          7.56243183e-06, -4.61400693e-05,  1.97591429e-04,\n",
       "          3.51963486e-04,  1.15471525e-03, -1.28517342e-06,\n",
       "         -8.64957238e-04,  1.78380228e-03, -1.36761150e-03,\n",
       "         -5.19124674e-05,  6.36475789e-07,  1.31687887e-03,\n",
       "          6.65863816e-04, -5.98789534e-03, -5.77668288e-03,\n",
       "         -5.87144937e-03],\n",
       "        [-4.72898301e-04,  2.54480151e-03, -1.63766171e-04,\n",
       "         -4.70030790e-04,  4.30262473e-03,  1.47282698e-01,\n",
       "          3.81238491e-02,  8.91669188e-02,  1.99919302e-02,\n",
       "          2.10708275e-04, -2.62417720e-03,  3.51963486e-04,\n",
       "          2.63768168e-01, -1.76394832e-01, -1.80522997e-03,\n",
       "          6.79928101e-03, -4.23113453e-02,  1.45128511e-02,\n",
       "          1.02043839e-03,  4.93856610e-04,  7.98561668e-02,\n",
       "         -1.29807079e-02, -3.79608674e-01, -3.75812043e-01,\n",
       "         -4.07239072e-01],\n",
       "        [-1.61517317e-04,  1.12952805e-02,  1.68899364e-05,\n",
       "         -1.14834938e-02, -1.33554592e-02,  1.92421256e-01,\n",
       "          3.88099012e-02,  2.85677369e-02,  1.25043618e-01,\n",
       "         -2.95227559e-03, -4.41680998e-03,  1.15471525e-03,\n",
       "         -1.76394832e-01,  5.79435745e-01,  9.19477777e-04,\n",
       "         -5.29548348e-02, -1.48275561e-02, -3.52265702e-01,\n",
       "         -7.63841436e-03, -1.58485754e-03, -9.07946693e-02,\n",
       "         -3.58222723e-02,  4.94834145e-01,  5.13106720e-01,\n",
       "          5.10435658e-01],\n",
       "        [ 3.97164312e-06, -1.48844146e-04,  1.15086810e-06,\n",
       "          7.35099260e-05,  1.58274825e-04, -1.63175485e-02,\n",
       "         -4.52086948e-03, -6.02575886e-03, -5.77092019e-03,\n",
       "         -2.77123205e-05,  5.47658971e-05, -1.28517342e-06,\n",
       "         -1.80522997e-03,  9.19477777e-04,  3.40526568e-04,\n",
       "         -7.43277537e-04, -1.90956991e-03,  3.96105920e-04,\n",
       "         -3.79528009e-04, -1.88445913e-05,  2.64662231e-04,\n",
       "          6.01542805e-05,  1.05708431e-05,  2.73180512e-04,\n",
       "         -2.80469862e-04],\n",
       "        [ 1.95939513e-04, -2.35878947e-03,  2.36269250e-06,\n",
       "          2.46367436e-03, -1.81890603e-03, -5.47488358e-02,\n",
       "         -1.86276719e-02, -2.56394736e-02, -1.04816903e-02,\n",
       "          7.73191408e-06,  1.77088443e-03, -8.64957238e-04,\n",
       "          6.79928101e-03, -5.29548348e-02, -7.43277537e-04,\n",
       "          1.91675491e-01,  3.57065848e-02,  7.44292457e-02,\n",
       "         -3.61457837e-03,  5.31748748e-04,  6.46271034e-02,\n",
       "         -9.20216148e-03, -3.16859736e-01, -3.26012403e-01,\n",
       "         -3.13243534e-01],\n",
       "        [ 4.10231648e-05, -5.57083152e-03,  2.39678151e-04,\n",
       "         -1.91922717e-03, -5.83563234e-03,  5.69142445e-02,\n",
       "          2.51899273e-02,  4.83983499e-03,  2.68844822e-02,\n",
       "          7.76704445e-04, -2.56364751e-03,  1.78380228e-03,\n",
       "         -4.23113453e-02, -1.48275561e-02, -1.90956991e-03,\n",
       "          3.57065848e-02,  3.16385602e-01, -1.70838539e-02,\n",
       "          5.38630073e-04,  3.51934826e-04, -1.10243640e-02,\n",
       "         -1.97315474e-02,  2.97952428e-02,  2.19243416e-02,\n",
       "          2.92351072e-02],\n",
       "        [ 4.38103962e-04, -1.53245348e-02,  2.46974689e-04,\n",
       "          1.39986188e-02,  2.36207365e-02, -2.82448730e-01,\n",
       "         -1.27025143e-01, -8.18776566e-03, -1.47235820e-01,\n",
       "          4.28492788e-03,  4.83826725e-03, -1.36761150e-03,\n",
       "          1.45128511e-02, -3.52265702e-01,  3.96105920e-04,\n",
       "          7.44292457e-02, -1.70838539e-02,  1.10423233e+00,\n",
       "          7.98198442e-03,  2.16060708e-04,  7.40009639e-02,\n",
       "          2.43656402e-01, -3.56213699e-01, -3.36730192e-01,\n",
       "         -3.64421785e-01],\n",
       "        [ 5.40904352e-05, -6.52019828e-03,  2.31956683e-04,\n",
       "          1.52683955e-03,  8.21125916e-04,  2.42150042e-02,\n",
       "          8.12893080e-03,  9.05808679e-03,  7.02798656e-03,\n",
       "         -9.82827128e-05, -1.08854868e-05, -5.19124674e-05,\n",
       "          1.02043839e-03, -7.63841436e-03, -3.79528009e-04,\n",
       "         -3.61457837e-03,  5.38630073e-04,  7.98198442e-03,\n",
       "          2.78502297e-02,  1.39403937e-04,  1.14693295e-02,\n",
       "         -2.01112719e-02, -5.86410117e-02, -5.72791747e-02,\n",
       "         -6.19075287e-02],\n",
       "        [ 2.70616018e-05, -7.94234807e-05,  6.79037806e-06,\n",
       "          1.02986194e-04, -4.75542759e-05, -1.66190683e-03,\n",
       "         -2.49560974e-04, -6.31957847e-04, -7.80388005e-04,\n",
       "          7.65358845e-06,  4.18721376e-05,  6.36475789e-07,\n",
       "          4.93856610e-04, -1.58485754e-03, -1.88445913e-05,\n",
       "          5.31748748e-04,  3.51934826e-04,  2.16060708e-04,\n",
       "          1.39403937e-04,  1.99567742e-04,  3.98760392e-03,\n",
       "         -1.47929703e-03, -3.03022732e-02, -3.04646098e-02,\n",
       "         -3.06453525e-02],\n",
       "        [-1.22098526e-03, -1.82337427e-02,  5.50735536e-04,\n",
       "         -6.02491807e-03,  3.32786155e-04, -1.37703470e-01,\n",
       "         -5.99958657e-02, -3.39220391e-02, -4.37855650e-02,\n",
       "         -9.60650276e-04,  7.26381511e-04,  1.31687887e-03,\n",
       "          7.98561668e-02, -9.07946693e-02,  2.64662231e-04,\n",
       "          6.46271034e-02, -1.10243640e-02,  7.40009639e-02,\n",
       "          1.14693295e-02,  3.98760392e-03,  9.72521427e-01,\n",
       "         -1.16473821e-01, -4.53773455e+00, -4.55797847e+00,\n",
       "         -4.55478409e+00],\n",
       "        [-1.72422528e-04,  6.97171095e-03, -2.68435030e-04,\n",
       "          5.20312789e-04,  5.48646040e-03, -3.80413669e-02,\n",
       "         -2.48532496e-02,  2.03646948e-02, -3.35528120e-02,\n",
       "          1.41502607e-03, -4.09353040e-04,  6.65863816e-04,\n",
       "         -1.29807079e-02, -3.58222723e-02,  6.01542805e-05,\n",
       "         -9.20216148e-03, -1.97315474e-02,  2.43656402e-01,\n",
       "         -2.01112719e-02, -1.47929703e-03, -1.16473821e-01,\n",
       "          3.03056995e-01,  5.87409348e-01,  6.08297185e-01,\n",
       "          5.99286583e-01],\n",
       "        [ 3.53957105e-03,  8.74759290e-02, -2.91417786e-03,\n",
       "          1.91622903e-02,  7.27683741e-04,  6.88537052e-01,\n",
       "          2.77509375e-01,  1.77396330e-01,  2.33631347e-01,\n",
       "          4.07349209e-03, -5.33446279e-03, -5.98789534e-03,\n",
       "         -3.79608674e-01,  4.94834145e-01,  1.05708431e-05,\n",
       "         -3.16859736e-01,  2.97952428e-02, -3.56213699e-01,\n",
       "         -5.86410117e-02, -3.03022732e-02, -4.53773455e+00,\n",
       "          5.87409348e-01,  2.19589268e+01,  2.19899017e+01,\n",
       "          2.19925184e+01],\n",
       "        [ 3.57846632e-03,  9.06306551e-02, -3.05413158e-03,\n",
       "          1.94478012e-02,  8.40955092e-04,  7.20134931e-01,\n",
       "          2.80938001e-01,  1.94995091e-01,  2.44201838e-01,\n",
       "          3.91029182e-03, -6.36566385e-03, -5.77668288e-03,\n",
       "         -3.75812043e-01,  5.13106720e-01,  2.73180512e-04,\n",
       "         -3.26012403e-01,  2.19243416e-02, -3.36730192e-01,\n",
       "         -5.72791747e-02, -3.04646098e-02, -4.55797847e+00,\n",
       "          6.08297185e-01,  2.19899017e+01,  2.21682341e+01,\n",
       "          2.20899164e+01],\n",
       "        [ 4.01102950e-03,  7.22795989e-02, -2.42081044e-03,\n",
       "          2.23550405e-02,  3.56455370e-03,  7.68422201e-01,\n",
       "          2.93443130e-01,  2.05389714e-01,  2.69589357e-01,\n",
       "          2.56369342e-03, -6.19131987e-03, -5.87144937e-03,\n",
       "         -4.07239072e-01,  5.10435658e-01, -2.80469862e-04,\n",
       "         -3.13243534e-01,  2.92351072e-02, -3.64421785e-01,\n",
       "         -6.19075287e-02, -3.06453525e-02, -4.55478409e+00,\n",
       "          5.99286583e-01,  2.19925184e+01,  2.20899164e+01,\n",
       "          2.22093623e+01]]))"
      ]
     },
     "execution_count": 963,
     "metadata": {},
     "output_type": "execute_result"
    },
    {
     "data": {
      "image/png": "[encoded data removed]",
      "text/plain": [
       "<Figure size 1000x500 with 2 Axes>"
      ]
     },
     "metadata": {
      "needs_background": "light"
     },
     "output_type": "display_data"
    }
   ],
   "source": [
    "df['rule'] = df.pred_cate<0\n",
    "#fig, asre_test, vcv_test = \n",
    "asre_package(df, \n",
    "          rule = \"rule\",\n",
    "          ttt = 'cabg', y = \"Y\",\n",
    "          ps_predictors = [\"age\", \"crcl_log\", \"copd\", \"tvd\", \"lmcad\", \"both\"],\n",
    "          pronostic_predictors = [\"tvd\", \"lmcad\", \"both\", \"syntax\", \"age\", \"crcl\", \"diabetes\", \"insulin\", \"lvef\", \"smoking\", \"pvd\", \"copd\"],\n",
    "          ctst_vrb = ['syntax', 'tvd', 'lmcad'],\n",
    "          est='ASRE_cb', alpha = .5, n_alphas=5, precision=3)"
   ]
  },
  {
   "cell_type": "markdown",
   "metadata": {},
   "source": [
    "#### X-learner\n",
    "\n",
    "Implementation based on Kunzel et al., Metalearners for estimating heterogeneous treatment effects using machine learning, PNAS, 2019 <br>\n",
    "with random forrest as base learners"
   ]
  },
  {
   "cell_type": "code",
   "execution_count": 754,
   "metadata": {},
   "outputs": [],
   "source": [
    "def x_learner(df, pronostic_predictors, ttt, y, n_trees=100, max_features = \"sqrt\", e_hat = np.repeat(.5, len(df))):\n",
    "    \n",
    "    \"\"\"X-learner algorythm with Random Forrest as base learners\n",
    "    default weighting is e_hat=.5 but may be changed for a PS array\"\"\"\n",
    "    \n",
    "    try:\n",
    "        pr_mod = RandomForestClassifier(n_estimators = n_trees, max_features = max_features)\n",
    "\n",
    "        pr_mod1 = pr_mod.fit(df[df[ttt]==1].loc[:,pronostic_predictors], df[df[ttt]==1].loc[:,y])\n",
    "        y1_hat = pr_mod1.predict_proba(df.loc[:,pronostic_predictors])[:,1]\n",
    "\n",
    "        pr_mod0 = pr_mod.fit(df[df[ttt]==0].loc[:,pronostic_predictors], df[df[ttt]==0].loc[:,y])\n",
    "        y0_hat = pr_mod0.predict_proba(df.loc[:,pronostic_predictors])[:,1]\n",
    "\n",
    "        cate_imp1 = np.array(df[df[ttt]==1].loc[:,y] - y0_hat[df[ttt]==1])\n",
    "        cate_imp0 = np.array(y1_hat[df[ttt]==0] - df[df[ttt]==0].loc[:,y])\n",
    "\n",
    "        pr_mod = RandomForestRegressor(n_estimators=n_trees, max_features = max_features)\n",
    "\n",
    "        tau1 = pr_mod.fit(df[df[ttt]==1].loc[:,pronostic_predictors], cate_imp1)\n",
    "        tau1_hat = tau1.predict(df.loc[:,pronostic_predictors])\n",
    "\n",
    "        tau0 = pr_mod.fit(df[df[ttt]==0].loc[:,pronostic_predictors], cate_imp0)\n",
    "        tau0_hat = tau0.predict(df.loc[:,pronostic_predictors])\n",
    "\n",
    "        cate_hat = (e_hat * tau0_hat) + (1 - e_hat) * tau1_hat\n",
    "        \n",
    "    except IndexError:\n",
    "        cate_hat = np.repeat(float(\"nan\"), len(df))\n",
    "        print('IndexError in Random Forrest fit, Nan output.')\n",
    "    return cate_hat"
   ]
  },
  {
   "cell_type": "markdown",
   "metadata": {},
   "source": [
    "#### Define a generic function that will compute $ \\hat{e}(x) $ and $ \\hat{\\tau}(x) $ for all simulated patients\n",
    "- Uses either X-learner or A-learning as defined above\n",
    "- PS and prognostic models are fitted through Random Forrests\n",
    "- Tuning can be provided as `n_trees` and `max_features`\n",
    "- See docstring for details"
   ]
  },
  {
   "cell_type": "code",
   "execution_count": 755,
   "metadata": {},
   "outputs": [],
   "source": [
    "def ps_cate_preds(df, n_trees=100, max_features = \"sqrt\", \n",
    "                method='a',\n",
    "                ttt = 'cabg', y = 'Y',\n",
    "                ps_predictors = [\"age\", \"crcl_log\", \"copd\", \"tvd\", \"lmcad\", \"both\"],\n",
    "                pronostic_predictors = [\"tvd\", \"lmcad\", \"both\", \"syntax\", \"age\", \"crcl\", \"diabetes\", \"insulin\", \"lvef\", \"smoking\", \"pvd\", \"copd\"],\n",
    "                ctst_vrb = ['syntax', 'tvd', 'lmcad'],\n",
    "                progress=1, step=10):\n",
    "    \n",
    "    \"\"\"Compute PS and CATE from a dataset from X-Learner and A-learning for method = 'x' or 'a' respectively.\n",
    "    ctst_vrb are the contrast function variables and need only be provided in the case of A-learning.\n",
    "    Progress and step are merely printing arguments to follow progression while the function is being looped over.\n",
    "    \"\"\"   \n",
    "    \n",
    "    df_temp = df.copy()\n",
    "    \n",
    "    if method==\"x\":\n",
    "        \n",
    "        if isinstance(ps_predictors, pd.core.series.Series):\n",
    "            e_hat = ps_predictors\n",
    "            print('PS array provided, no model fitted')\n",
    "        else:\n",
    "            from sklearn.ensemble import RandomForestClassifier, RandomForestRegressor \n",
    "            \n",
    "            ps_mod = RandomForestClassifier(n_estimators = n_trees, max_features = max_features)\n",
    "            ps_mod = ps_mod.fit(df[ps_predictors], df[ttt])\n",
    "            e_hat = ps_mod.predict_proba(df[ps_predictors])[:,1]\n",
    "        \n",
    "        df_temp[\"e_hat\"] = e_hat\n",
    "        \n",
    "        df_temp[\"cate_hat\"] = x_learner(df_temp, n_trees=n_trees, e_hat = df_temp[\"e_hat\"],\n",
    "                               pronostic_predictors = pronostic_predictors, ttt=ttt, y=y)\n",
    "    \n",
    "    elif method==\"a\":\n",
    "        \n",
    "        from sklearn.linear_model import LogisticRegression\n",
    "        ps_mod = LogisticRegression(max_iter=2000)\n",
    "        ps_mod = ps_mod.fit(df[ps_predictors], df[ttt])\n",
    "        df_temp[\"e_hat\"] = ps_mod.predict_proba(df[ps_predictors])[:,1]      \n",
    "        \n",
    "        pr_mod = LogisticRegression(max_iter=2000)\n",
    "        pronostic_predictors_A = pronostic_predictors.copy()\n",
    "        pronostic_predictors_A.append(ttt)\n",
    "        pr_mod1 = pr_mod.fit(df.loc[:,pronostic_predictors_A], df.loc[:,y])\n",
    "        \n",
    "        X = df.loc[:,pronostic_predictors]\n",
    "        X[ttt] = np.repeat(0, len(X))        \n",
    "        df_temp[\"y0_hat\"] = pr_mod1.predict_proba(X)[:,1]\n",
    "        \n",
    "        df_temp[\"cate_hat\"] = A_learning(df = df_temp, ctst_vrb = ctst_vrb, ps = \"e_hat\", nu = \"y0_hat\", ttt = ttt, y = y)[1]        \n",
    "        \n",
    "        df_temp.drop('y0_hat', axis=1, inplace=True)\n",
    "        \n",
    "    if progress % (step + 1) == 0:\n",
    "        print(progress)\n",
    "        \n",
    "    return df_temp #, ps_mod.coef_, ps_mod.intercept_, pr_mod1.coef_, pr_mod1.intercept_"
   ]
  },
  {
   "cell_type": "markdown",
   "metadata": {},
   "source": [
    "#### Apply with A-learning on the first dataset\n",
    "- Contrast function, prognostic and PS models take relevant variables as inputs."
   ]
  },
  {
   "cell_type": "code",
   "execution_count": 756,
   "metadata": {},
   "outputs": [],
   "source": [
    "df_A = ps_cate_preds(df=df_1, method= 'a', n_trees=100, max_features = \"sqrt\", \n",
    "                    ttt = 'cabg', y = 'Y',\n",
    "                    ps_predictors = [\"age\", \"crcl_log\", \"copd\", \"tvd\", \"lmcad\", \"both\"],\n",
    "                    pronostic_predictors = [\"tvd\", \"lmcad\", \"both\", \"syntax\", \"age\", \"crcl\", \"diabetes\", \"insulin\", \"lvef\", \"smoking\", \"pvd\", \"copd\"],\n",
    "                    ctst_vrb = ['syntax', 'tvd', 'lmcad'])"
   ]
  },
  {
   "cell_type": "markdown",
   "metadata": {},
   "source": [
    "#### Apply with X-learner on the first dataset\n",
    "- Prognostic take relevant variables as inputs, PScores is passed as an array and no model need to be reffitted for computational speed concerns, contrast function needs not be specified."
   ]
  },
  {
   "cell_type": "code",
   "execution_count": 757,
   "metadata": {},
   "outputs": [],
   "source": [
    "df_X = ps_cate_preds(df=df_1, method= 'x', n_trees=100, max_features = \"sqrt\", \n",
    "                    ttt = 'cabg', y = 'Y',\n",
    "                    ps_predictors = [\"age\", \"crcl_log\", \"copd\", \"tvd\", \"lmcad\", \"both\"],\n",
    "                    pronostic_predictors = [\"tvd\", \"lmcad\", \"both\", \"syntax\", \"age\", \"crcl\", \"diabetes\", \"insulin\", \"lvef\", \"smoking\", \"pvd\", \"copd\"],\n",
    "                    ctst_vrb = [''])"
   ]
  },
  {
   "cell_type": "markdown",
   "metadata": {},
   "source": [
    "#### Plot the \"Goodness of fit\" for the CATEs and PSs"
   ]
  },
  {
   "cell_type": "code",
   "execution_count": 758,
   "metadata": {},
   "outputs": [
    {
     "name": "stdout",
     "output_type": "stream",
     "text": [
      "A-learning:\n",
      "Intercept = -0.024\n",
      "Slope = 3.793\n",
      "Pearson = 0.497\n",
      "\n",
      "X-learner:\n",
      "Intercept = 0.004\n",
      "Slope = 0.26\n",
      "Pearson = 0.051\n"
     ]
    },
    {
     "data": {
      "image/png": "[encoded data removed]",
      "text/plain": [
       "<Figure size 1000x1000 with 4 Axes>"
      ]
     },
     "metadata": {
      "needs_background": "light"
     },
     "output_type": "display_data"
    }
   ],
   "source": [
    "n_points = n\n",
    "\n",
    "fig, axs = plt.subplots(2, 2, figsize=(10,10))\n",
    "fig.suptitle('Predictions vs true values in the first dataset \\n Panel A: A-learning \\n Panel B: X-learner', size=15)\n",
    "\n",
    "#### A-learning as base learner for the CATE\n",
    "axs[0,0].text(-0.2, 1, \"A\", transform=axs[0,0].transAxes, fontsize=20,\n",
    "        verticalalignment='top')\n",
    "\n",
    "axs[0,0].plot(df_A[\"true_cate\"][:n_points], df_A[\"cate_hat\"][:n_points], \"o\", alpha=.05);\n",
    "axs[0,0].set_xlabel(r'$\\tau(X_i)$')\n",
    "axs[0,0].set_ylabel(r'$\\hat{\\tau}(X_i)$')\n",
    "\n",
    "m, b = np.polyfit(df_A[\"true_cate\"][:n_points], df_A[\"cate_hat\"][:n_points], 1)\n",
    "print('A-learning:')\n",
    "print(\"Intercept = \"+ str(np.round(b,3)))\n",
    "print(\"Slope = \"+ str(np.round(m,3)))\n",
    "from scipy.stats import pearsonr\n",
    "print(\"Pearson = \" + str(np.round( pearsonr(df_A[\"true_cate\"], df_A[\"cate_hat\"])[0] , 3)) ) \n",
    "\n",
    "axs[0,0].plot([min(df_A[\"true_cate\"]), max(df_A[\"true_cate\"])], [m*min(df_A[\"true_cate\"]) + b, m*max(df_A[\"true_cate\"]) + b], label=\"linar fit\")\n",
    "axs[0,0].plot([-.4,.4], [-.4,.4], linestyle=\":\", label=\"diagonal\")\n",
    "axs[0,0].set_xlim([min(df_A[\"true_cate\"]), max(df_A[\"true_cate\"])])\n",
    "axs[0,0].set_ylim([min(df_A[\"true_cate\"]), max(df_A[\"true_cate\"])])\n",
    "axs[0,0].legend()\n",
    "\n",
    "\n",
    "axs[0,1].plot(df_A[\"cabg_pr\"][:n_points], df_A[\"e_hat\"][:n_points], \"o\", alpha=.05);\n",
    "axs[0,1].set_xlabel('$e(X_i)$')\n",
    "axs[0,1].set_ylabel('$\\hat{e}(X_i)$');\n",
    "\n",
    "m, b = np.polyfit(df_A[\"cabg_pr\"], df_A[\"e_hat\"], 1)\n",
    "axs[0,1].plot([0,1], m*np.array([0,1]) + b)\n",
    "axs[0,1].plot([0,1], [0,1], linestyle=\":\", label=\"diagonal\")\n",
    "axs[0,1].set_xlim([0,1])\n",
    "axs[0,1].set_ylim([0,1]);\n",
    "\n",
    "#### X-learner as base learner for the CATE\n",
    "axs[1,0].text(-0.2, 1, \"B\", transform=axs[1,0].transAxes, fontsize=20,\n",
    "        verticalalignment='top')\n",
    "\n",
    "axs[1,0].plot(df_X[\"true_cate\"][:n_points], df_X[\"cate_hat\"][:n_points], \"o\", alpha=.05);\n",
    "axs[1,0].set_xlabel(r'$\\tau(X_i)$')\n",
    "axs[1,0].set_ylabel(r'$\\hat{\\tau}(X_i)$')\n",
    "\n",
    "m, b = np.polyfit(df_X[\"true_cate\"][:n_points], df_X[\"cate_hat\"][:n_points], 1)\n",
    "print('\\nX-learner:')\n",
    "print(\"Intercept = \"+ str(np.round(b,3)))\n",
    "print(\"Slope = \"+ str(np.round(m,3)))\n",
    "from scipy.stats import pearsonr\n",
    "print(\"Pearson = \" + str(np.round( pearsonr(df_X[\"true_cate\"], df_X[\"cate_hat\"])[0] , 3)) ) \n",
    "\n",
    "axs[1,0].plot([min(df_X[\"true_cate\"]), max(df_X[\"true_cate\"])], [m*min(df_X[\"true_cate\"]) + b, m*max(df_X[\"true_cate\"]) + b], label=\"linar fit\")\n",
    "axs[1,0].plot([-.4,.4], [-.4,.4], linestyle=\":\", label=\"diagonal\")\n",
    "axs[1,0].set_xlim([min(df_X[\"true_cate\"]), max(df_X[\"true_cate\"])])\n",
    "axs[1,0].set_ylim([min(df_X[\"true_cate\"]), max(df_X[\"true_cate\"])])\n",
    "\n",
    "\n",
    "axs[1,1].plot(df_X[\"cabg_pr\"][:n_points], df_X[\"e_hat\"][:n_points], \"o\", alpha=.05);\n",
    "axs[1,1].set_xlabel('$e(X_i)$')\n",
    "axs[1,1].set_ylabel('$\\hat{e}(X_i)$');\n",
    "\n",
    "m, b = np.polyfit(df_X[\"cabg_pr\"], df_X[\"e_hat\"], 1)\n",
    "axs[1,1].plot([0,1], m*np.array([0,1]) + b)\n",
    "axs[1,1].plot([0,1], [0,1], linestyle=\":\", label=\"diagonal\")\n",
    "axs[1,1].set_xlim([0,1])\n",
    "axs[1,1].set_ylim([0,1]);"
   ]
  },
  {
   "cell_type": "markdown",
   "metadata": {},
   "source": [
    "#### Define functions for ARE and ASREs (three stochastic implementations as described below)"
   ]
  },
  {
   "cell_type": "code",
   "execution_count": 759,
   "metadata": {},
   "outputs": [],
   "source": [
    "def compute_are_hat(df):\n",
    "    \"\"\"Compute ARE from a df where e_hat and cate_hat are provided\"\"\"\n",
    "    # Do not need e_hat for are_hat computation\n",
    "    # are_hat = np.mean( ( (df.pred_cate<0) - df.e_hat)*df.cate_hat)\n",
    "    \n",
    "    # In the expectation e_hat marginalizes to A (see notes for proof) \n",
    "    are_hat = np.mean( ( (df.pred_cate<0) - df.cabg)*df.cate_hat)\n",
    "    \n",
    "    return are_hat"
   ]
  },
  {
   "cell_type": "code",
   "execution_count": 760,
   "metadata": {},
   "outputs": [],
   "source": [
    "def compute_r_asre_hat(df, alpha):\n",
    "    \"\"\"Compute uniform/random ASRE from a df where e_hat and cate_hat are provided\n",
    "    alpha is the uniform/random parameter (bounded between 0 and 1) \"\"\"\n",
    "    df_temp = df\n",
    "    df_temp['p_x'] = np.repeat(alpha, len(df))\n",
    "    r_asre_hat = np.mean( df_temp.p_x * ( (df_temp.pred_cate<0) - df_temp.cabg)*df_temp.cate_hat)\n",
    "    return r_asre_hat"
   ]
  },
  {
   "cell_type": "code",
   "execution_count": 761,
   "metadata": {},
   "outputs": [],
   "source": [
    "def compute_ci_asre_hat(df, alpha):\n",
    "    \"\"\"Compute CI ASRE from a df where e_hat and cate_hat are provided\"\"\"\n",
    "    df_temp = syntax_iHR_ci(df, alpha)\n",
    "    ci_asre_hat = np.mean( df_temp.significance * ( (df_temp.pred_cate<0) - df_temp.cabg)*df_temp.cate_hat)\n",
    "    return ci_asre_hat"
   ]
  },
  {
   "cell_type": "code",
   "execution_count": 762,
   "metadata": {},
   "outputs": [],
   "source": [
    "def legit(x):\n",
    "    return .5 * np.log((x+1)/(1-x))\n",
    "\n",
    "def compute_cb_asre_hat(df, alpha):\n",
    "    \"\"\"Compute cognitive biais ASRE from a df where e_hat and cate_hat are provided,\n",
    "    alpha is the cognitive biais parameter (bounded between 0 and 1) \"\"\"\n",
    "    df_temp = df\n",
    "    df_temp['p_x'] = (1 - np.abs( (df_temp['pred_cate']<0) - df_temp['e_hat']) ) ** legit(alpha)\n",
    "    cb_asre_hat = np.mean( df_temp.p_x * ( (df_temp.pred_cate<0) - df_temp.cabg)*df_temp.cate_hat)\n",
    "    return cb_asre_hat"
   ]
  },
  {
   "cell_type": "markdown",
   "metadata": {},
   "source": [
    "#### Estimate ARE and ASREs in each imputed dataset\n",
    "##### I/ Create a list of datasets"
   ]
  },
  {
   "cell_type": "code",
   "execution_count": 763,
   "metadata": {},
   "outputs": [],
   "source": [
    "inds = np.arange(sims)+1\n",
    "\n",
    "df_list=[]\n",
    "for i in inds:\n",
    "    df_list.append(df[df['sim_id']==i])"
   ]
  },
  {
   "cell_type": "markdown",
   "metadata": {},
   "source": [
    "##### II/ Fit PS, pronostic (and contrast function) models in all `sims` datasets\n",
    "- A-learning fits logistic regression models for PS and prognosis and has semi-parametric implementation for the contrast function\n",
    "- X-learner fits four random forests for 'prognosis' and one for the PS\n",
    "- Takes time in case of a large number of datasets to analyze\n",
    "- Comprehensive list seems faster than parallelization through `from multiprocessing import Pool`"
   ]
  },
  {
   "cell_type": "markdown",
   "metadata": {},
   "source": [
    "a) A-Learning "
   ]
  },
  {
   "cell_type": "code",
   "execution_count": 764,
   "metadata": {},
   "outputs": [
    {
     "name": "stdout",
     "output_type": "stream",
     "text": [
      "0\n"
     ]
    }
   ],
   "source": [
    "dfs_ready_A = [ps_cate_preds(df=data, method= 'a', progress=progress, step=int(sims/10)) for progress, data in enumerate(df_list)]"
   ]
  },
  {
   "cell_type": "markdown",
   "metadata": {},
   "source": [
    "b) X-learner"
   ]
  },
  {
   "cell_type": "code",
   "execution_count": 765,
   "metadata": {},
   "outputs": [
    {
     "name": "stdout",
     "output_type": "stream",
     "text": [
      "0\n"
     ]
    }
   ],
   "source": [
    "dfs_ready_X = [ps_cate_preds(df=data, method= 'x', progress=progress, step=int(sims/10)) for progress, data in enumerate(df_list)]"
   ]
  },
  {
   "cell_type": "markdown",
   "metadata": {},
   "source": [
    "##### III/ Now, all ARE / ASREs computations below are instantaneous.."
   ]
  },
  {
   "cell_type": "markdown",
   "metadata": {},
   "source": [
    "a) A-Learning "
   ]
  },
  {
   "cell_type": "code",
   "execution_count": 766,
   "metadata": {},
   "outputs": [],
   "source": [
    "are_hats_A = [compute_are_hat(i) for i in dfs_ready_A]"
   ]
  },
  {
   "cell_type": "code",
   "execution_count": 767,
   "metadata": {},
   "outputs": [],
   "source": [
    "r_1_3_asre_hats_A = [compute_r_asre_hat(i, alpha=1/3) for i in dfs_ready_A]\n",
    "r_2_3_asre_hats_A = [compute_r_asre_hat(i, alpha=2/3) for i in dfs_ready_A]"
   ]
  },
  {
   "cell_type": "code",
   "execution_count": 768,
   "metadata": {},
   "outputs": [],
   "source": [
    "ci_95_asre_hats_A = [compute_ci_asre_hat(i, alpha=.05) for i in dfs_ready_A]\n",
    "ci_55_asre_hats_A = [compute_ci_asre_hat(i, alpha=.45) for i in dfs_ready_A]"
   ]
  },
  {
   "cell_type": "code",
   "execution_count": 769,
   "metadata": {},
   "outputs": [],
   "source": [
    "cb_1_3_asre_hats_A = [compute_cb_asre_hat(i, alpha=1/3) for i in dfs_ready_A]\n",
    "cb_2_3_asre_hats_A = [compute_cb_asre_hat(i, alpha=2/3) for i in dfs_ready_A]"
   ]
  },
  {
   "cell_type": "markdown",
   "metadata": {},
   "source": [
    "b) X-learner"
   ]
  },
  {
   "cell_type": "code",
   "execution_count": 770,
   "metadata": {},
   "outputs": [],
   "source": [
    "are_hats_X = [compute_are_hat(i) for i in dfs_ready_X]"
   ]
  },
  {
   "cell_type": "code",
   "execution_count": 771,
   "metadata": {},
   "outputs": [],
   "source": [
    "r_1_3_asre_hats_X = [compute_r_asre_hat(i, alpha=1/3) for i in dfs_ready_X]\n",
    "r_2_3_asre_hats_X = [compute_r_asre_hat(i, alpha=2/3) for i in dfs_ready_X]"
   ]
  },
  {
   "cell_type": "code",
   "execution_count": 772,
   "metadata": {},
   "outputs": [],
   "source": [
    "ci_95_asre_hats_X = [compute_ci_asre_hat(i, alpha=.05) for i in dfs_ready_X]\n",
    "ci_55_asre_hats_X = [compute_ci_asre_hat(i, alpha=.45) for i in dfs_ready_X]"
   ]
  },
  {
   "cell_type": "code",
   "execution_count": 773,
   "metadata": {},
   "outputs": [],
   "source": [
    "cb_1_3_asre_hats_X = [compute_cb_asre_hat(i, alpha=1/3) for i in dfs_ready_X]\n",
    "cb_2_3_asre_hats_X = [compute_cb_asre_hat(i, alpha=2/3) for i in dfs_ready_X]"
   ]
  },
  {
   "cell_type": "markdown",
   "metadata": {},
   "source": [
    "#### Import true values from `true_val.ipynb`\n",
    "True values of the estimators were calculated using the true values $e(X_i)$ and $\\tau(X_i)$ for a population of 20,000 individuals."
   ]
  },
  {
   "cell_type": "code",
   "execution_count": 774,
   "metadata": {},
   "outputs": [
    {
     "ename": "ModuleNotFoundError",
     "evalue": "No module named 'ipynb.fs.full.true_val'",
     "output_type": "error",
     "traceback": [
      "\u001b[0;31m---------------------------------------------------------------------------\u001b[0m",
      "\u001b[0;31mModuleNotFoundError\u001b[0m                       Traceback (most recent call last)",
      "\u001b[0;32m<ipython-input-774-2ecb6516e3b1>\u001b[0m in \u001b[0;36m<module>\u001b[0;34m\u001b[0m\n\u001b[0;32m----> 1\u001b[0;31m \u001b[0;32mfrom\u001b[0m \u001b[0mipynb\u001b[0m\u001b[0;34m.\u001b[0m\u001b[0mfs\u001b[0m\u001b[0;34m.\u001b[0m\u001b[0mfull\u001b[0m\u001b[0;34m.\u001b[0m\u001b[0mtrue_val\u001b[0m \u001b[0;32mimport\u001b[0m \u001b[0mtrue_are\u001b[0m\u001b[0;34m,\u001b[0m \u001b[0mtrue_1_3_r_asre\u001b[0m\u001b[0;34m,\u001b[0m \u001b[0mtrue_2_3_r_asre\u001b[0m\u001b[0;34m,\u001b[0m \u001b[0mtrue_95_ci_asre\u001b[0m\u001b[0;34m,\u001b[0m \u001b[0mtrue_55_ci_asre\u001b[0m\u001b[0;34m,\u001b[0m \u001b[0mtrue_1_3_cb_asre\u001b[0m\u001b[0;34m,\u001b[0m \u001b[0mtrue_2_3_cb_asre\u001b[0m\u001b[0;34m\u001b[0m\u001b[0;34m\u001b[0m\u001b[0m\n\u001b[0m",
      "\u001b[0;31mModuleNotFoundError\u001b[0m: No module named 'ipynb.fs.full.true_val'"
     ]
    }
   ],
   "source": [
    "from ipynb.fs.full.true_val import true_are, true_1_3_r_asre, true_2_3_r_asre, true_95_ci_asre, true_55_ci_asre, true_1_3_cb_asre, true_2_3_cb_asre"
   ]
  },
  {
   "cell_type": "markdown",
   "metadata": {},
   "source": [
    "#### Plot results"
   ]
  },
  {
   "cell_type": "code",
   "execution_count": 775,
   "metadata": {},
   "outputs": [
    {
     "ename": "NameError",
     "evalue": "name 'true_are' is not defined",
     "output_type": "error",
     "traceback": [
      "\u001b[0;31m---------------------------------------------------------------------------\u001b[0m",
      "\u001b[0;31mNameError\u001b[0m                                 Traceback (most recent call last)",
      "\u001b[0;32m<ipython-input-775-0106183b267d>\u001b[0m in \u001b[0;36m<module>\u001b[0;34m\u001b[0m\n\u001b[1;32m      9\u001b[0m \u001b[0maxs\u001b[0m\u001b[0;34m[\u001b[0m\u001b[0;36m0\u001b[0m\u001b[0;34m,\u001b[0m\u001b[0;36m0\u001b[0m\u001b[0;34m]\u001b[0m\u001b[0;34m.\u001b[0m\u001b[0mhist\u001b[0m\u001b[0;34m(\u001b[0m\u001b[0mare_hats_A\u001b[0m\u001b[0;34m,\u001b[0m \u001b[0mdensity\u001b[0m\u001b[0;34m=\u001b[0m\u001b[0;32mTrue\u001b[0m\u001b[0;34m,\u001b[0m \u001b[0malpha\u001b[0m\u001b[0;34m=\u001b[0m\u001b[0;36m.5\u001b[0m\u001b[0;34m)\u001b[0m\u001b[0;34m;\u001b[0m\u001b[0;34m\u001b[0m\u001b[0;34m\u001b[0m\u001b[0m\n\u001b[1;32m     10\u001b[0m \u001b[0maxs\u001b[0m\u001b[0;34m[\u001b[0m\u001b[0;36m0\u001b[0m\u001b[0;34m,\u001b[0m\u001b[0;36m0\u001b[0m\u001b[0;34m]\u001b[0m\u001b[0;34m.\u001b[0m\u001b[0mset_ylabel\u001b[0m\u001b[0;34m(\u001b[0m\u001b[0;34m'Density'\u001b[0m\u001b[0;34m)\u001b[0m\u001b[0;34m;\u001b[0m\u001b[0;34m\u001b[0m\u001b[0;34m\u001b[0m\u001b[0m\n\u001b[0;32m---> 11\u001b[0;31m \u001b[0maxs\u001b[0m\u001b[0;34m[\u001b[0m\u001b[0;36m0\u001b[0m\u001b[0;34m,\u001b[0m\u001b[0;36m0\u001b[0m\u001b[0;34m]\u001b[0m\u001b[0;34m.\u001b[0m\u001b[0maxvline\u001b[0m\u001b[0;34m(\u001b[0m\u001b[0mtrue_are\u001b[0m\u001b[0;34m,\u001b[0m \u001b[0mcolor\u001b[0m\u001b[0;34m=\u001b[0m\u001b[0;34m'tab:blue'\u001b[0m\u001b[0;34m,\u001b[0m \u001b[0mlinestyle\u001b[0m\u001b[0;34m=\u001b[0m\u001b[0;34m'dashed'\u001b[0m\u001b[0;34m,\u001b[0m \u001b[0mlinewidth\u001b[0m\u001b[0;34m=\u001b[0m\u001b[0;36m2\u001b[0m\u001b[0;34m)\u001b[0m\u001b[0;34m\u001b[0m\u001b[0;34m\u001b[0m\u001b[0m\n\u001b[0m\u001b[1;32m     12\u001b[0m \u001b[0;34m\u001b[0m\u001b[0m\n\u001b[1;32m     13\u001b[0m \u001b[0maxs\u001b[0m\u001b[0;34m[\u001b[0m\u001b[0;36m0\u001b[0m\u001b[0;34m,\u001b[0m\u001b[0;36m1\u001b[0m\u001b[0;34m]\u001b[0m\u001b[0;34m.\u001b[0m\u001b[0mhist\u001b[0m\u001b[0;34m(\u001b[0m\u001b[0mr_1_3_asre_hats_A\u001b[0m\u001b[0;34m,\u001b[0m \u001b[0mdensity\u001b[0m\u001b[0;34m=\u001b[0m\u001b[0;32mTrue\u001b[0m\u001b[0;34m,\u001b[0m \u001b[0malpha\u001b[0m\u001b[0;34m=\u001b[0m\u001b[0;36m.5\u001b[0m\u001b[0;34m,\u001b[0m \u001b[0mlabel\u001b[0m\u001b[0;34m=\u001b[0m\u001b[0;34m\"alpha=1/3\"\u001b[0m\u001b[0;34m)\u001b[0m\u001b[0;34m;\u001b[0m\u001b[0;34m\u001b[0m\u001b[0;34m\u001b[0m\u001b[0m\n",
      "\u001b[0;31mNameError\u001b[0m: name 'true_are' is not defined"
     ]
    },
    {
     "data": {
      "image/png": "[encoded data removed]",
      "text/plain": [
       "<Figure size 2000x1000 with 8 Axes>"
      ]
     },
     "metadata": {
      "needs_background": "light"
     },
     "output_type": "display_data"
    }
   ],
   "source": [
    "fig, axs = plt.subplots(2, 4, figsize=(20,10))\n",
    "\n",
    "fig.suptitle('Distribution of Estimates vs True values \\n Panel A: A-learning \\n Panel B: X-learner \\n Dashed lines represents the true value of the estimators')\n",
    "\n",
    "#### A-learning as base learner for the CATE\n",
    "axs[0,0].text(-0.2, 1, \"A\", transform=axs[0,0].transAxes, fontsize=20,\n",
    "        verticalalignment='top')\n",
    "\n",
    "axs[0,0].hist(are_hats_A, density=True, alpha=.5);\n",
    "axs[0,0].set_ylabel('Density');\n",
    "axs[0,0].axvline(true_are, color='tab:blue', linestyle='dashed', linewidth=2)\n",
    "\n",
    "axs[0,1].hist(r_1_3_asre_hats_A, density=True, alpha=.5, label=\"alpha=1/3\");\n",
    "axs[0,1].axvline(true_1_3_r_asre, color='tab:blue', linestyle='dashed', linewidth=2)\n",
    "axs[0,1].hist(r_2_3_asre_hats_A, density=True, alpha=.5, label=\"alpha=2/3\");\n",
    "axs[0,1].axvline(true_2_3_r_asre, color='tab:orange', linestyle='dashed', linewidth=2)\n",
    "axs[0,1].legend(loc='upper right')\n",
    "\n",
    "axs[0,2].hist(ci_95_asre_hats_A, density=True, alpha=.5, label=\"alpha=0.05\");\n",
    "axs[0,2].axvline(true_95_ci_asre, color='tab:blue', linestyle='dashed', linewidth=2)\n",
    "axs[0,2].hist(ci_55_asre_hats_A, density=True, alpha=.5, label=\"alpha=0.45\");\n",
    "axs[0,2].axvline(true_55_ci_asre, color='tab:orange', linestyle='dashed', linewidth=2)\n",
    "axs[0,2].legend(loc='upper right')\n",
    "\n",
    "axs[0,3].hist(cb_1_3_asre_hats_A, density=True, alpha=.5, label=\"alpha=1/3\");\n",
    "axs[0,3].axvline(true_1_3_cb_asre, color='tab:blue', linestyle='dashed', linewidth=2)\n",
    "axs[0,3].hist(cb_2_3_asre_hats_A, density=True, alpha=.5, label=\"alpha=2/3\");\n",
    "axs[0,3].axvline(true_2_3_cb_asre, color='tab:orange', linestyle='dashed', linewidth=2)\n",
    "axs[0,3].legend(loc='upper right');\n",
    "\n",
    "#### X-learner as base learner for the CATE\n",
    "axs[1,0].text(-0.2, 1, \"B\", transform=axs[1,0].transAxes, fontsize=20,\n",
    "        verticalalignment='top')\n",
    "\n",
    "axs[1,0].hist(are_hats_X, density=True, alpha=.5);\n",
    "axs[1,0].set_xlabel('$\\widehat{ARE}$');\n",
    "axs[1,0].set_ylabel('Density');\n",
    "axs[1,0].axvline(true_are, color='tab:blue', linestyle='dashed', linewidth=2)\n",
    "\n",
    "axs[1,1].hist(r_1_3_asre_hats_X, density=True, alpha=.5, label=\"alpha=1/3\");\n",
    "axs[1,1].axvline(true_1_3_r_asre, color='tab:blue', linestyle='dashed', linewidth=2)\n",
    "axs[1,1].hist(r_2_3_asre_hats_X, density=True, alpha=.5, label=\"alpha=2/3\");\n",
    "axs[1,1].axvline(true_2_3_r_asre, color='tab:orange', linestyle='dashed', linewidth=2)\n",
    "axs[1,1].set_xlabel('$\\widehat{ASRE}_{unif}$');\n",
    "axs[1,1].legend(loc='upper right')\n",
    "\n",
    "axs[1,2].hist(ci_95_asre_hats_X, density=True, alpha=.5, label=\"alpha=0.05\");\n",
    "axs[1,2].axvline(true_95_ci_asre, color='tab:blue', linestyle='dashed', linewidth=2)\n",
    "axs[1,2].hist(ci_55_asre_hats_X, density=True, alpha=.5, label=\"alpha=0.45\");\n",
    "axs[1,2].axvline(true_55_ci_asre, color='tab:orange', linestyle='dashed', linewidth=2)\n",
    "axs[1,2].set_xlabel('$\\widehat{ASRE}_{ci}$');\n",
    "axs[1,2].legend(loc='upper right')\n",
    "\n",
    "axs[1,3].hist(cb_1_3_asre_hats_X, density=True, alpha=.5, label=\"alpha=1/3\");\n",
    "axs[1,3].axvline(true_1_3_cb_asre, color='tab:blue', linestyle='dashed', linewidth=2)\n",
    "axs[1,3].hist(cb_2_3_asre_hats_X, density=True, alpha=.5, label=\"alpha=2/3\");\n",
    "axs[1,3].axvline(true_2_3_cb_asre, color='tab:orange', linestyle='dashed', linewidth=2)\n",
    "axs[1,3].set_xlabel('$\\widehat{ASRE}_{cb}$');\n",
    "axs[1,3].legend(loc='upper right');"
   ]
  },
  {
   "cell_type": "markdown",
   "metadata": {},
   "source": [
    "#### Relation between alpha and ASRE in each of the three three stochastic implementation scenarios"
   ]
  },
  {
   "cell_type": "code",
   "execution_count": null,
   "metadata": {},
   "outputs": [],
   "source": [
    "#alphas = np.linspace(.0001,.9999,1000)\n",
    "alphas = np.logspace(np.log10(1e-15), np.log10(.9999), 1000)\n",
    "\n",
    "r_asre_hat_alphas = [compute_r_asre_hat(dfs_ready_A[1], alpha) for alpha in alphas]\n",
    "ci_asre_hat_alphas = [compute_ci_asre_hat(dfs_ready_A[1], alpha) for alpha in alphas]\n",
    "cb_asre_hat_alphas =[compute_cb_asre_hat(dfs_ready_A[1], alpha) for alpha in alphas]\n",
    "\n",
    "are_hat = compute_are_hat(dfs_ready_A[1])"
   ]
  },
  {
   "cell_type": "code",
   "execution_count": 776,
   "metadata": {},
   "outputs": [
    {
     "ename": "IndexError",
     "evalue": "list index out of range",
     "output_type": "error",
     "traceback": [
      "\u001b[0;31m---------------------------------------------------------------------------\u001b[0m",
      "\u001b[0;31mIndexError\u001b[0m                                Traceback (most recent call last)",
      "\u001b[0;32m<ipython-input-776-a39a3cf9162f>\u001b[0m in \u001b[0;36m<module>\u001b[0;34m\u001b[0m\n\u001b[1;32m     12\u001b[0m     \u001b[0;32mreturn\u001b[0m \u001b[0mdf_temp\u001b[0m\u001b[0;34m[\u001b[0m\u001b[0;34m'p_x'\u001b[0m\u001b[0;34m]\u001b[0m\u001b[0;34m\u001b[0m\u001b[0;34m\u001b[0m\u001b[0m\n\u001b[1;32m     13\u001b[0m \u001b[0;34m\u001b[0m\u001b[0m\n\u001b[0;32m---> 14\u001b[0;31m \u001b[0mci_mean_px_alphas\u001b[0m \u001b[0;34m=\u001b[0m \u001b[0;34m[\u001b[0m\u001b[0mnp\u001b[0m\u001b[0;34m.\u001b[0m\u001b[0mmean\u001b[0m\u001b[0;34m(\u001b[0m\u001b[0mcompute_ci_px\u001b[0m\u001b[0;34m(\u001b[0m\u001b[0mdfs_ready_A\u001b[0m\u001b[0;34m[\u001b[0m\u001b[0;36m1\u001b[0m\u001b[0;34m]\u001b[0m\u001b[0;34m,\u001b[0m \u001b[0malpha\u001b[0m\u001b[0;34m)\u001b[0m\u001b[0;34m)\u001b[0m \u001b[0;32mfor\u001b[0m \u001b[0malpha\u001b[0m \u001b[0;32min\u001b[0m \u001b[0malphas\u001b[0m\u001b[0;34m]\u001b[0m\u001b[0;34m\u001b[0m\u001b[0;34m\u001b[0m\u001b[0m\n\u001b[0m\u001b[1;32m     15\u001b[0m \u001b[0mcb_mean_px_alphas\u001b[0m \u001b[0;34m=\u001b[0m \u001b[0;34m[\u001b[0m\u001b[0mnp\u001b[0m\u001b[0;34m.\u001b[0m\u001b[0mmean\u001b[0m\u001b[0;34m(\u001b[0m\u001b[0mcompute_cb_px\u001b[0m\u001b[0;34m(\u001b[0m\u001b[0mdfs_ready_A\u001b[0m\u001b[0;34m[\u001b[0m\u001b[0;36m1\u001b[0m\u001b[0;34m]\u001b[0m\u001b[0;34m,\u001b[0m \u001b[0malpha\u001b[0m\u001b[0;34m)\u001b[0m\u001b[0;34m)\u001b[0m \u001b[0;32mfor\u001b[0m \u001b[0malpha\u001b[0m \u001b[0;32min\u001b[0m \u001b[0malphas\u001b[0m\u001b[0;34m]\u001b[0m\u001b[0;34m\u001b[0m\u001b[0;34m\u001b[0m\u001b[0m\n",
      "\u001b[0;32m<ipython-input-776-a39a3cf9162f>\u001b[0m in \u001b[0;36m<listcomp>\u001b[0;34m(.0)\u001b[0m\n\u001b[1;32m     12\u001b[0m     \u001b[0;32mreturn\u001b[0m \u001b[0mdf_temp\u001b[0m\u001b[0;34m[\u001b[0m\u001b[0;34m'p_x'\u001b[0m\u001b[0;34m]\u001b[0m\u001b[0;34m\u001b[0m\u001b[0;34m\u001b[0m\u001b[0m\n\u001b[1;32m     13\u001b[0m \u001b[0;34m\u001b[0m\u001b[0m\n\u001b[0;32m---> 14\u001b[0;31m \u001b[0mci_mean_px_alphas\u001b[0m \u001b[0;34m=\u001b[0m \u001b[0;34m[\u001b[0m\u001b[0mnp\u001b[0m\u001b[0;34m.\u001b[0m\u001b[0mmean\u001b[0m\u001b[0;34m(\u001b[0m\u001b[0mcompute_ci_px\u001b[0m\u001b[0;34m(\u001b[0m\u001b[0mdfs_ready_A\u001b[0m\u001b[0;34m[\u001b[0m\u001b[0;36m1\u001b[0m\u001b[0;34m]\u001b[0m\u001b[0;34m,\u001b[0m \u001b[0malpha\u001b[0m\u001b[0;34m)\u001b[0m\u001b[0;34m)\u001b[0m \u001b[0;32mfor\u001b[0m \u001b[0malpha\u001b[0m \u001b[0;32min\u001b[0m \u001b[0malphas\u001b[0m\u001b[0;34m]\u001b[0m\u001b[0;34m\u001b[0m\u001b[0;34m\u001b[0m\u001b[0m\n\u001b[0m\u001b[1;32m     15\u001b[0m \u001b[0mcb_mean_px_alphas\u001b[0m \u001b[0;34m=\u001b[0m \u001b[0;34m[\u001b[0m\u001b[0mnp\u001b[0m\u001b[0;34m.\u001b[0m\u001b[0mmean\u001b[0m\u001b[0;34m(\u001b[0m\u001b[0mcompute_cb_px\u001b[0m\u001b[0;34m(\u001b[0m\u001b[0mdfs_ready_A\u001b[0m\u001b[0;34m[\u001b[0m\u001b[0;36m1\u001b[0m\u001b[0;34m]\u001b[0m\u001b[0;34m,\u001b[0m \u001b[0malpha\u001b[0m\u001b[0;34m)\u001b[0m\u001b[0;34m)\u001b[0m \u001b[0;32mfor\u001b[0m \u001b[0malpha\u001b[0m \u001b[0;32min\u001b[0m \u001b[0malphas\u001b[0m\u001b[0;34m]\u001b[0m\u001b[0;34m\u001b[0m\u001b[0;34m\u001b[0m\u001b[0m\n",
      "\u001b[0;31mIndexError\u001b[0m: list index out of range"
     ]
    }
   ],
   "source": [
    "def compute_ci_px(df, alpha):\n",
    "    \"\"\"Returns p(x)s for CI ASRE from a df\n",
    "    alpha is type I error\"\"\"\n",
    "    significance = syntax_iHR_ci(df, alpha)['significance']\n",
    "    return significance\n",
    "\n",
    "def compute_cb_px(df, alpha):\n",
    "    \"\"\"Returns p(x)s for compute cognitive biais ASRE from a df where e_hat and cate_hat are provided,\n",
    "    alpha is the cognitive biais parameter (bounded between 0 and 1) \"\"\"\n",
    "    df_temp = df\n",
    "    df_temp['p_x'] = (1 - np.abs( (df_temp['pred_cate']<0) - df_temp['e_hat']) ) ** legit(alpha)\n",
    "    return df_temp['p_x']\n",
    "\n",
    "ci_mean_px_alphas = [np.mean(compute_ci_px(dfs_ready_A[1], alpha)) for alpha in alphas]\n",
    "cb_mean_px_alphas = [np.mean(compute_cb_px(dfs_ready_A[1], alpha)) for alpha in alphas]"
   ]
  },
  {
   "cell_type": "markdown",
   "metadata": {},
   "source": [
    "##### Compute true values fo ARE & ASREs"
   ]
  },
  {
   "cell_type": "code",
   "execution_count": 777,
   "metadata": {},
   "outputs": [
    {
     "ename": "IndexError",
     "evalue": "list index out of range",
     "output_type": "error",
     "traceback": [
      "\u001b[0;31m---------------------------------------------------------------------------\u001b[0m",
      "\u001b[0;31mIndexError\u001b[0m                                Traceback (most recent call last)",
      "\u001b[0;32m<ipython-input-777-8a94104f325b>\u001b[0m in \u001b[0;36m<module>\u001b[0;34m\u001b[0m\n\u001b[1;32m     26\u001b[0m     \u001b[0;32mreturn\u001b[0m \u001b[0mcb_asre_true\u001b[0m\u001b[0;34m\u001b[0m\u001b[0;34m\u001b[0m\u001b[0m\n\u001b[1;32m     27\u001b[0m \u001b[0;34m\u001b[0m\u001b[0m\n\u001b[0;32m---> 28\u001b[0;31m \u001b[0mare_true\u001b[0m \u001b[0;34m=\u001b[0m \u001b[0mcompute_are_true\u001b[0m\u001b[0;34m(\u001b[0m\u001b[0mdfs_ready_A\u001b[0m\u001b[0;34m[\u001b[0m\u001b[0;36m1\u001b[0m\u001b[0;34m]\u001b[0m\u001b[0;34m)\u001b[0m\u001b[0;34m\u001b[0m\u001b[0;34m\u001b[0m\u001b[0m\n\u001b[0m\u001b[1;32m     29\u001b[0m \u001b[0mr_asre_alphas_true\u001b[0m \u001b[0;34m=\u001b[0m \u001b[0;34m[\u001b[0m\u001b[0mcompute_r_asre_true\u001b[0m\u001b[0;34m(\u001b[0m\u001b[0mdfs_ready_A\u001b[0m\u001b[0;34m[\u001b[0m\u001b[0;36m1\u001b[0m\u001b[0;34m]\u001b[0m\u001b[0;34m,\u001b[0m \u001b[0malpha\u001b[0m\u001b[0;34m)\u001b[0m \u001b[0;32mfor\u001b[0m \u001b[0malpha\u001b[0m \u001b[0;32min\u001b[0m \u001b[0malphas\u001b[0m\u001b[0;34m]\u001b[0m\u001b[0;34m\u001b[0m\u001b[0;34m\u001b[0m\u001b[0m\n\u001b[1;32m     30\u001b[0m \u001b[0mci_asre_alphas_true\u001b[0m \u001b[0;34m=\u001b[0m \u001b[0;34m[\u001b[0m\u001b[0mcompute_ci_asre_true\u001b[0m\u001b[0;34m(\u001b[0m\u001b[0mdfs_ready_A\u001b[0m\u001b[0;34m[\u001b[0m\u001b[0;36m1\u001b[0m\u001b[0;34m]\u001b[0m\u001b[0;34m,\u001b[0m \u001b[0malpha\u001b[0m\u001b[0;34m)\u001b[0m \u001b[0;32mfor\u001b[0m \u001b[0malpha\u001b[0m \u001b[0;32min\u001b[0m \u001b[0malphas\u001b[0m\u001b[0;34m]\u001b[0m\u001b[0;34m\u001b[0m\u001b[0;34m\u001b[0m\u001b[0m\n",
      "\u001b[0;31mIndexError\u001b[0m: list index out of range"
     ]
    }
   ],
   "source": [
    "def compute_are_true(df):\n",
    "    \"\"\"Compute ARE from the true ps and cate\"\"\"\n",
    "    are_true = np.mean( ( (df.pred_cate<0) - df.cabg_pr)*df.true_cate)\n",
    "    return are_true\n",
    "\n",
    "def compute_r_asre_true(df, alpha):\n",
    "    \"\"\"Compute uniform/random ASRE from the true ps and cate\n",
    "    alpha is the uniform/random parameter (bounded between 0 and 1) \"\"\"\n",
    "    df_temp = df\n",
    "    df_temp['p_x'] = np.repeat(alpha, len(df))\n",
    "    r_asre_true = np.mean( df_temp.p_x * ( (df_temp.pred_cate<0) - df_temp.cabg_pr)*df_temp.true_cate)\n",
    "    return r_asre_true\n",
    "\n",
    "def compute_ci_asre_true(df, alpha):\n",
    "    \"\"\"Compute CI ASRE from the true ps and cate\"\"\"\n",
    "    df_temp = syntax_iHR_ci(df, alpha)\n",
    "    ci_asre_true = np.mean( df_temp.significance * ( (df_temp.pred_cate<0) - df_temp.cabg_pr)*df_temp.true_cate)\n",
    "    return ci_asre_true\n",
    "\n",
    "def compute_cb_asre_true(df, alpha):\n",
    "    \"\"\"Compute cognitive biais ASRE from the true ps and cate\n",
    "    alpha is the cognitive biais parameter (bounded between 0 and 1) \"\"\"\n",
    "    df_temp = df\n",
    "    df_temp['p_x'] = (1 - np.abs( (df_temp['pred_cate']<0) - df_temp['cabg_pr']) ) ** legit(alpha)\n",
    "    cb_asre_true = np.mean( df_temp.p_x * ( (df_temp.pred_cate<0) - df_temp.cabg_pr)*df_temp.true_cate)\n",
    "    return cb_asre_true\n",
    "\n",
    "are_true = compute_are_true(dfs_ready_A[1])\n",
    "r_asre_alphas_true = [compute_r_asre_true(dfs_ready_A[1], alpha) for alpha in alphas]\n",
    "ci_asre_alphas_true = [compute_ci_asre_true(dfs_ready_A[1], alpha) for alpha in alphas]\n",
    "cb_asre_alphas_true = [compute_cb_asre_true(dfs_ready_A[1], alpha) for alpha in alphas]"
   ]
  },
  {
   "cell_type": "markdown",
   "metadata": {},
   "source": [
    "##### Compute fraction of population following the rule under true cognitive biais (from true PS)"
   ]
  },
  {
   "cell_type": "code",
   "execution_count": 778,
   "metadata": {},
   "outputs": [
    {
     "ename": "IndexError",
     "evalue": "list index out of range",
     "output_type": "error",
     "traceback": [
      "\u001b[0;31m---------------------------------------------------------------------------\u001b[0m",
      "\u001b[0;31mIndexError\u001b[0m                                Traceback (most recent call last)",
      "\u001b[0;32m<ipython-input-778-198d97257d9d>\u001b[0m in \u001b[0;36m<module>\u001b[0;34m\u001b[0m\n\u001b[1;32m      6\u001b[0m     \u001b[0;32mreturn\u001b[0m \u001b[0mdf_temp\u001b[0m\u001b[0;34m[\u001b[0m\u001b[0;34m'p_x'\u001b[0m\u001b[0;34m]\u001b[0m\u001b[0;34m\u001b[0m\u001b[0;34m\u001b[0m\u001b[0m\n\u001b[1;32m      7\u001b[0m \u001b[0;34m\u001b[0m\u001b[0m\n\u001b[0;32m----> 8\u001b[0;31m \u001b[0mcb_mean_px_alphas_true\u001b[0m \u001b[0;34m=\u001b[0m \u001b[0;34m[\u001b[0m\u001b[0mnp\u001b[0m\u001b[0;34m.\u001b[0m\u001b[0mmean\u001b[0m\u001b[0;34m(\u001b[0m\u001b[0mcompute_cb_px_true\u001b[0m\u001b[0;34m(\u001b[0m\u001b[0mdfs_ready_A\u001b[0m\u001b[0;34m[\u001b[0m\u001b[0;36m1\u001b[0m\u001b[0;34m]\u001b[0m\u001b[0;34m,\u001b[0m \u001b[0malpha\u001b[0m\u001b[0;34m)\u001b[0m\u001b[0;34m)\u001b[0m \u001b[0;32mfor\u001b[0m \u001b[0malpha\u001b[0m \u001b[0;32min\u001b[0m \u001b[0malphas\u001b[0m\u001b[0;34m]\u001b[0m\u001b[0;34m\u001b[0m\u001b[0;34m\u001b[0m\u001b[0m\n\u001b[0m",
      "\u001b[0;32m<ipython-input-778-198d97257d9d>\u001b[0m in \u001b[0;36m<listcomp>\u001b[0;34m(.0)\u001b[0m\n\u001b[1;32m      6\u001b[0m     \u001b[0;32mreturn\u001b[0m \u001b[0mdf_temp\u001b[0m\u001b[0;34m[\u001b[0m\u001b[0;34m'p_x'\u001b[0m\u001b[0;34m]\u001b[0m\u001b[0;34m\u001b[0m\u001b[0;34m\u001b[0m\u001b[0m\n\u001b[1;32m      7\u001b[0m \u001b[0;34m\u001b[0m\u001b[0m\n\u001b[0;32m----> 8\u001b[0;31m \u001b[0mcb_mean_px_alphas_true\u001b[0m \u001b[0;34m=\u001b[0m \u001b[0;34m[\u001b[0m\u001b[0mnp\u001b[0m\u001b[0;34m.\u001b[0m\u001b[0mmean\u001b[0m\u001b[0;34m(\u001b[0m\u001b[0mcompute_cb_px_true\u001b[0m\u001b[0;34m(\u001b[0m\u001b[0mdfs_ready_A\u001b[0m\u001b[0;34m[\u001b[0m\u001b[0;36m1\u001b[0m\u001b[0;34m]\u001b[0m\u001b[0;34m,\u001b[0m \u001b[0malpha\u001b[0m\u001b[0;34m)\u001b[0m\u001b[0;34m)\u001b[0m \u001b[0;32mfor\u001b[0m \u001b[0malpha\u001b[0m \u001b[0;32min\u001b[0m \u001b[0malphas\u001b[0m\u001b[0;34m]\u001b[0m\u001b[0;34m\u001b[0m\u001b[0;34m\u001b[0m\u001b[0m\n\u001b[0m",
      "\u001b[0;31mIndexError\u001b[0m: list index out of range"
     ]
    }
   ],
   "source": [
    "def compute_cb_px_true(df, alpha):\n",
    "    \"\"\"Returns p(x)s for compute cognitive biais ASRE from a df where e_hat and cate_hat are provided,\n",
    "    alpha is the cognitive biais parameter (bounded between 0 and 1) \"\"\"\n",
    "    df_temp = df\n",
    "    df_temp['p_x'] = (1 - np.abs( (df_temp['pred_cate']<0) - df_temp['cabg_pr']) ) ** legit(alpha)\n",
    "    return df_temp['p_x']\n",
    "\n",
    "cb_mean_px_alphas_true = [np.mean(compute_cb_px_true(dfs_ready_A[1], alpha)) for alpha in alphas]"
   ]
  },
  {
   "cell_type": "markdown",
   "metadata": {},
   "source": [
    "##### Plot results"
   ]
  },
  {
   "cell_type": "code",
   "execution_count": 779,
   "metadata": {},
   "outputs": [
    {
     "ename": "NameError",
     "evalue": "name 'are_hat' is not defined",
     "output_type": "error",
     "traceback": [
      "\u001b[0;31m---------------------------------------------------------------------------\u001b[0m",
      "\u001b[0;31mNameError\u001b[0m                                 Traceback (most recent call last)",
      "\u001b[0;32m<ipython-input-779-2f77e00bc725>\u001b[0m in \u001b[0;36m<module>\u001b[0;34m\u001b[0m\n\u001b[1;32m      4\u001b[0m \u001b[0;31m#ax1.plot([0,1],[0, 0], color= \"black\", alpha=1, linewidth=.5, linestyle='solid')\u001b[0m\u001b[0;34m\u001b[0m\u001b[0;34m\u001b[0m\u001b[0;34m\u001b[0m\u001b[0m\n\u001b[1;32m      5\u001b[0m \u001b[0;34m\u001b[0m\u001b[0m\n\u001b[0;32m----> 6\u001b[0;31m \u001b[0maxs\u001b[0m\u001b[0;34m[\u001b[0m\u001b[0;36m0\u001b[0m\u001b[0;34m,\u001b[0m\u001b[0;36m0\u001b[0m\u001b[0;34m]\u001b[0m\u001b[0;34m.\u001b[0m\u001b[0mplot\u001b[0m\u001b[0;34m(\u001b[0m\u001b[0;34m[\u001b[0m\u001b[0;36m0\u001b[0m\u001b[0;34m,\u001b[0m\u001b[0;36m1\u001b[0m\u001b[0;34m]\u001b[0m\u001b[0;34m,\u001b[0m\u001b[0;34m[\u001b[0m\u001b[0mare_hat\u001b[0m\u001b[0;34m,\u001b[0m \u001b[0mare_hat\u001b[0m\u001b[0;34m]\u001b[0m\u001b[0;34m,\u001b[0m \u001b[0mcolor\u001b[0m\u001b[0;34m=\u001b[0m \u001b[0;34m\"black\"\u001b[0m\u001b[0;34m,\u001b[0m \u001b[0malpha\u001b[0m\u001b[0;34m=\u001b[0m\u001b[0;36m.9\u001b[0m\u001b[0;34m,\u001b[0m \u001b[0mlinewidth\u001b[0m\u001b[0;34m=\u001b[0m\u001b[0;36m1\u001b[0m\u001b[0;34m,\u001b[0m \u001b[0mlinestyle\u001b[0m\u001b[0;34m=\u001b[0m\u001b[0;34m'dashed'\u001b[0m\u001b[0;34m,\u001b[0m \u001b[0mlabel\u001b[0m\u001b[0;34m=\u001b[0m\u001b[0;34mr'$\\widehat{ARE}$'\u001b[0m\u001b[0;34m)\u001b[0m\u001b[0;34m\u001b[0m\u001b[0;34m\u001b[0m\u001b[0m\n\u001b[0m\u001b[1;32m      7\u001b[0m \u001b[0maxs\u001b[0m\u001b[0;34m[\u001b[0m\u001b[0;36m0\u001b[0m\u001b[0;34m,\u001b[0m\u001b[0;36m0\u001b[0m\u001b[0;34m]\u001b[0m\u001b[0;34m.\u001b[0m\u001b[0mplot\u001b[0m\u001b[0;34m(\u001b[0m\u001b[0malphas\u001b[0m\u001b[0;34m,\u001b[0m \u001b[0mr_asre_hat_alphas\u001b[0m\u001b[0;34m,\u001b[0m \u001b[0mcolor\u001b[0m\u001b[0;34m=\u001b[0m \u001b[0;34m\"tab:blue\"\u001b[0m\u001b[0;34m,\u001b[0m \u001b[0malpha\u001b[0m\u001b[0;34m=\u001b[0m\u001b[0;36m.9\u001b[0m\u001b[0;34m,\u001b[0m \u001b[0mlabel\u001b[0m\u001b[0;34m=\u001b[0m\u001b[0;34m\"Random implementation\"\u001b[0m\u001b[0;34m,\u001b[0m\u001b[0;34m)\u001b[0m\u001b[0;34m\u001b[0m\u001b[0;34m\u001b[0m\u001b[0m\n\u001b[1;32m      8\u001b[0m \u001b[0maxs\u001b[0m\u001b[0;34m[\u001b[0m\u001b[0;36m0\u001b[0m\u001b[0;34m,\u001b[0m\u001b[0;36m0\u001b[0m\u001b[0;34m]\u001b[0m\u001b[0;34m.\u001b[0m\u001b[0mplot\u001b[0m\u001b[0;34m(\u001b[0m\u001b[0malphas\u001b[0m\u001b[0;34m,\u001b[0m \u001b[0mcb_asre_hat_alphas\u001b[0m\u001b[0;34m,\u001b[0m \u001b[0mcolor\u001b[0m\u001b[0;34m=\u001b[0m \u001b[0;34m\"tab:orange\"\u001b[0m\u001b[0;34m,\u001b[0m \u001b[0malpha\u001b[0m\u001b[0;34m=\u001b[0m\u001b[0;36m.9\u001b[0m\u001b[0;34m,\u001b[0m \u001b[0mlabel\u001b[0m\u001b[0;34m=\u001b[0m\u001b[0;34m\"Cognitive biais implementation\"\u001b[0m\u001b[0;34m)\u001b[0m\u001b[0;34m\u001b[0m\u001b[0;34m\u001b[0m\u001b[0m\n",
      "\u001b[0;31mNameError\u001b[0m: name 'are_hat' is not defined"
     ]
    },
    {
     "data": {
      "image/png": "[encoded data removed]",
      "text/plain": [
       "<Figure size 2000x2000 with 4 Axes>"
      ]
     },
     "metadata": {
      "needs_background": "light"
     },
     "output_type": "display_data"
    }
   ],
   "source": [
    "fig, axs = plt.subplots(2, 2, figsize=(20,20))\n",
    "\n",
    "fig.suptitle(\"Impact of three stochastic implementation scenarios evaluated on the first dataset \\n A-learning as base learner\", fontsize=20)\n",
    "#ax1.plot([0,1],[0, 0], color= \"black\", alpha=1, linewidth=.5, linestyle='solid')\n",
    "\n",
    "axs[0,0].plot([0,1],[are_hat, are_hat], color= \"black\", alpha=.9, linewidth=1, linestyle='dashed', label=r'$\\widehat{ARE}$')\n",
    "axs[0,0].plot(alphas, r_asre_hat_alphas, color= \"tab:blue\", alpha=.9, label=\"Random implementation\",)\n",
    "axs[0,0].plot(alphas, cb_asre_hat_alphas, color= \"tab:orange\", alpha=.9, label=\"Cognitive biais implementation\")\n",
    "axs[0,0].plot(alphas, ci_asre_hat_alphas, color= \"tab:green\", alpha=.9, label=\"Confidence intervals implementation\")\n",
    "\n",
    "axs[0,0].set_xlabel(r'$\\alpha$', fontsize=20)\n",
    "axs[0,0].set_ylabel(r'$\\widehat{ASRE}$', fontsize=20)\n",
    "axs[0,0].legend(loc='upper center');\n",
    "\n",
    "axs[0,0].set_xlim([-.01,1])\n",
    "axs[0,0].set_ylim([are_hat-.001,.001])\n",
    "\n",
    "axs[1,0].plot([0,1],[are_true, are_true], color= \"black\", alpha=.9, linewidth=1, linestyle='dashed', label='TRUE $ARE$')\n",
    "axs[1,0].plot(alphas, r_asre_alphas_true, color= \"tab:blue\", alpha=.9, label=\"TRUE Random implementation\")\n",
    "axs[1,0].plot(alphas, cb_asre_alphas_true, color= \"tab:orange\", alpha=.9, label=\"TRUE Cognitive biais implementation\")\n",
    "axs[1,0].plot(alphas, ci_asre_alphas_true, color= \"tab:green\", alpha=.9, label=\"TRUE Confidence intervals implementation\")\n",
    "\n",
    "axs[1,0].set_xlabel(r'$\\alpha$', fontsize=20)\n",
    "axs[1,0].set_ylabel(r'$ASRE$', fontsize=20)\n",
    "axs[1,0].legend(loc='upper center');\n",
    "\n",
    "axs[1,0].set_xlim([-.01,1])\n",
    "axs[1,0].set_ylim([are_true-.001,.001])\n",
    "\n",
    "axs[0,1].plot(alphas, r_asre_hat_alphas, \"-\", alpha=.9)\n",
    "axs[0,1].plot(cb_mean_px_alphas, cb_asre_hat_alphas, \"-\", alpha=.9)\n",
    "axs[0,1].plot(ci_mean_px_alphas, ci_asre_hat_alphas, \"-\", alpha=.9)\n",
    "\n",
    "axs[0,1].set_xlabel(r'$\\hat{E}[\\hat{p}(X)]$', fontsize=20)\n",
    "axs[0,1].set_ylabel(r'$\\widehat{ASRE}$', fontsize=20)\n",
    "\n",
    "#axs[0,1].set_xlim([.9,1])\n",
    "#axs[0,1].set_ylim([are_hat,-.027]);\n",
    "\n",
    "axs[1,1].plot(alphas, r_asre_alphas_true, color= \"tab:blue\", alpha=.9, label=\"TRUE Random implementation\")\n",
    "axs[1,1].plot(cb_mean_px_alphas_true, cb_asre_alphas_true, color= \"tab:orange\", alpha=.9, label=\"TRUE Cognitive biais implementation\")\n",
    "axs[1,1].plot(ci_mean_px_alphas, ci_asre_alphas_true, color= \"tab:green\", alpha=.9, label=\"TRUE Confidence intervals implementation\")\n",
    "\n",
    "axs[1,1].set_xlabel(r'$E[p(X)]$', fontsize=20)\n",
    "axs[1,1].set_ylabel(r'$ASRE$', fontsize=20);\n",
    "\n",
    "#axs[1,1].set_xlim([.9,1])\n",
    "#axs[1,1].set_ylim([are_true,-.033]);"
   ]
  },
  {
   "cell_type": "markdown",
   "metadata": {},
   "source": [
    "##### Zoom in on the bottom right figure"
   ]
  },
  {
   "cell_type": "code",
   "execution_count": 780,
   "metadata": {},
   "outputs": [
    {
     "ename": "NameError",
     "evalue": "name 'r_asre_alphas_true' is not defined",
     "output_type": "error",
     "traceback": [
      "\u001b[0;31m---------------------------------------------------------------------------\u001b[0m",
      "\u001b[0;31mNameError\u001b[0m                                 Traceback (most recent call last)",
      "\u001b[0;32m<ipython-input-780-9a178dad03ab>\u001b[0m in \u001b[0;36m<module>\u001b[0;34m\u001b[0m\n\u001b[1;32m      1\u001b[0m \u001b[0mplt\u001b[0m\u001b[0;34m.\u001b[0m\u001b[0mfigure\u001b[0m\u001b[0;34m(\u001b[0m\u001b[0mfigsize\u001b[0m\u001b[0;34m=\u001b[0m\u001b[0;34m(\u001b[0m\u001b[0;36m10\u001b[0m\u001b[0;34m,\u001b[0m\u001b[0;36m10\u001b[0m\u001b[0;34m)\u001b[0m\u001b[0;34m)\u001b[0m\u001b[0;34m\u001b[0m\u001b[0;34m\u001b[0m\u001b[0m\n\u001b[0;32m----> 2\u001b[0;31m \u001b[0mplt\u001b[0m\u001b[0;34m.\u001b[0m\u001b[0mplot\u001b[0m\u001b[0;34m(\u001b[0m\u001b[0malphas\u001b[0m\u001b[0;34m,\u001b[0m \u001b[0mr_asre_alphas_true\u001b[0m\u001b[0;34m,\u001b[0m \u001b[0;34m\"o\"\u001b[0m\u001b[0;34m,\u001b[0m \u001b[0mcolor\u001b[0m\u001b[0;34m=\u001b[0m \u001b[0;34m\"tab:blue\"\u001b[0m\u001b[0;34m,\u001b[0m \u001b[0malpha\u001b[0m\u001b[0;34m=\u001b[0m\u001b[0;36m.9\u001b[0m\u001b[0;34m,\u001b[0m \u001b[0mlabel\u001b[0m\u001b[0;34m=\u001b[0m\u001b[0;34m\"TRUE Random implementation\"\u001b[0m\u001b[0;34m)\u001b[0m\u001b[0;34m\u001b[0m\u001b[0;34m\u001b[0m\u001b[0m\n\u001b[0m\u001b[1;32m      3\u001b[0m \u001b[0mplt\u001b[0m\u001b[0;34m.\u001b[0m\u001b[0mplot\u001b[0m\u001b[0;34m(\u001b[0m\u001b[0mcb_mean_px_alphas_true\u001b[0m\u001b[0;34m,\u001b[0m \u001b[0mcb_asre_alphas_true\u001b[0m\u001b[0;34m,\u001b[0m \u001b[0;34m\"o\"\u001b[0m\u001b[0;34m,\u001b[0m \u001b[0mcolor\u001b[0m\u001b[0;34m=\u001b[0m \u001b[0;34m\"tab:orange\"\u001b[0m\u001b[0;34m,\u001b[0m \u001b[0malpha\u001b[0m\u001b[0;34m=\u001b[0m\u001b[0;36m.9\u001b[0m\u001b[0;34m,\u001b[0m \u001b[0mlabel\u001b[0m\u001b[0;34m=\u001b[0m\u001b[0;34m\"TRUE Cognitive biais implementation\"\u001b[0m\u001b[0;34m)\u001b[0m\u001b[0;34m\u001b[0m\u001b[0;34m\u001b[0m\u001b[0m\n\u001b[1;32m      4\u001b[0m \u001b[0mplt\u001b[0m\u001b[0;34m.\u001b[0m\u001b[0mplot\u001b[0m\u001b[0;34m(\u001b[0m\u001b[0mci_mean_px_alphas\u001b[0m\u001b[0;34m,\u001b[0m \u001b[0mci_asre_alphas_true\u001b[0m\u001b[0;34m,\u001b[0m \u001b[0;34m\"o\"\u001b[0m\u001b[0;34m,\u001b[0m \u001b[0mcolor\u001b[0m\u001b[0;34m=\u001b[0m \u001b[0;34m\"tab:green\"\u001b[0m\u001b[0;34m,\u001b[0m \u001b[0malpha\u001b[0m\u001b[0;34m=\u001b[0m\u001b[0;36m.9\u001b[0m\u001b[0;34m,\u001b[0m \u001b[0mlabel\u001b[0m\u001b[0;34m=\u001b[0m\u001b[0;34m\"TRUE Confidence intervals implementation\"\u001b[0m\u001b[0;34m)\u001b[0m\u001b[0;34m\u001b[0m\u001b[0;34m\u001b[0m\u001b[0m\n\u001b[1;32m      5\u001b[0m \u001b[0mplt\u001b[0m\u001b[0;34m.\u001b[0m\u001b[0mxlim\u001b[0m\u001b[0;34m(\u001b[0m\u001b[0;34m(\u001b[0m\u001b[0;36m.6\u001b[0m\u001b[0;34m,\u001b[0m\u001b[0;36m1\u001b[0m\u001b[0;34m)\u001b[0m\u001b[0;34m)\u001b[0m\u001b[0;34m\u001b[0m\u001b[0;34m\u001b[0m\u001b[0m\n",
      "\u001b[0;31mNameError\u001b[0m: name 'r_asre_alphas_true' is not defined"
     ]
    },
    {
     "data": {
      "text/plain": [
       "<Figure size 1000x1000 with 0 Axes>"
      ]
     },
     "metadata": {},
     "output_type": "display_data"
    }
   ],
   "source": [
    "plt.figure(figsize=(10,10))\n",
    "plt.plot(alphas, r_asre_alphas_true, \"o\", color= \"tab:blue\", alpha=.9, label=\"TRUE Random implementation\")\n",
    "plt.plot(cb_mean_px_alphas_true, cb_asre_alphas_true, \"o\", color= \"tab:orange\", alpha=.9, label=\"TRUE Cognitive biais implementation\")\n",
    "plt.plot(ci_mean_px_alphas, ci_asre_alphas_true, \"o\", color= \"tab:green\", alpha=.9, label=\"TRUE Confidence intervals implementation\")\n",
    "plt.xlim((.6,1))\n",
    "plt.ylim((are_true, .6*are_true))\n",
    "plt.legend()\n",
    "\n",
    "plt.xlabel(r'$E[p(x)]$', fontsize=20)\n",
    "plt.ylabel(r'$ASRE$', fontsize=20);"
   ]
  },
  {
   "cell_type": "markdown",
   "metadata": {},
   "source": [
    "\n",
    "- Note that $ E[p(X)] $ can be interpreted as the fraction of the population following the rule"
   ]
  },
  {
   "cell_type": "markdown",
   "metadata": {},
   "source": [
    "#### Bootstrap confidence intervals of $ \\widehat{ARE} $ and $ \\widehat {ASRE} $s"
   ]
  },
  {
   "cell_type": "code",
   "execution_count": 781,
   "metadata": {},
   "outputs": [],
   "source": [
    "random.seed(4561) # Set seed for reproductibility.\n",
    "\n",
    "#n_boots =  # Number of boostrap iterations is set on top of the notebook. \n",
    "\n",
    "# Generate resampling indexes.\n",
    "resamples = []\n",
    "for n_boot in range(n_boots):\n",
    "    resamples.append([random.randint(0,n-1) for _ in range(n)])"
   ]
  },
  {
   "cell_type": "markdown",
   "metadata": {},
   "source": [
    "##### I/ Check nominal coverage in the case where $ \\hat{\\tau}(x)$ is estimated via A-learning\n",
    "- Compute all the information required in each boostrap resample"
   ]
  },
  {
   "cell_type": "code",
   "execution_count": 782,
   "metadata": {},
   "outputs": [
    {
     "name": "stdout",
     "output_type": "stream",
     "text": [
      "Iteration 0 i.e., 0%\n",
      "Iteration 1 i.e., 0%\n",
      "Iteration 2 i.e., 0%\n",
      "Iteration 3 i.e., 0%\n",
      "Iteration 4 i.e., 0%\n",
      "Iteration 5 i.e., 0%\n",
      "Iteration 6 i.e., 0%\n",
      "Iteration 7 i.e., 0%\n",
      "Iteration 8 i.e., 0%\n",
      "Iteration 9 i.e., 0%\n",
      "Iteration 50 i.e., 5%\n",
      "Iteration 51 i.e., 5%\n",
      "Iteration 52 i.e., 5%\n",
      "Iteration 53 i.e., 5%\n",
      "Iteration 54 i.e., 5%\n",
      "Iteration 55 i.e., 5%\n",
      "Iteration 56 i.e., 5%\n",
      "Iteration 57 i.e., 5%\n",
      "Iteration 58 i.e., 5%\n",
      "Iteration 59 i.e., 5%\n",
      "Iteration 100 i.e., 10%\n",
      "Iteration 101 i.e., 10%\n",
      "Iteration 102 i.e., 10%\n",
      "Iteration 103 i.e., 10%\n",
      "Iteration 104 i.e., 10%\n",
      "Iteration 105 i.e., 10%\n",
      "Iteration 106 i.e., 10%\n",
      "Iteration 107 i.e., 10%\n",
      "Iteration 108 i.e., 10%\n",
      "Iteration 109 i.e., 10%\n",
      "Iteration 150 i.e., 15%\n",
      "Iteration 151 i.e., 15%\n",
      "Iteration 152 i.e., 15%\n",
      "Iteration 153 i.e., 15%\n",
      "Iteration 154 i.e., 15%\n",
      "Iteration 155 i.e., 15%\n",
      "Iteration 156 i.e., 15%\n",
      "Iteration 157 i.e., 15%\n",
      "Iteration 158 i.e., 15%\n",
      "Iteration 159 i.e., 15%\n",
      "Iteration 200 i.e., 20%\n",
      "Iteration 201 i.e., 20%\n",
      "Iteration 202 i.e., 20%\n",
      "Iteration 203 i.e., 20%\n",
      "Iteration 204 i.e., 20%\n",
      "Iteration 205 i.e., 20%\n",
      "Iteration 206 i.e., 20%\n",
      "Iteration 207 i.e., 20%\n",
      "Iteration 208 i.e., 20%\n",
      "Iteration 209 i.e., 20%\n",
      "Iteration 250 i.e., 25%\n",
      "Iteration 251 i.e., 25%\n",
      "Iteration 252 i.e., 25%\n",
      "Iteration 253 i.e., 25%\n",
      "Iteration 254 i.e., 25%\n",
      "Iteration 255 i.e., 25%\n",
      "Iteration 256 i.e., 25%\n",
      "Iteration 257 i.e., 25%\n",
      "Iteration 258 i.e., 25%\n",
      "Iteration 259 i.e., 25%\n",
      "Iteration 300 i.e., 30%\n",
      "Iteration 301 i.e., 30%\n",
      "Iteration 302 i.e., 30%\n",
      "Iteration 303 i.e., 30%\n",
      "Iteration 304 i.e., 30%\n",
      "Iteration 305 i.e., 30%\n",
      "Iteration 306 i.e., 30%\n",
      "Iteration 307 i.e., 30%\n",
      "Iteration 308 i.e., 30%\n",
      "Iteration 309 i.e., 30%\n",
      "Iteration 350 i.e., 35%\n",
      "Iteration 351 i.e., 35%\n",
      "Iteration 352 i.e., 35%\n",
      "Iteration 353 i.e., 35%\n",
      "Iteration 354 i.e., 35%\n",
      "Iteration 355 i.e., 35%\n",
      "Iteration 356 i.e., 35%\n",
      "Iteration 357 i.e., 35%\n",
      "Iteration 358 i.e., 35%\n",
      "Iteration 359 i.e., 35%\n",
      "Iteration 400 i.e., 40%\n",
      "Iteration 401 i.e., 40%\n",
      "Iteration 402 i.e., 40%\n",
      "Iteration 403 i.e., 40%\n",
      "Iteration 404 i.e., 40%\n",
      "Iteration 405 i.e., 40%\n",
      "Iteration 406 i.e., 40%\n",
      "Iteration 407 i.e., 40%\n",
      "Iteration 408 i.e., 40%\n",
      "Iteration 409 i.e., 40%\n",
      "Iteration 450 i.e., 45%\n",
      "Iteration 451 i.e., 45%\n",
      "Iteration 452 i.e., 45%\n",
      "Iteration 453 i.e., 45%\n",
      "Iteration 454 i.e., 45%\n",
      "Iteration 455 i.e., 45%\n",
      "Iteration 456 i.e., 45%\n",
      "Iteration 457 i.e., 45%\n",
      "Iteration 458 i.e., 45%\n",
      "Iteration 459 i.e., 45%\n",
      "Iteration 500 i.e., 50%\n",
      "Iteration 501 i.e., 50%\n",
      "Iteration 502 i.e., 50%\n",
      "Iteration 503 i.e., 50%\n",
      "Iteration 504 i.e., 50%\n",
      "Iteration 505 i.e., 50%\n",
      "Iteration 506 i.e., 50%\n",
      "Iteration 507 i.e., 50%\n",
      "Iteration 508 i.e., 50%\n",
      "Iteration 509 i.e., 50%\n",
      "Iteration 550 i.e., 55%\n",
      "Iteration 551 i.e., 55%\n",
      "Iteration 552 i.e., 55%\n",
      "Iteration 553 i.e., 55%\n",
      "Iteration 554 i.e., 55%\n",
      "Iteration 555 i.e., 55%\n",
      "Iteration 556 i.e., 55%\n",
      "Iteration 557 i.e., 55%\n",
      "Iteration 558 i.e., 55%\n",
      "Iteration 559 i.e., 55%\n",
      "Iteration 600 i.e., 60%\n",
      "Iteration 601 i.e., 60%\n",
      "Iteration 602 i.e., 60%\n",
      "Iteration 603 i.e., 60%\n",
      "Iteration 604 i.e., 60%\n",
      "Iteration 605 i.e., 60%\n",
      "Iteration 606 i.e., 60%\n",
      "Iteration 607 i.e., 60%\n",
      "Iteration 608 i.e., 60%\n",
      "Iteration 609 i.e., 60%\n",
      "Iteration 650 i.e., 65%\n",
      "Iteration 651 i.e., 65%\n",
      "Iteration 652 i.e., 65%\n",
      "Iteration 653 i.e., 65%\n",
      "Iteration 654 i.e., 65%\n",
      "Iteration 655 i.e., 65%\n",
      "Iteration 656 i.e., 65%\n",
      "Iteration 657 i.e., 65%\n",
      "Iteration 658 i.e., 65%\n",
      "Iteration 659 i.e., 65%\n",
      "Iteration 700 i.e., 70%\n",
      "Iteration 701 i.e., 70%\n",
      "Iteration 702 i.e., 70%\n",
      "Iteration 703 i.e., 70%\n",
      "Iteration 704 i.e., 70%\n",
      "Iteration 705 i.e., 70%\n",
      "Iteration 706 i.e., 70%\n",
      "Iteration 707 i.e., 70%\n",
      "Iteration 708 i.e., 70%\n",
      "Iteration 709 i.e., 70%\n",
      "Iteration 750 i.e., 75%\n",
      "Iteration 751 i.e., 75%\n",
      "Iteration 752 i.e., 75%\n",
      "Iteration 753 i.e., 75%\n",
      "Iteration 754 i.e., 75%\n",
      "Iteration 755 i.e., 75%\n",
      "Iteration 756 i.e., 75%\n",
      "Iteration 757 i.e., 75%\n",
      "Iteration 758 i.e., 75%\n",
      "Iteration 759 i.e., 75%\n",
      "Iteration 800 i.e., 80%\n",
      "Iteration 801 i.e., 80%\n",
      "Iteration 802 i.e., 80%\n",
      "Iteration 803 i.e., 80%\n",
      "Iteration 804 i.e., 80%\n",
      "Iteration 805 i.e., 80%\n",
      "Iteration 806 i.e., 80%\n",
      "Iteration 807 i.e., 80%\n",
      "Iteration 808 i.e., 80%\n",
      "Iteration 809 i.e., 80%\n",
      "Iteration 850 i.e., 85%\n",
      "Iteration 851 i.e., 85%\n",
      "Iteration 852 i.e., 85%\n",
      "Iteration 853 i.e., 85%\n",
      "Iteration 854 i.e., 85%\n",
      "Iteration 855 i.e., 85%\n",
      "Iteration 856 i.e., 85%\n",
      "Iteration 857 i.e., 85%\n",
      "Iteration 858 i.e., 85%\n",
      "Iteration 859 i.e., 85%\n",
      "Iteration 900 i.e., 90%\n",
      "Iteration 901 i.e., 90%\n",
      "Iteration 902 i.e., 90%\n",
      "Iteration 903 i.e., 90%\n",
      "Iteration 904 i.e., 90%\n",
      "Iteration 905 i.e., 90%\n",
      "Iteration 906 i.e., 90%\n",
      "Iteration 907 i.e., 90%\n",
      "Iteration 908 i.e., 90%\n",
      "Iteration 909 i.e., 90%\n",
      "Iteration 950 i.e., 95%\n",
      "Iteration 951 i.e., 95%\n",
      "Iteration 952 i.e., 95%\n",
      "Iteration 953 i.e., 95%\n",
      "Iteration 954 i.e., 95%\n",
      "Iteration 955 i.e., 95%\n",
      "Iteration 956 i.e., 95%\n",
      "Iteration 957 i.e., 95%\n",
      "Iteration 958 i.e., 95%\n",
      "Iteration 959 i.e., 95%\n",
      "Iteration 999 i.e., 100%\n"
     ]
    }
   ],
   "source": [
    "boot_computed_A = []    \n",
    "for it, resample in enumerate(resamples):\n",
    "    boot_computed_A.append( [ps_cate_preds(df=data.iloc[resample], method= 'a', progress=1) for data in df_list] )\n",
    "    perc = int(100*it/n_boot)\n",
    "    if perc % 5 == 0:\n",
    "        print(\"Iteration \"+ str(it) + \" i.e., \" + str(perc)+\"%\")"
   ]
  },
  {
   "cell_type": "markdown",
   "metadata": {},
   "source": [
    "- Compute bootstrap estimates for all estimators"
   ]
  },
  {
   "cell_type": "code",
   "execution_count": 783,
   "metadata": {},
   "outputs": [
    {
     "name": "stdout",
     "output_type": "stream",
     "text": [
      "Iteration 0 i.e., 0%\n",
      "Iteration 1 i.e., 0%\n",
      "Iteration 2 i.e., 0%\n",
      "Iteration 3 i.e., 0%\n",
      "Iteration 4 i.e., 0%\n",
      "Iteration 5 i.e., 0%\n",
      "Iteration 6 i.e., 0%\n",
      "Iteration 7 i.e., 0%\n",
      "Iteration 8 i.e., 0%\n",
      "Iteration 9 i.e., 0%\n",
      "Iteration 50 i.e., 5%\n",
      "Iteration 51 i.e., 5%\n",
      "Iteration 52 i.e., 5%\n",
      "Iteration 53 i.e., 5%\n",
      "Iteration 54 i.e., 5%\n",
      "Iteration 55 i.e., 5%\n",
      "Iteration 56 i.e., 5%\n",
      "Iteration 57 i.e., 5%\n",
      "Iteration 58 i.e., 5%\n",
      "Iteration 59 i.e., 5%\n",
      "Iteration 100 i.e., 10%\n",
      "Iteration 101 i.e., 10%\n",
      "Iteration 102 i.e., 10%\n",
      "Iteration 103 i.e., 10%\n",
      "Iteration 104 i.e., 10%\n",
      "Iteration 105 i.e., 10%\n",
      "Iteration 106 i.e., 10%\n",
      "Iteration 107 i.e., 10%\n",
      "Iteration 108 i.e., 10%\n",
      "Iteration 109 i.e., 10%\n",
      "Iteration 150 i.e., 15%\n",
      "Iteration 151 i.e., 15%\n",
      "Iteration 152 i.e., 15%\n",
      "Iteration 153 i.e., 15%\n",
      "Iteration 154 i.e., 15%\n",
      "Iteration 155 i.e., 15%\n",
      "Iteration 156 i.e., 15%\n",
      "Iteration 157 i.e., 15%\n",
      "Iteration 158 i.e., 15%\n",
      "Iteration 159 i.e., 15%\n",
      "Iteration 200 i.e., 20%\n",
      "Iteration 201 i.e., 20%\n",
      "Iteration 202 i.e., 20%\n",
      "Iteration 203 i.e., 20%\n",
      "Iteration 204 i.e., 20%\n",
      "Iteration 205 i.e., 20%\n",
      "Iteration 206 i.e., 20%\n",
      "Iteration 207 i.e., 20%\n",
      "Iteration 208 i.e., 20%\n",
      "Iteration 209 i.e., 20%\n",
      "Iteration 250 i.e., 25%\n",
      "Iteration 251 i.e., 25%\n",
      "Iteration 252 i.e., 25%\n",
      "Iteration 253 i.e., 25%\n",
      "Iteration 254 i.e., 25%\n",
      "Iteration 255 i.e., 25%\n",
      "Iteration 256 i.e., 25%\n",
      "Iteration 257 i.e., 25%\n",
      "Iteration 258 i.e., 25%\n",
      "Iteration 259 i.e., 25%\n",
      "Iteration 300 i.e., 30%\n",
      "Iteration 301 i.e., 30%\n",
      "Iteration 302 i.e., 30%\n",
      "Iteration 303 i.e., 30%\n",
      "Iteration 304 i.e., 30%\n",
      "Iteration 305 i.e., 30%\n",
      "Iteration 306 i.e., 30%\n",
      "Iteration 307 i.e., 30%\n",
      "Iteration 308 i.e., 30%\n",
      "Iteration 309 i.e., 30%\n",
      "Iteration 350 i.e., 35%\n",
      "Iteration 351 i.e., 35%\n",
      "Iteration 352 i.e., 35%\n",
      "Iteration 353 i.e., 35%\n",
      "Iteration 354 i.e., 35%\n",
      "Iteration 355 i.e., 35%\n",
      "Iteration 356 i.e., 35%\n",
      "Iteration 357 i.e., 35%\n",
      "Iteration 358 i.e., 35%\n",
      "Iteration 359 i.e., 35%\n",
      "Iteration 400 i.e., 40%\n",
      "Iteration 401 i.e., 40%\n",
      "Iteration 402 i.e., 40%\n",
      "Iteration 403 i.e., 40%\n",
      "Iteration 404 i.e., 40%\n",
      "Iteration 405 i.e., 40%\n",
      "Iteration 406 i.e., 40%\n",
      "Iteration 407 i.e., 40%\n",
      "Iteration 408 i.e., 40%\n",
      "Iteration 409 i.e., 40%\n",
      "Iteration 450 i.e., 45%\n",
      "Iteration 451 i.e., 45%\n",
      "Iteration 452 i.e., 45%\n",
      "Iteration 453 i.e., 45%\n",
      "Iteration 454 i.e., 45%\n",
      "Iteration 455 i.e., 45%\n",
      "Iteration 456 i.e., 45%\n",
      "Iteration 457 i.e., 45%\n",
      "Iteration 458 i.e., 45%\n",
      "Iteration 459 i.e., 45%\n",
      "Iteration 500 i.e., 50%\n",
      "Iteration 501 i.e., 50%\n",
      "Iteration 502 i.e., 50%\n",
      "Iteration 503 i.e., 50%\n",
      "Iteration 504 i.e., 50%\n",
      "Iteration 505 i.e., 50%\n",
      "Iteration 506 i.e., 50%\n",
      "Iteration 507 i.e., 50%\n",
      "Iteration 508 i.e., 50%\n",
      "Iteration 509 i.e., 50%\n",
      "Iteration 550 i.e., 55%\n",
      "Iteration 551 i.e., 55%\n",
      "Iteration 552 i.e., 55%\n",
      "Iteration 553 i.e., 55%\n",
      "Iteration 554 i.e., 55%\n",
      "Iteration 555 i.e., 55%\n",
      "Iteration 556 i.e., 55%\n",
      "Iteration 557 i.e., 55%\n",
      "Iteration 558 i.e., 55%\n",
      "Iteration 559 i.e., 55%\n",
      "Iteration 600 i.e., 60%\n",
      "Iteration 601 i.e., 60%\n",
      "Iteration 602 i.e., 60%\n",
      "Iteration 603 i.e., 60%\n",
      "Iteration 604 i.e., 60%\n",
      "Iteration 605 i.e., 60%\n",
      "Iteration 606 i.e., 60%\n",
      "Iteration 607 i.e., 60%\n",
      "Iteration 608 i.e., 60%\n",
      "Iteration 609 i.e., 60%\n",
      "Iteration 650 i.e., 65%\n",
      "Iteration 651 i.e., 65%\n",
      "Iteration 652 i.e., 65%\n",
      "Iteration 653 i.e., 65%\n",
      "Iteration 654 i.e., 65%\n",
      "Iteration 655 i.e., 65%\n",
      "Iteration 656 i.e., 65%\n",
      "Iteration 657 i.e., 65%\n",
      "Iteration 658 i.e., 65%\n",
      "Iteration 659 i.e., 65%\n",
      "Iteration 700 i.e., 70%\n",
      "Iteration 701 i.e., 70%\n",
      "Iteration 702 i.e., 70%\n",
      "Iteration 703 i.e., 70%\n",
      "Iteration 704 i.e., 70%\n",
      "Iteration 705 i.e., 70%\n",
      "Iteration 706 i.e., 70%\n",
      "Iteration 707 i.e., 70%\n",
      "Iteration 708 i.e., 70%\n",
      "Iteration 709 i.e., 70%\n",
      "Iteration 750 i.e., 75%\n",
      "Iteration 751 i.e., 75%\n",
      "Iteration 752 i.e., 75%\n",
      "Iteration 753 i.e., 75%\n",
      "Iteration 754 i.e., 75%\n",
      "Iteration 755 i.e., 75%\n",
      "Iteration 756 i.e., 75%\n",
      "Iteration 757 i.e., 75%\n",
      "Iteration 758 i.e., 75%\n",
      "Iteration 759 i.e., 75%\n",
      "Iteration 800 i.e., 80%\n",
      "Iteration 801 i.e., 80%\n",
      "Iteration 802 i.e., 80%\n",
      "Iteration 803 i.e., 80%\n",
      "Iteration 804 i.e., 80%\n",
      "Iteration 805 i.e., 80%\n",
      "Iteration 806 i.e., 80%\n",
      "Iteration 807 i.e., 80%\n",
      "Iteration 808 i.e., 80%\n",
      "Iteration 809 i.e., 80%\n",
      "Iteration 850 i.e., 85%\n",
      "Iteration 851 i.e., 85%\n",
      "Iteration 852 i.e., 85%\n",
      "Iteration 853 i.e., 85%\n",
      "Iteration 854 i.e., 85%\n",
      "Iteration 855 i.e., 85%\n",
      "Iteration 856 i.e., 85%\n",
      "Iteration 857 i.e., 85%\n",
      "Iteration 858 i.e., 85%\n",
      "Iteration 859 i.e., 85%\n",
      "Iteration 900 i.e., 90%\n",
      "Iteration 901 i.e., 90%\n",
      "Iteration 902 i.e., 90%\n",
      "Iteration 903 i.e., 90%\n",
      "Iteration 904 i.e., 90%\n",
      "Iteration 905 i.e., 90%\n",
      "Iteration 906 i.e., 90%\n",
      "Iteration 907 i.e., 90%\n",
      "Iteration 908 i.e., 90%\n",
      "Iteration 909 i.e., 90%\n",
      "Iteration 950 i.e., 95%\n",
      "Iteration 951 i.e., 95%\n",
      "Iteration 952 i.e., 95%\n",
      "Iteration 953 i.e., 95%\n",
      "Iteration 954 i.e., 95%\n",
      "Iteration 955 i.e., 95%\n",
      "Iteration 956 i.e., 95%\n",
      "Iteration 957 i.e., 95%\n",
      "Iteration 958 i.e., 95%\n",
      "Iteration 959 i.e., 95%\n",
      "Iteration 999 i.e., 100%\n"
     ]
    }
   ],
   "source": [
    "are_boots_A = np.ones((n_boots, sims))\n",
    "\n",
    "asre_r_1_3_boots_A = np.ones((n_boots, sims))\n",
    "asre_r_2_3_boots_A = np.ones((n_boots, sims))\n",
    "\n",
    "asre_cb_1_3_boots_A = np.ones((n_boots, sims))\n",
    "asre_cb_2_3_boots_A = np.ones((n_boots, sims))\n",
    "\n",
    "asre_ci_95_boots_A = np.ones((n_boots, sims))\n",
    "asre_ci_55_boots_A = np.ones((n_boots, sims))\n",
    "\n",
    "for boot_i in range(n_boots):\n",
    "    are_boots_A[boot_i] = np.array( [compute_are_hat(data) for data in boot_computed_A[boot_i]] )\n",
    "    \n",
    "    asre_r_1_3_boots_A[boot_i] = np.array( [compute_r_asre_hat(data, alpha=1/3) for data in boot_computed_A[boot_i]])\n",
    "    asre_r_2_3_boots_A[boot_i] = np.array( [compute_r_asre_hat(data, alpha=2/3) for data in boot_computed_A[boot_i]])\n",
    "    \n",
    "    asre_cb_1_3_boots_A[boot_i] = np.array( [compute_cb_asre_hat(data, alpha=1/3) for data in boot_computed_A[boot_i]])\n",
    "    asre_cb_2_3_boots_A[boot_i] = np.array( [compute_cb_asre_hat(data, alpha=2/3) for data in boot_computed_A[boot_i]])\n",
    "    \n",
    "    asre_ci_95_boots_A[boot_i] = np.array( [compute_ci_asre_hat(data, alpha=.05) for data in boot_computed_A[boot_i]])\n",
    "    asre_ci_55_boots_A[boot_i] = np.array( [compute_ci_asre_hat(data, alpha=.45) for data in boot_computed_A[boot_i]])\n",
    "    \n",
    "    perc = int(100*boot_i/n_boot)\n",
    "    if perc % 5 == 0:\n",
    "        print(\"Iteration \"+ str(boot_i) + \" i.e., \" + str(perc)+\"%\")"
   ]
  },
  {
   "cell_type": "markdown",
   "metadata": {},
   "source": [
    "- Investigate asymptotic normality of bootstrap estimates in the first dataset"
   ]
  },
  {
   "cell_type": "markdown",
   "metadata": {},
   "source": [
    "a) Compute original sample estimations for the first dataset"
   ]
  },
  {
   "cell_type": "code",
   "execution_count": 784,
   "metadata": {},
   "outputs": [],
   "source": [
    "df_computed_A = ps_cate_preds(df=df_list[0], method= 'a', progress=1)\n",
    "\n",
    "are_A = compute_are_hat(df_computed_A)\n",
    "    \n",
    "asre_r_1_3_A = compute_r_asre_hat(df_computed_A, alpha=1/3 )\n",
    "asre_r_2_3_A = compute_r_asre_hat(df_computed_A, alpha=2/3 )\n",
    "    \n",
    "asre_cb_1_3_A = compute_cb_asre_hat(df_computed_A, alpha=1/3 )\n",
    "asre_cb_2_3_A = compute_cb_asre_hat(df_computed_A, alpha=2/3 )\n",
    "    \n",
    "asre_ci_95_A = compute_ci_asre_hat(df_computed_A, alpha=.05 )\n",
    "asre_ci_55_A = compute_ci_asre_hat(df_computed_A, alpha=.45 )\n"
   ]
  },
  {
   "cell_type": "markdown",
   "metadata": {},
   "source": [
    "print 95% bootstrap CI for ARE (A-learning) in the first dataset and verify these are similar to 95% asymptotic CI from M-estimation"
   ]
  },
  {
   "cell_type": "code",
   "execution_count": 785,
   "metadata": {},
   "outputs": [
    {
     "name": "stdout",
     "output_type": "stream",
     "text": [
      "ARE (first dataset) = -0.07352  95% CI (-0.25349 to 0.12741)\n"
     ]
    }
   ],
   "source": [
    "quantiles_temp = np.nanquantile(are_boots_A[:,0],[1-.05/2, .05/2])\n",
    "ci_temp = np.multiply(2,are_A) - quantiles_temp\n",
    "precision = 5\n",
    "\n",
    "print('ARE (first dataset) = ' + str(np.round(are_A, precision)) + '  95% CI (' + str(np.round(ci_temp[0],precision))  +' to ' + str(np.round(ci_temp[1],precision)) + ')' )"
   ]
  },
  {
   "cell_type": "markdown",
   "metadata": {},
   "source": [
    "b) Plot Empirical Bootstrap Distribution as bootstrap percentile method is improper <br>\n",
    "John Rice, Mathematical Statistics and Data Analysis, 3rd edition, p. 285."
   ]
  },
  {
   "cell_type": "code",
   "execution_count": 50,
   "metadata": {},
   "outputs": [
    {
     "data": {
      "image/png": "[encoded data removed]",
      "text/plain": [
       "<Figure size 360x540 with 1 Axes>"
      ]
     },
     "metadata": {
      "needs_background": "light"
     },
     "output_type": "display_data"
    }
   ],
   "source": [
    "plt.figure(figsize=(5,7.5))\n",
    "plt.suptitle(r\"Empirical distribution of $ \\delta^*=\\hat{\\theta}^*-\\hat{\\theta} $\" \"\\n A-learner as base learner\", fontsize=15)\n",
    "\n",
    "plt.hist(are_boots_A[:,0] - are_A, density=True);\n",
    "plt.xlabel(r'$\\widehat{ARE}^*-\\widehat{ARE}$', fontsize=15);\n",
    "plt.ylabel('Density', fontsize=15);"
   ]
  },
  {
   "cell_type": "code",
   "execution_count": 51,
   "metadata": {},
   "outputs": [
    {
     "data": {
      "image/png": "[encoded data removed]",
      "text/plain": [
       "<Figure size 1440x1440 with 6 Axes>"
      ]
     },
     "metadata": {
      "needs_background": "light"
     },
     "output_type": "display_data"
    }
   ],
   "source": [
    "fig, axs = plt.subplots(2, 3, figsize=(20,20))\n",
    "fig.suptitle(r\"Empirical distribution of $ \\delta^*=\\hat{\\theta}^*-\\hat{\\theta} $\" \"\\n A-learning as base learner\", fontsize=20)\n",
    "\n",
    "axs[0,0].hist(asre_r_1_3_boots_A[:,0] - asre_r_1_3_A, density=True);\n",
    "axs[0,0].set_title(r'$\\alpha=1/3}$', fontsize=20)\n",
    "axs[0,0].set_ylabel('Density', fontsize=20)\n",
    "\n",
    "axs[1,0].hist(asre_r_2_3_boots_A[:,0] - asre_r_2_3_A, density=True) ;\n",
    "axs[1,0].set_title(r'$\\alpha=2/3}$', fontsize=20)\n",
    "axs[1,0].set_xlabel(r'$\\widehat{ASRE}_{unif_\\alpha}^*-\\widehat{ASRE}_{unif_\\alpha}$', fontsize=20)\n",
    "axs[1,0].set_ylabel('Density', fontsize=20)\n",
    "\n",
    "axs[0,1].hist(asre_cb_1_3_boots_A[:,0] - asre_cb_1_3_A, density=True) ;\n",
    "axs[0,1].set_title(r'$\\alpha=1/3}$', fontsize=20)\n",
    "axs[1,1].hist(asre_cb_2_3_boots_A[:,0] - asre_cb_2_3_A, density=True) ;\n",
    "axs[1,1].set_title(r'$\\alpha=2/3}$', fontsize=20)\n",
    "axs[1,1].set_xlabel(r'$\\widehat{ASRE}_{cb_\\alpha}^*-\\widehat{ASRE}_{cb_\\alpha}$', fontsize=20)\n",
    "\n",
    "axs[0,2].hist(asre_ci_95_boots_A[:,0] - asre_ci_95_A, density=True) ;\n",
    "axs[0,2].set_title(r'$\\alpha=0.05}$', fontsize=20)\n",
    "axs[1,2].hist(asre_ci_55_boots_A[:,0] - asre_ci_55_A, density=True) ;\n",
    "axs[1,2].set_title(r'$\\alpha=0.45}$', fontsize=20)\n",
    "axs[1,2].set_xlabel(r'$\\widehat{ASRE}_{ci_\\alpha}^*-\\widehat{ASRE}_{ci_\\alpha}$', fontsize=20);"
   ]
  },
  {
   "cell_type": "markdown",
   "metadata": {},
   "source": [
    "- Compute empirical bootstrap CI for all $N=$`sims` datasets through the `empirical_boot_ci`function\n",
    "\n",
    "- Empirirical bootstrap confidence intervals are $ [2 \\hat{\\theta} - q_{1 - \\alpha/2} ; 2 \\hat{\\theta} - q_{\\alpha/2}  ] $  as described in <br>\n",
    "John Rice, Mathematical Statistics and Data Analysis, 3rd edition, p. 285.\n",
    "\n",
    "- Calculate coverage for 95% empirirical bootstrap confidence intervals"
   ]
  },
  {
   "cell_type": "code",
   "execution_count": 52,
   "metadata": {},
   "outputs": [],
   "source": [
    "def empirical_boot_ci(estimate, boot_estimates, risk_a):\n",
    "    \"\"\"outputs a list of empirical bootstrap CI from a list of estimates and a list of lists of bootstrap estimates\"\"\"\n",
    "    quantiles = np.array([np.nanquantile(boot_estimates[:,dataset],[1-risk_a/2, risk_a/2]) for dataset in range(len(estimate))])\n",
    "    return np.multiply(2,estimate).reshape(len(estimate),1)-quantiles"
   ]
  },
  {
   "cell_type": "code",
   "execution_count": 53,
   "metadata": {},
   "outputs": [],
   "source": [
    "def coverage(true_value, estimate, boot_estimates, risk_a = .05):\n",
    "    \"\"\"outputs coverage from the true value of an estimator (scalar) and a (n_simulation * 2) matrix of confidence intervals\"\"\"\n",
    "    \n",
    "    ci_matrix = empirical_boot_ci(estimate=estimate, boot_estimates=boot_estimates, risk_a=risk_a)\n",
    "    return np.sum([ bound[0] < true_value < bound[1] for bound in ci_matrix ]) / len(estimate)"
   ]
  },
  {
   "cell_type": "code",
   "execution_count": 54,
   "metadata": {},
   "outputs": [],
   "source": [
    "cov_are_A = coverage(true_are, are_hats_A, are_boots_A, risk_a = .05)\n",
    "\n",
    "cov_asre_r_1_3_A = coverage(true_1_3_r_asre, r_1_3_asre_hats_A, asre_r_1_3_boots_A, risk_a = .05) \n",
    "cov_asre_r_2_3_A = coverage(true_2_3_r_asre, r_2_3_asre_hats_A, asre_r_2_3_boots_A, risk_a = .05) \n",
    "\n",
    "cov_asre_cb_1_3_A = coverage(true_1_3_cb_asre, cb_1_3_asre_hats_A, asre_cb_1_3_boots_A, risk_a = .05) \n",
    "cov_asre_cb_2_3_A = coverage(true_2_3_cb_asre, cb_2_3_asre_hats_A, asre_cb_2_3_boots_A, risk_a = .05) \n",
    "\n",
    "cov_asre_ci_95_A = coverage(true_95_ci_asre, ci_95_asre_hats_A, asre_ci_95_boots_A, risk_a = .05) \n",
    "cov_asre_ci_55_A = coverage(true_55_ci_asre, ci_55_asre_hats_A, asre_ci_55_boots_A, risk_a = .05) "
   ]
  },
  {
   "cell_type": "markdown",
   "metadata": {},
   "source": [
    "- print the results for the 7 estimators considered"
   ]
  },
  {
   "cell_type": "code",
   "execution_count": 55,
   "metadata": {},
   "outputs": [
    {
     "name": "stdout",
     "output_type": "stream",
     "text": [
      "0.9 0.9 0.9 0.91 0.95 0.91 0.9\n"
     ]
    }
   ],
   "source": [
    "print(cov_are_A, cov_asre_r_1_3_A, cov_asre_r_2_3_A, cov_asre_cb_1_3_A, cov_asre_cb_2_3_A, cov_asre_ci_95_A, cov_asre_ci_55_A)"
   ]
  },
  {
   "cell_type": "markdown",
   "metadata": {},
   "source": [
    "##### II/ Coverage check in the case where $ \\hat{\\tau}(x)$ is estimated via X-learner\n",
    "- Compute all the information required in each boostrap resample\n",
    "- To speed up computation PS models are not refitted and we re-use the predictions from PS models fitted during the A-learner procedure\n",
    "- In the `ps_cate_preds`function, argument `ps_predictors=boot_computed_A[it][dataset_id].e_hat`can be used to bypass RF-PS fitting with previous LR-fits and speed up computations"
   ]
  },
  {
   "cell_type": "code",
   "execution_count": 56,
   "metadata": {},
   "outputs": [
    {
     "name": "stdout",
     "output_type": "stream",
     "text": [
      "Iteration 0 i.e., 0%\n",
      "Iteration 5 i.e., 5%\n",
      "Iteration 10 i.e., 10%\n",
      "Iteration 15 i.e., 15%\n",
      "Iteration 20 i.e., 20%\n",
      "Iteration 25 i.e., 25%\n",
      "Iteration 30 i.e., 30%\n",
      "Iteration 35 i.e., 35%\n",
      "Iteration 40 i.e., 40%\n",
      "Iteration 45 i.e., 45%\n",
      "Iteration 50 i.e., 50%\n",
      "Iteration 55 i.e., 55%\n",
      "Iteration 60 i.e., 60%\n",
      "Iteration 65 i.e., 65%\n",
      "Iteration 70 i.e., 70%\n",
      "Iteration 75 i.e., 75%\n",
      "Iteration 80 i.e., 80%\n",
      "Iteration 85 i.e., 85%\n",
      "Iteration 90 i.e., 90%\n",
      "Iteration 95 i.e., 95%\n",
      "Iteration 99 i.e., 100%\n"
     ]
    }
   ],
   "source": [
    "boot_computed_X = []    \n",
    "for it, resample in enumerate(resamples):\n",
    "    boot_computed_X.append( [ps_cate_preds(df=data.iloc[resample], method= 'x', progress=1) for dataset_id, data in enumerate(df_list)] )\n",
    "    perc = int(100*it/n_boot)\n",
    "    if perc % 5 == 0:\n",
    "        print(\"Iteration \"+ str(it) + \" i.e., \" + str(perc)+\"%\")"
   ]
  },
  {
   "cell_type": "markdown",
   "metadata": {},
   "source": [
    "- Compute bootstrap estimates for all estimators"
   ]
  },
  {
   "cell_type": "code",
   "execution_count": 57,
   "metadata": {},
   "outputs": [
    {
     "name": "stdout",
     "output_type": "stream",
     "text": [
      "Iteration 0 i.e., 0%\n",
      "Iteration 5 i.e., 5%\n",
      "Iteration 10 i.e., 10%\n",
      "Iteration 15 i.e., 15%\n",
      "Iteration 20 i.e., 20%\n",
      "Iteration 25 i.e., 25%\n",
      "Iteration 30 i.e., 30%\n",
      "Iteration 35 i.e., 35%\n",
      "Iteration 40 i.e., 40%\n",
      "Iteration 45 i.e., 45%\n",
      "Iteration 50 i.e., 50%\n",
      "Iteration 55 i.e., 55%\n",
      "Iteration 60 i.e., 60%\n",
      "Iteration 65 i.e., 65%\n",
      "Iteration 70 i.e., 70%\n",
      "Iteration 75 i.e., 75%\n",
      "Iteration 80 i.e., 80%\n",
      "Iteration 85 i.e., 85%\n",
      "Iteration 90 i.e., 90%\n",
      "Iteration 95 i.e., 95%\n",
      "Iteration 99 i.e., 100%\n"
     ]
    }
   ],
   "source": [
    "are_boots_X = np.ones((n_boots, sims))\n",
    "\n",
    "asre_r_1_3_boots_X = np.ones((n_boots, sims))\n",
    "asre_r_2_3_boots_X = np.ones((n_boots, sims))\n",
    "\n",
    "asre_cb_1_3_boots_X = np.ones((n_boots, sims))\n",
    "asre_cb_2_3_boots_X = np.ones((n_boots, sims))\n",
    "\n",
    "asre_ci_95_boots_X = np.ones((n_boots, sims))\n",
    "asre_ci_55_boots_X = np.ones((n_boots, sims))\n",
    "\n",
    "for boot_i in range(n_boots):\n",
    "    are_boots_X[boot_i] = np.array( [compute_are_hat(data) for data in boot_computed_A[boot_i]] )\n",
    "    \n",
    "    asre_r_1_3_boots_X[boot_i] = np.array( [compute_r_asre_hat(data, alpha=1/3) for data in boot_computed_X[boot_i]])\n",
    "    asre_r_2_3_boots_X[boot_i] = np.array( [compute_r_asre_hat(data, alpha=2/3) for data in boot_computed_X[boot_i]])\n",
    "    \n",
    "    asre_cb_1_3_boots_X[boot_i] = np.array( [compute_cb_asre_hat(data, alpha=1/3) for data in boot_computed_X[boot_i]])\n",
    "    asre_cb_2_3_boots_X[boot_i] = np.array( [compute_cb_asre_hat(data, alpha=2/3) for data in boot_computed_X[boot_i]])\n",
    "    \n",
    "    asre_ci_95_boots_X[boot_i] = np.array( [compute_ci_asre_hat(data, alpha=.05) for data in boot_computed_X[boot_i]])\n",
    "    asre_ci_55_boots_X[boot_i] = np.array( [compute_ci_asre_hat(data, alpha=.45) for data in boot_computed_X[boot_i]])\n",
    "    \n",
    "    perc = int(100*boot_i/n_boot)\n",
    "    if perc % 5 == 0:\n",
    "        print(\"Iteration \"+ str(boot_i) + \" i.e., \" + str(perc)+\"%\")"
   ]
  },
  {
   "cell_type": "markdown",
   "metadata": {},
   "source": [
    "- Investigate asymptotic normality of bootstrap estimates in the first dataset"
   ]
  },
  {
   "cell_type": "markdown",
   "metadata": {},
   "source": [
    "a) Compute original sample estimations for the first dataset"
   ]
  },
  {
   "cell_type": "code",
   "execution_count": 58,
   "metadata": {},
   "outputs": [],
   "source": [
    "df_computed_X = ps_cate_preds(df=df_list[0], method= 'x')\n",
    "\n",
    "are_X = compute_are_hat(df_computed_X)\n",
    "    \n",
    "asre_r_1_3_X = compute_r_asre_hat(df_computed_X, alpha=1/3 )\n",
    "asre_r_2_3_X = compute_r_asre_hat(df_computed_X, alpha=2/3 )\n",
    "    \n",
    "asre_cb_1_3_X = compute_cb_asre_hat(df_computed_X, alpha=1/3 )\n",
    "asre_cb_2_3_X = compute_cb_asre_hat(df_computed_X, alpha=2/3 )\n",
    "    \n",
    "asre_ci_95_X = compute_ci_asre_hat(df_computed_X, alpha=.05 )\n",
    "asre_ci_55_X = compute_ci_asre_hat(df_computed_X, alpha=.45 )\n",
    "\n"
   ]
  },
  {
   "cell_type": "markdown",
   "metadata": {},
   "source": [
    "b) Plot Empirical Bootstrap Distribution as bootstrap percentile method is improper <br>\n",
    "John Rice, Mathematical Statistics and Data Analysis, 3rd edition, p. 285."
   ]
  },
  {
   "cell_type": "code",
   "execution_count": 59,
   "metadata": {},
   "outputs": [
    {
     "data": {
      "image/png": "[encoded data removed]",
      "text/plain": [
       "<Figure size 360x540 with 1 Axes>"
      ]
     },
     "metadata": {
      "needs_background": "light"
     },
     "output_type": "display_data"
    }
   ],
   "source": [
    "plt.figure(figsize=(5,7.5))\n",
    "plt.suptitle(r\"Empirical distribution of $ \\delta^*=\\hat{\\theta}^*-\\hat{\\theta} $\" \"\\n X-learner as base learner\", fontsize=15)\n",
    "\n",
    "plt.hist(are_boots_X[0] - are_X, density=True);\n",
    "plt.xlabel(r'$\\widehat{ARE}^*-\\widehat{ARE}$', fontsize=15);\n",
    "plt.ylabel('Density', fontsize=15);"
   ]
  },
  {
   "cell_type": "code",
   "execution_count": 60,
   "metadata": {},
   "outputs": [
    {
     "data": {
      "image/png": "[encoded data removed]",
      "text/plain": [
       "<Figure size 1440x1440 with 6 Axes>"
      ]
     },
     "metadata": {
      "needs_background": "light"
     },
     "output_type": "display_data"
    }
   ],
   "source": [
    "fig, axs = plt.subplots(2, 3, figsize=(20,20))\n",
    "fig.suptitle(r\"Empirical distribution of $ \\delta^*=\\hat{\\theta}^*-\\hat{\\theta} $\" \"\\n X-learner as base learner\", fontsize=20)\n",
    "\n",
    "axs[0,0].hist(asre_r_1_3_boots_X[0] - asre_r_1_3_X, density=True);\n",
    "axs[0,0].set_title(r'$\\alpha=1/3}$', fontsize=20)\n",
    "axs[0,0].set_ylabel('Density', fontsize=20)\n",
    "\n",
    "axs[1,0].hist(asre_r_2_3_boots_X[0] - asre_r_2_3_X, density=True) ;\n",
    "axs[1,0].set_title(r'$\\alpha=2/3}$', fontsize=20)\n",
    "axs[1,0].set_xlabel(r'$\\widehat{ASRE}_{unif_\\alpha}^*-\\widehat{ASRE}_{unif_\\alpha}$', fontsize=20)\n",
    "axs[1,0].set_ylabel('Density', fontsize=20)\n",
    "\n",
    "axs[0,1].hist(asre_cb_1_3_boots_X[0] - asre_cb_1_3_X, density=True) ;\n",
    "axs[0,1].set_title(r'$\\alpha=1/3}$', fontsize=20)\n",
    "axs[1,1].hist(asre_cb_2_3_boots_X[0] - asre_cb_2_3_X, density=True) ;\n",
    "axs[1,1].set_title(r'$\\alpha=2/3}$', fontsize=20)\n",
    "axs[1,1].set_xlabel(r'$\\widehat{ASRE}_{cb_\\alpha}^*-\\widehat{ASRE}_{cb_\\alpha}$', fontsize=20);\n",
    "\n",
    "axs[0,2].hist(asre_ci_95_boots_X[0] - asre_ci_95_X, density=True) ;\n",
    "axs[0,2].set_title(r'$\\alpha=0.05}$', fontsize=20)\n",
    "axs[1,2].hist(asre_ci_55_boots_X[0] - asre_ci_55_X, density=True) ;\n",
    "axs[1,2].set_title(r'$\\alpha=0.45}$', fontsize=20)\n",
    "axs[1,2].set_xlabel(r'$\\widehat{ASRE}_{ci_\\alpha}^*-\\widehat{ASRE}_{ci_\\alpha}$', fontsize=20);"
   ]
  },
  {
   "cell_type": "markdown",
   "metadata": {},
   "source": [
    "- Calculate coverage for 95% empirirical bootstrap confidence intervals"
   ]
  },
  {
   "cell_type": "code",
   "execution_count": 61,
   "metadata": {},
   "outputs": [],
   "source": [
    "cov_are_X = coverage(true_are, are_hats_X, are_boots_X, risk_a = .05)\n",
    "\n",
    "cov_asre_r_1_3_X = coverage(true_1_3_r_asre, r_1_3_asre_hats_X, asre_r_1_3_boots_X, risk_a = .05) \n",
    "cov_asre_r_2_3_X = coverage(true_2_3_r_asre, r_2_3_asre_hats_X, asre_r_2_3_boots_X, risk_a = .05) \n",
    "\n",
    "cov_asre_cb_1_3_X = coverage(true_1_3_cb_asre, cb_1_3_asre_hats_X, asre_cb_1_3_boots_X, risk_a = .05) \n",
    "cov_asre_cb_2_3_X = coverage(true_2_3_cb_asre, cb_2_3_asre_hats_X, asre_cb_2_3_boots_X, risk_a = .05) \n",
    "\n",
    "cov_asre_ci_95_X = coverage(true_95_ci_asre, ci_95_asre_hats_X, asre_ci_95_boots_X, risk_a = .05) \n",
    "cov_asre_ci_55_X = coverage(true_55_ci_asre, ci_55_asre_hats_X, asre_ci_55_boots_X, risk_a = .05) "
   ]
  },
  {
   "cell_type": "markdown",
   "metadata": {},
   "source": [
    "- print the results for the 7 estimators considered"
   ]
  },
  {
   "cell_type": "code",
   "execution_count": 62,
   "metadata": {},
   "outputs": [
    {
     "name": "stdout",
     "output_type": "stream",
     "text": [
      "0.61 0.67 0.67 0.26 0.2 0.67 0.67\n"
     ]
    }
   ],
   "source": [
    "print(cov_are_X, cov_asre_r_1_3_X, cov_asre_r_2_3_X, cov_asre_cb_1_3_X, cov_asre_cb_2_3_X, cov_asre_ci_95_X, cov_asre_ci_55_X)"
   ]
  }
 ],
 "metadata": {
  "kernelspec": {
   "display_name": "Python 3",
   "language": "python",
   "name": "python3"
  },
  "language_info": {
   "codemirror_mode": {
    "name": "ipython",
    "version": 3
   },
   "file_extension": ".py",
   "mimetype": "text/x-python",
   "name": "python",
   "nbconvert_exporter": "python",
   "pygments_lexer": "ipython3",
   "version": "3.8.5"
  }
 },
 "nbformat": 4,
 "nbformat_minor": 4
}
