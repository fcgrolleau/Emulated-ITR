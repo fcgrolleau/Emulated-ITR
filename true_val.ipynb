{
 "cells": [
  {
   "cell_type": "code",
   "execution_count": 7,
   "metadata": {},
   "outputs": [],
   "source": [
    "import numpy as np\n",
    "import pandas as pd\n",
    "import scipy.stats as st"
   ]
  },
  {
   "cell_type": "code",
   "execution_count": 8,
   "metadata": {},
   "outputs": [],
   "source": [
    "nsim = 20000"
   ]
  },
  {
   "cell_type": "code",
   "execution_count": 9,
   "metadata": {},
   "outputs": [],
   "source": [
    "def gen_data(n, sims):\n",
    "    np.random.seed(1015033030)\n",
    "    \n",
    "    ids = []  # Generating simulation IDs\n",
    "    for i in range(sims):\n",
    "        ids.extend([i + 1] * n)\n",
    "\n",
    "    df = pd.DataFrame()\n",
    "    df['sim_id'] = ids\n",
    "\n",
    "    # Creating confounders\n",
    "    df['age'] = np.round(np.random.normal(65, 10, size=n * sims), 0)  \n",
    "    df['crcl_log'] = np.random.normal(np.log(110), 0.18, size=n * sims) - 0.005 * df['age']\n",
    "    df['crcl'] = np.exp(df['crcl_log'])\n",
    "    df['diabetes'] = np.random.binomial(n=1, p=st.logistic.cdf(-6.73 + 0.03 * df['crcl_log'] + 0.02 * df['age'] +\n",
    "                                                            0.0009 * df['age'] ** 2), size=n * sims)\n",
    "    df['insulin'] = np.where(df['diabetes']==1,\n",
    "                        np.random.binomial(n=1, p=st.logistic.cdf(-4.16 + 0.04 * df['crcl_log'] - 0.02 * df['age'] +\n",
    "                                                            0.0009 * df['age'] ** 2), size=n * sims),\n",
    "                             0)\n",
    "    df['lvef'] = np.random.beta(11, 7, size=n * sims)*100 - 0.06 * df['age']\n",
    "    df['smoking'] = np.random.binomial(n=1, p=.21, size=n * sims)\n",
    "    df['pvd'] = np.random.binomial(n=1, p=st.logistic.cdf(-5.62 + 0.03 * df['smoking'] - 0.02 * df['age'] +\n",
    "                                                            0.0009 * df['age'] ** 2), size=n * sims)\n",
    "    df['copd'] = np.random.binomial(n=1, p=st.logistic.cdf(-2.71 + 0.03 * df['smoking'] + 0.01 * df['pvd']), size=n * sims)\n",
    "\n",
    "    df['tvd_lmcad'] = st.betabinom.rvs(2, .4, .7, loc=0, size=n * sims, random_state=None) #nb 0=3vd only, 1=lmcad only, 2=both\n",
    "\n",
    "    # One-hot encoding\n",
    "    df['tvd'] = np.where(df['tvd_lmcad']==0, 1, 0)\n",
    "    df['lmcad'] = np.where(df['tvd_lmcad']==1, 1, 0)\n",
    "    df['both'] = np.where(df['tvd_lmcad']==2, 1, 0)\n",
    "\n",
    "    ## Define and run a function that generates anatomical SYNTAX scores\n",
    "    def sim_anat_syntax(tvd_lmcad):\n",
    "        \"\"\"simulate anatomic syntax scores from coronary disease type.\"\"\"\n",
    "        from zepid.sensitivity_analysis import trapezoidal\n",
    "\n",
    "        dummy_mat=np.stack([tvd_lmcad==0, tvd_lmcad==1, tvd_lmcad==2], axis=1)\n",
    "\n",
    "        tvd=trapezoidal(3,10,10,50, len(tvd_lmcad))\n",
    "        lmcad=trapezoidal(4,20,20,50, len(tvd_lmcad))\n",
    "        both=trapezoidal(7,10,30,60, len(tvd_lmcad))\n",
    "\n",
    "        return(dummy_mat[:,0]*tvd + dummy_mat[:,1]*lmcad + dummy_mat[:,2]*both)\n",
    "\n",
    "    df['syntax']= np.round(sim_anat_syntax(df['tvd_lmcad']))\n",
    "\n",
    "    ## Treatment allocation mechanism (True Propensity Score)\n",
    "    df['cabg_pr'] = st.logistic.cdf(-2.971\n",
    "                               + 0.049 * (df['age'] - 30)\n",
    "                               - 0.001 * (df['age'] - 30)**2\n",
    "                               + 0.212 * df['crcl_log']\n",
    "                               + 0.973 * np.where(df['crcl_log'] > np.log(100), 1, 0)\n",
    "                               - 0.386 * df['copd']\n",
    "                               # Treatment-assignment based on disease type\n",
    "                               + 1.973 * df['lmcad']\n",
    "                               + 2.973 * df['both']\n",
    "                               )\n",
    "    df['cabg'] = np.random.binomial(n=1, p=df['cabg_pr'], size=n*sims)\n",
    "\n",
    "    ## Potential outcomes\n",
    "    def syntax2020(age, crcl, lvef, copd, pvd, diabetes, insulin, smoking, tvd, lmcad, syntax, cabg):\n",
    "        return 1-np.exp(-0.243 *np.exp(0.99 * (0.72*age/10 - 0.07 * np.where(crcl<90, crcl ,90)/10 -0.31 * np.where(lvef<50, lvef, 50)/10 + 0.48 * copd + 0.73 * pvd + 0.20 * diabetes \n",
    "                    + 0.46 * insulin + 0.66 * smoking)\n",
    "                    - 0.4 * cabg * tvd - 0.08 * cabg * lmcad - 0.1 * (1 - cabg) * lmcad + .16 * (1-cabg) * (syntax - 29)/10 -2.80))\n",
    "    \n",
    "    df['prY1'] = df.apply(lambda row : syntax2020(age=row['age'], crcl=np.exp(row['crcl_log']), lvef=row['lvef'],\n",
    "                                copd=row['copd'], pvd=row['pvd'], diabetes=row['diabetes'],\n",
    "                                 insulin=row['insulin'], smoking=row['smoking'], tvd=row['tvd_lmcad']==0,\n",
    "                                 lmcad=row['tvd_lmcad']==1, syntax=row['syntax'],\n",
    "                                 cabg=1), axis = 1)\n",
    "\n",
    "    df['Y1'] = np.random.binomial(n=1, p=df['prY1'], size=n*sims)\n",
    "\n",
    "    df['prY0'] = df.apply(lambda row : syntax2020(age=row['age'], crcl=np.exp(row['crcl_log']), lvef=row['lvef'],\n",
    "                                copd=row['copd'], pvd=row['pvd'], diabetes=row['diabetes'],\n",
    "                                 insulin=row['insulin'], smoking=row['smoking'], tvd=row['tvd_lmcad']==0,\n",
    "                                 lmcad=row['tvd_lmcad']==1, syntax=row['syntax'],\n",
    "                                 cabg=0), axis = 1)\n",
    "\n",
    "    df['Y0'] = np.random.binomial(n=1, p=df['prY0'], size=n*sims)\n",
    "\n",
    "    df['Y'] = np.where(df['cabg'] == 1, df['Y1'], df['Y0'])  # causal consistency\n",
    "\n",
    "    df['true_cate'] = df['prY1'] - df['prY0']\n",
    "\n",
    "    df['pred_cate'] = df['true_cate']\n",
    "    \n",
    "    return df"
   ]
  },
  {
   "cell_type": "code",
   "execution_count": 10,
   "metadata": {},
   "outputs": [],
   "source": [
    "large_df = gen_data(nsim, 1)"
   ]
  },
  {
   "cell_type": "markdown",
   "metadata": {},
   "source": [
    "#### Define functions for the true ARE and true ASREs (three stochastic implementations as described below)"
   ]
  },
  {
   "cell_type": "code",
   "execution_count": 11,
   "metadata": {},
   "outputs": [],
   "source": [
    "def compute_true_are(df):\n",
    "    \"\"\"Compute true ARE from the true ps and the true cate\"\"\"\n",
    "    true_are = np.mean( ( (df.pred_cate<0) - df.cabg_pr)*df.true_cate)\n",
    "    return true_are"
   ]
  },
  {
   "cell_type": "code",
   "execution_count": 12,
   "metadata": {},
   "outputs": [],
   "source": [
    "def compute_true_r_asre(df, alpha):\n",
    "    \"\"\"Compute true uniform/random ASRE from the true ps and the true cate\n",
    "    alpha is the uniform/random parameter (bounded between 0 and 1) \"\"\"\n",
    "    df_temp = df\n",
    "    df_temp['p_x'] = np.repeat(alpha, len(df))\n",
    "    true_r_asre = np.mean( df_temp.p_x * ( (df_temp.pred_cate<0) - df_temp.cabg_pr)*df_temp.true_cate)\n",
    "    return true_r_asre"
   ]
  },
  {
   "cell_type": "code",
   "execution_count": 13,
   "metadata": {},
   "outputs": [],
   "source": [
    "def syntax_iHR_ci(df, alpha=.05):\n",
    "    \"\"\"Get individualized HR and 1-alpha CI from SYNTAX 2020\"\"\"\n",
    "    \n",
    "    coef_mod2=np.array([0.99, -0.40, -0.08, -0.10, 0.16])\n",
    "    VCOV=np.array(  [[3.17E-03, -1.58E-04, -2.68E-04,2.56E-04,-3.78E-04],\n",
    "                     [-1.58E-04,1.53E-02,6.56E-03,6.48E-03,1.45E-04],\n",
    "                     [-2.68E-04,6.56E-03,1.68E-02,6.47E-03,1.62E-04],\n",
    "                     [2.56E-04,6.48E-03,6.47E-03,1.75E-02,-1.08E-03],\n",
    "                     [-3.78E-04,1.45E-04,1.62E-04,-1.08E-03,2.84E-03]])\n",
    "    \n",
    "    X_cabg=np.stack([np.repeat(99,len(df)), 1* (df.tvd_lmcad==0), 1* (df.tvd_lmcad==1), 0 * np.array(df.tvd_lmcad==1), 0 * (df.syntax-29) / 10]).T # NB PIs don't contribute as it cancel out\n",
    "    X_pci=np.stack([np.repeat(99,len(df)), 0* (df.tvd_lmcad==0), 0* (df.tvd_lmcad==1), 1 * np.array(df.tvd_lmcad==1), 1 * (df.syntax-29) / 10]).T # in the substraction (here set at 99)\n",
    "    X_diff=X_cabg-X_pci\n",
    "    log_iHR = np.matmul(X_diff, coef_mod2)\n",
    "    df_temp = df.copy()\n",
    "    df_temp['pred_hr'] = np.exp(log_iHR)\n",
    "    \n",
    "    log_iHR_se=X_diff.dot(VCOV).dot(X_diff.T).diagonal()\n",
    "    \n",
    "    temp = np.stack( [log_iHR, log_iHR-st.norm.ppf(1-alpha/2)*log_iHR_se, log_iHR+st.norm.ppf(1-alpha/2)*log_iHR_se])\n",
    "    iHR_CI = np.exp(temp.T)\n",
    "    df_temp['iHR']= iHR_CI[:,0]\n",
    "    df_temp['iHR_lb']= iHR_CI[:,1]\n",
    "    df_temp['iHR_ub']= iHR_CI[:,2]\n",
    "    \n",
    "    significant = ((df_temp['iHR_lb']<1) == (df_temp['iHR_ub']<1))\n",
    "    \n",
    "    df_temp['significance'] = significant\n",
    "    \n",
    "    return df_temp\n",
    "\n",
    "def compute_true_ci_asre(df, alpha):\n",
    "    \"\"\"Compute true CI ASRE from the true ps and the true cate\"\"\"\n",
    "    df_temp = syntax_iHR_ci(df, alpha)\n",
    "    true_ci_asre = np.mean( df_temp.significance * ( (df_temp.pred_cate<0) - df_temp.cabg_pr)*df_temp.true_cate)\n",
    "    return true_ci_asre"
   ]
  },
  {
   "cell_type": "code",
   "execution_count": 14,
   "metadata": {},
   "outputs": [],
   "source": [
    "def legit(x):\n",
    "    return .5 * np.log((x+1)/(1-x))\n",
    "\n",
    "def compute_true_cb_asre(df, alpha):\n",
    "    \"\"\"Compute true cognitive biais ASRE from the true ps and the true cate,\n",
    "    alpha is the cognitive biais parameter (bounded between 0 and 1) \"\"\"\n",
    "    df_temp = df\n",
    "    df_temp['p_x'] = (1 - np.abs( (df_temp['pred_cate']<0) - df_temp['cabg_pr']) ) ** legit(alpha)\n",
    "    true_cb_asre = np.mean( df_temp.p_x * ( (df_temp.pred_cate<0) - df_temp.cabg_pr)*df_temp.true_cate)\n",
    "    return true_cb_asre"
   ]
  },
  {
   "cell_type": "markdown",
   "metadata": {},
   "source": [
    "#### Run these functions on the large simulated dataframe ( `nsim` observations)"
   ]
  },
  {
   "cell_type": "code",
   "execution_count": 15,
   "metadata": {},
   "outputs": [],
   "source": [
    "true_are = compute_true_are(large_df)\n",
    "\n",
    "true_1_3_r_asre = compute_true_r_asre(large_df, 1/3)\n",
    "true_2_3_r_asre = compute_true_r_asre(large_df, 2/3)\n",
    "\n",
    "true_95_ci_asre = compute_true_ci_asre(large_df, .05)\n",
    "true_55_ci_asre = compute_true_ci_asre(large_df, .45)\n",
    "\n",
    "true_1_3_cb_asre = compute_true_cb_asre(large_df, 1/3)\n",
    "true_2_3_cb_asre = compute_true_cb_asre(large_df, 2/3)"
   ]
  },
  {
   "cell_type": "code",
   "execution_count": null,
   "metadata": {},
   "outputs": [],
   "source": []
  }
 ],
 "metadata": {
  "kernelspec": {
   "display_name": "Python 3",
   "language": "python",
   "name": "python3"
  },
  "language_info": {
   "codemirror_mode": {
    "name": "ipython",
    "version": 3
   },
   "file_extension": ".py",
   "mimetype": "text/x-python",
   "name": "python",
   "nbconvert_exporter": "python",
   "pygments_lexer": "ipython3",
   "version": "3.8.5"
  }
 },
 "nbformat": 4,
 "nbformat_minor": 4
}
